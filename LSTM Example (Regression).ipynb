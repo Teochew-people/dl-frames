{
 "cells": [
  {
   "cell_type": "markdown",
   "metadata": {},
   "source": [
    "## 长短时神经网络——Regression example"
   ]
  },
  {
   "cell_type": "markdown",
   "metadata": {},
   "source": [
    "这里刚好有个小 tip，我们做 两个 model\n",
    "\n",
    "即：是否对 y 进行标准化并不是一个**对错问题，且一般不对 y 进行标准化操作！**\n",
    "\n",
    "值得注意的问题是：\n",
    "1. 不对 y 进行标准化，收敛较慢，loss 可能会大一些，但精度有保证。\n",
    "2. 对 y 进行标准化后，最后要对 y 反标准化，虽然收敛速度会加快，但容易过拟合，且在反标准化的过程中，会使精度丢失！"
   ]
  },
  {
   "cell_type": "markdown",
   "metadata": {},
   "source": [
    "### model 1: 不对 y 进行标准化"
   ]
  },
  {
   "cell_type": "code",
   "execution_count": 1,
   "metadata": {},
   "outputs": [],
   "source": [
    "import numpy as np\n",
    "import pandas as pd"
   ]
  },
  {
   "cell_type": "code",
   "execution_count": 2,
   "metadata": {},
   "outputs": [],
   "source": [
    "# 导入数据集\n",
    "stock_file = './dataset/dataset.csv'\n",
    "stock = pd.read_csv(stock_file)"
   ]
  },
  {
   "cell_type": "code",
   "execution_count": 3,
   "metadata": {},
   "outputs": [
    {
     "data": {
      "text/html": [
       "<div>\n",
       "<style scoped>\n",
       "    .dataframe tbody tr th:only-of-type {\n",
       "        vertical-align: middle;\n",
       "    }\n",
       "\n",
       "    .dataframe tbody tr th {\n",
       "        vertical-align: top;\n",
       "    }\n",
       "\n",
       "    .dataframe thead th {\n",
       "        text-align: right;\n",
       "    }\n",
       "</style>\n",
       "<table border=\"1\" class=\"dataframe\">\n",
       "  <thead>\n",
       "    <tr style=\"text-align: right;\">\n",
       "      <th></th>\n",
       "      <th>Month</th>\n",
       "      <th>values</th>\n",
       "    </tr>\n",
       "  </thead>\n",
       "  <tbody>\n",
       "    <tr>\n",
       "      <th>0</th>\n",
       "      <td>Jan-49</td>\n",
       "      <td>112</td>\n",
       "    </tr>\n",
       "    <tr>\n",
       "      <th>1</th>\n",
       "      <td>Feb-49</td>\n",
       "      <td>118</td>\n",
       "    </tr>\n",
       "    <tr>\n",
       "      <th>2</th>\n",
       "      <td>Mar-49</td>\n",
       "      <td>132</td>\n",
       "    </tr>\n",
       "    <tr>\n",
       "      <th>3</th>\n",
       "      <td>Apr-49</td>\n",
       "      <td>129</td>\n",
       "    </tr>\n",
       "    <tr>\n",
       "      <th>4</th>\n",
       "      <td>May-49</td>\n",
       "      <td>121</td>\n",
       "    </tr>\n",
       "  </tbody>\n",
       "</table>\n",
       "</div>"
      ],
      "text/plain": [
       "    Month  values\n",
       "0  Jan-49     112\n",
       "1  Feb-49     118\n",
       "2  Mar-49     132\n",
       "3  Apr-49     129\n",
       "4  May-49     121"
      ]
     },
     "execution_count": 3,
     "metadata": {},
     "output_type": "execute_result"
    }
   ],
   "source": [
    "stock.head(5)"
   ]
  },
  {
   "cell_type": "code",
   "execution_count": 4,
   "metadata": {},
   "outputs": [],
   "source": [
    "label = stock['values']"
   ]
  },
  {
   "cell_type": "code",
   "execution_count": 5,
   "metadata": {},
   "outputs": [
    {
     "data": {
      "image/png": "[encoded data removed]",
      "text/plain": [
       "<Figure size 432x288 with 1 Axes>"
      ]
     },
     "metadata": {
      "needs_background": "light"
     },
     "output_type": "display_data"
    }
   ],
   "source": [
    "import matplotlib.pyplot as plt\n",
    "%matplotlib inline\n",
    "\n",
    "plt.plot(range(len(label)), label, 'r--')\n",
    "plt.show()"
   ]
  },
  {
   "cell_type": "code",
   "execution_count": 6,
   "metadata": {},
   "outputs": [
    {
     "name": "stdout",
     "output_type": "stream",
     "text": [
      "object\n"
     ]
    },
    {
     "data": {
      "text/plain": [
       "(144, 1)"
      ]
     },
     "execution_count": 6,
     "metadata": {},
     "output_type": "execute_result"
    }
   ],
   "source": [
    "dataset = stock.values[:, -1:]\n",
    "print(dataset.dtype)\n",
    "dataset.shape"
   ]
  },
  {
   "cell_type": "code",
   "execution_count": 7,
   "metadata": {},
   "outputs": [
    {
     "name": "stdout",
     "output_type": "stream",
     "text": [
      "float32\n"
     ]
    }
   ],
   "source": [
    "# Because the type of dataset is object, we need to change the type to 'float32'\n",
    "dataset = dataset.astype(np.float32)\n",
    "print(dataset.dtype)"
   ]
  },
  {
   "cell_type": "markdown",
   "metadata": {},
   "source": [
    "### 调用 tools 里面的 create_dataset 函数，构造适应的数据集，look_back 默认为 7，即 (x-7) 天预测第 x 天"
   ]
  },
  {
   "cell_type": "markdown",
   "metadata": {},
   "source": [
    "构造数据集的时候，一般而言，会将 y 也作为 X 的一部分，故 need_label 默认为 True， 当然也可以设置为 False，不用 y 作为 input"
   ]
  },
  {
   "cell_type": "code",
   "execution_count": 8,
   "metadata": {},
   "outputs": [],
   "source": [
    "from frames.tools import create_dataset\n",
    "\n",
    "X, y = create_dataset(dataset, look_back=2, need_label=True)"
   ]
  },
  {
   "cell_type": "code",
   "execution_count": 9,
   "metadata": {},
   "outputs": [
    {
     "name": "stdout",
     "output_type": "stream",
     "text": [
      "(142, 2, 1)\n",
      "(142, 1)\n"
     ]
    }
   ],
   "source": [
    "print(X.shape)\n",
    "print(y.shape)"
   ]
  },
  {
   "cell_type": "markdown",
   "metadata": {},
   "source": [
    "### 切割数据集"
   ]
  },
  {
   "cell_type": "code",
   "execution_count": 10,
   "metadata": {},
   "outputs": [],
   "source": [
    "from frames.tools import train_test_split\n",
    "\n",
    "X_train, X_test, y_train, y_test = train_test_split(X, y, test_size=0.2, random_state=19)"
   ]
  },
  {
   "cell_type": "code",
   "execution_count": 11,
   "metadata": {},
   "outputs": [
    {
     "name": "stdout",
     "output_type": "stream",
     "text": [
      "(113, 2, 1) (29, 2, 1) (113, 1) (29, 1)\n",
      "float32 float32\n"
     ]
    }
   ],
   "source": [
    "print(X_train.shape, X_test.shape, y_train.shape, y_test.shape)\n",
    "print(X_train.dtype, y_train.dtype)"
   ]
  },
  {
   "cell_type": "markdown",
   "metadata": {},
   "source": [
    "### 调用 DeeplearningRegression 里面的 LSTM 框架"
   ]
  },
  {
   "cell_type": "code",
   "execution_count": 12,
   "metadata": {},
   "outputs": [],
   "source": [
    "from frames.DeeplearningRegression import LSTM\n",
    "\n",
    "'''\n",
    "参数说明：\n",
    "hidden_layers: 隐藏层神经元个数，传入 int\n",
    "num_layers: lstm 层数，传入 int\n",
    "learning rete: 学习率，这里可以是一个 float，也可以是一个 len=3 的 list，当 lr 是 list 的时候，采用梯度衰减策略\n",
    "activate function: 激活函数，默认 relu，改激活函数输入小写字符串即可，如：'tanh','sigmoid'\n",
    "dropout: 默认为 0，即不采用，这个参数是为了防止训练过拟合\n",
    "epoch: 训练批次，默认 2000\n",
    "batch_size: 默认 128\n",
    "\n",
    "save_path: 默认'LSTM_Results'\n",
    "is_standard: str\n",
    "Dimensionality_reduction_method: 降维方法\n",
    "'''\n",
    "save_path = 'Example_results/Regression/LSTM_Results'\n",
    "lstm = LSTM(learning_rate=[1e-2, 1e-4, 1e-6], num_layers=2, hidden_size=32, \n",
    "            epoch=5000, batch_size=256, save_path=save_path, \n",
    "            is_standard=False, Dimensionality_reduction_method='None') # 采用梯度衰减策略"
   ]
  },
  {
   "cell_type": "code",
   "execution_count": 13,
   "metadata": {
    "scrolled": true
   },
   "outputs": [
    {
     "name": "stdout",
     "output_type": "stream",
     "text": [
      "Training... epoch: 100, loss: 1179.289794921875\n",
      "\u001b[1;35m Testing... epoch: 100, loss: 1011.5114135742188 \u001b[0m!\n",
      "Training... epoch: 200, loss: 1092.4091796875\n",
      "\u001b[1;35m Testing... epoch: 200, loss: 871.4385986328125 \u001b[0m!\n",
      "Training... epoch: 300, loss: 1110.0908203125\n",
      "\u001b[1;35m Testing... epoch: 300, loss: 999.0650024414062 \u001b[0m!\n",
      "Training... epoch: 400, loss: 1090.038818359375\n",
      "\u001b[1;35m Testing... epoch: 400, loss: 948.0872192382812 \u001b[0m!\n",
      "Training... epoch: 500, loss: 1104.7371826171875\n",
      "\u001b[1;35m Testing... epoch: 500, loss: 893.5534057617188 \u001b[0m!\n",
      "Training... epoch: 600, loss: 1091.908203125\n",
      "\u001b[1;35m Testing... epoch: 600, loss: 890.5523681640625 \u001b[0m!\n",
      "Training... epoch: 700, loss: 1072.6202392578125\n",
      "\u001b[1;35m Testing... epoch: 700, loss: 876.5125122070312 \u001b[0m!\n",
      "Training... epoch: 800, loss: 1122.939208984375\n",
      "\u001b[1;35m Testing... epoch: 800, loss: 898.55810546875 \u001b[0m!\n",
      "Training... epoch: 900, loss: 1069.182373046875\n",
      "\u001b[1;35m Testing... epoch: 900, loss: 886.517333984375 \u001b[0m!\n",
      "Training... epoch: 1000, loss: 1148.755859375\n",
      "\u001b[1;35m Testing... epoch: 1000, loss: 930.075439453125 \u001b[0m!\n",
      "Training... epoch: 1100, loss: 1108.732666015625\n",
      "\u001b[1;35m Testing... epoch: 1100, loss: 836.6048583984375 \u001b[0m!\n",
      "Training... epoch: 1200, loss: 1122.1689453125\n",
      "\u001b[1;35m Testing... epoch: 1200, loss: 840.001953125 \u001b[0m!\n",
      "Training... epoch: 1300, loss: 2353.142822265625\n",
      "\u001b[1;35m Testing... epoch: 1300, loss: 1691.3055419921875 \u001b[0m!\n",
      "Training... epoch: 1400, loss: 1768.3260498046875\n",
      "\u001b[1;35m Testing... epoch: 1400, loss: 1432.84033203125 \u001b[0m!\n",
      "Training... epoch: 1500, loss: 1552.7757568359375\n",
      "\u001b[1;35m Testing... epoch: 1500, loss: 1350.5286865234375 \u001b[0m!\n",
      "Training... epoch: 1600, loss: 1405.76806640625\n",
      "\u001b[1;35m Testing... epoch: 1600, loss: 1234.539306640625 \u001b[0m!\n",
      "Training... epoch: 1700, loss: 1326.0252685546875\n",
      "\u001b[1;35m Testing... epoch: 1700, loss: 1166.96484375 \u001b[0m!\n",
      "Training... epoch: 1800, loss: 1257.8582763671875\n",
      "\u001b[1;35m Testing... epoch: 1800, loss: 1181.252197265625 \u001b[0m!\n",
      "Training... epoch: 1900, loss: 1221.755126953125\n",
      "\u001b[1;35m Testing... epoch: 1900, loss: 1151.208740234375 \u001b[0m!\n",
      "Training... epoch: 2000, loss: 1200.6470947265625\n",
      "\u001b[1;35m Testing... epoch: 2000, loss: 1127.541015625 \u001b[0m!\n",
      "Training... epoch: 2100, loss: 1210.3851318359375\n",
      "\u001b[1;35m Testing... epoch: 2100, loss: 1136.35400390625 \u001b[0m!\n",
      "Training... epoch: 2200, loss: 1186.5716552734375\n",
      "\u001b[1;35m Testing... epoch: 2200, loss: 1099.3211669921875 \u001b[0m!\n",
      "Training... epoch: 2300, loss: 1164.028564453125\n",
      "\u001b[1;35m Testing... epoch: 2300, loss: 1069.5615234375 \u001b[0m!\n",
      "Training... epoch: 2400, loss: 1157.1527099609375\n",
      "\u001b[1;35m Testing... epoch: 2400, loss: 1099.173583984375 \u001b[0m!\n",
      "Training... epoch: 2500, loss: 1148.1826171875\n",
      "\u001b[1;35m Testing... epoch: 2500, loss: 1096.1502685546875 \u001b[0m!\n",
      "Training... epoch: 2600, loss: 1145.392578125\n",
      "\u001b[1;35m Testing... epoch: 2600, loss: 1025.5087890625 \u001b[0m!\n",
      "Training... epoch: 2700, loss: 1142.515625\n",
      "\u001b[1;35m Testing... epoch: 2700, loss: 1017.6416625976562 \u001b[0m!\n",
      "Training... epoch: 2800, loss: 1143.305908203125\n",
      "\u001b[1;35m Testing... epoch: 2800, loss: 1031.6944580078125 \u001b[0m!\n",
      "Training... epoch: 2900, loss: 1131.0352783203125\n",
      "\u001b[1;35m Testing... epoch: 2900, loss: 969.8505249023438 \u001b[0m!\n",
      "Training... epoch: 3000, loss: 1123.6009521484375\n",
      "\u001b[1;35m Testing... epoch: 3000, loss: 1002.4718017578125 \u001b[0m!\n",
      "Training... epoch: 3100, loss: 1122.5570068359375\n",
      "\u001b[1;35m Testing... epoch: 3100, loss: 1004.015625 \u001b[0m!\n",
      "Training... epoch: 3200, loss: 1123.0489501953125\n",
      "\u001b[1;35m Testing... epoch: 3200, loss: 1011.1062622070312 \u001b[0m!\n",
      "Training... epoch: 3300, loss: 1119.7744140625\n",
      "\u001b[1;35m Testing... epoch: 3300, loss: 963.3704223632812 \u001b[0m!\n",
      "Training... epoch: 3400, loss: 1109.1888427734375\n",
      "\u001b[1;35m Testing... epoch: 3400, loss: 976.426513671875 \u001b[0m!\n",
      "Training... epoch: 3500, loss: 1108.41845703125\n",
      "\u001b[1;35m Testing... epoch: 3500, loss: 974.1231079101562 \u001b[0m!\n",
      "Training... epoch: 3600, loss: 1108.0948486328125\n",
      "\u001b[1;35m Testing... epoch: 3600, loss: 973.1292724609375 \u001b[0m!\n",
      "Training... epoch: 3700, loss: 1108.0040283203125\n",
      "\u001b[1;35m Testing... epoch: 3700, loss: 973.0662841796875 \u001b[0m!\n",
      "Training... epoch: 3800, loss: 1107.9512939453125\n",
      "\u001b[1;35m Testing... epoch: 3800, loss: 973.0134887695312 \u001b[0m!\n",
      "Training... epoch: 3900, loss: 1107.920654296875\n",
      "\u001b[1;35m Testing... epoch: 3900, loss: 972.9035034179688 \u001b[0m!\n",
      "Training... epoch: 4000, loss: 1107.90283203125\n",
      "\u001b[1;35m Testing... epoch: 4000, loss: 972.7706298828125 \u001b[0m!\n",
      "Training... epoch: 4100, loss: 1107.8914794921875\n",
      "\u001b[1;35m Testing... epoch: 4100, loss: 972.6708374023438 \u001b[0m!\n",
      "Training... epoch: 4200, loss: 1107.8834228515625\n",
      "\u001b[1;35m Testing... epoch: 4200, loss: 972.6047973632812 \u001b[0m!\n",
      "Training... epoch: 4300, loss: 1107.877685546875\n",
      "\u001b[1;35m Testing... epoch: 4300, loss: 972.5625610351562 \u001b[0m!\n",
      "Training... epoch: 4400, loss: 1107.8729248046875\n",
      "\u001b[1;35m Testing... epoch: 4400, loss: 972.5375366210938 \u001b[0m!\n",
      "Training... epoch: 4500, loss: 1107.8687744140625\n",
      "\u001b[1;35m Testing... epoch: 4500, loss: 972.5366821289062 \u001b[0m!\n",
      "Training... epoch: 4600, loss: 1107.86474609375\n",
      "\u001b[1;35m Testing... epoch: 4600, loss: 972.5540161132812 \u001b[0m!\n",
      "Training... epoch: 4700, loss: 1107.8609619140625\n",
      "\u001b[1;35m Testing... epoch: 4700, loss: 972.591796875 \u001b[0m!\n",
      "Training... epoch: 4800, loss: 1107.8572998046875\n",
      "\u001b[1;35m Testing... epoch: 4800, loss: 972.6467895507812 \u001b[0m!\n",
      "Training... epoch: 4900, loss: 1107.8531494140625\n",
      "\u001b[1;35m Testing... epoch: 4900, loss: 972.7144775390625 \u001b[0m!\n",
      "Training... epoch: 5000, loss: 1107.8494873046875\n",
      "\u001b[1;35m Testing... epoch: 5000, loss: 972.7925415039062 \u001b[0m!\n",
      "Training completed!!! Time consuming: 21.023921966552734\n"
     ]
    }
   ],
   "source": [
    "lstm.fit(X_train, y_train, X_test, y_test)"
   ]
  },
  {
   "cell_type": "markdown",
   "metadata": {},
   "source": [
    "### 调用 score 得到结果"
   ]
  },
  {
   "cell_type": "code",
   "execution_count": 14,
   "metadata": {},
   "outputs": [
    {
     "name": "stdout",
     "output_type": "stream",
     "text": [
      "mse: 972.79248046875, rmse: 31.189620971679688, mae: 25.866817474365234, mape: 10.236483067274094, r2: 0.9153412596067142, r2_adjusted: 0.9122057507032592, rmsle: 0.12149329483509064\n"
     ]
    }
   ],
   "source": [
    "lstm.score()"
   ]
  },
  {
   "cell_type": "markdown",
   "metadata": {},
   "source": [
    "### 调用 save 保存结果"
   ]
  },
  {
   "cell_type": "code",
   "execution_count": 15,
   "metadata": {},
   "outputs": [
    {
     "name": "stdout",
     "output_type": "stream",
     "text": [
      "Save results success!\n",
      "Save the value of prediction successfully!!\n",
      "Save the picture successfully!\n",
      "Save the picture of training loss successfully!\n",
      "Save the picture of testing loss  successfully!\n"
     ]
    }
   ],
   "source": [
    "lstm.save()"
   ]
  },
  {
   "cell_type": "markdown",
   "metadata": {},
   "source": [
    "# 对 y 进行标准化操作"
   ]
  },
  {
   "cell_type": "markdown",
   "metadata": {},
   "source": [
    "在机器学习里，认为 训练集（training set）的分布符合总体分布"
   ]
  },
  {
   "cell_type": "code",
   "execution_count": 16,
   "metadata": {},
   "outputs": [
    {
     "name": "stdout",
     "output_type": "stream",
     "text": [
      "the shape of dataset_standard is:  (144, 1)\n"
     ]
    }
   ],
   "source": [
    "# 对数据进行 标准化，将最后 百分之20，作为 测试集 \n",
    "# 但是这里标准化后还是要合并，后续要给数据格式进行处理\n",
    "train_size = int(len(dataset) * 0.8)\n",
    "data_train = dataset[:train_size]\n",
    "data_test = dataset[train_size:]\n",
    "\n",
    "from sklearn.preprocessing import StandardScaler\n",
    "\n",
    "standard = StandardScaler()\n",
    "standard.fit(data_train)\n",
    "\n",
    "data_train_standard = standard.transform(data_train)\n",
    "data_test_standard = standard.transform(data_test)\n",
    "\n",
    "# 合并\n",
    "dataset_standard = np.concatenate((data_train_standard, data_test_standard), axis=0)\n",
    "print('the shape of dataset_standard is: ', dataset_standard.shape)"
   ]
  },
  {
   "cell_type": "code",
   "execution_count": 17,
   "metadata": {},
   "outputs": [],
   "source": [
    "from frames.tools import create_dataset\n",
    "\n",
    "X, y = create_dataset(dataset_standard, look_back=2)"
   ]
  },
  {
   "cell_type": "code",
   "execution_count": 18,
   "metadata": {},
   "outputs": [],
   "source": [
    "from frames.tools import train_test_split\n",
    "\n",
    "X_train_standard, X_test_standard, y_train_standard, y_test_standard = train_test_split(X, y, test_size=0.2, random_state=19)"
   ]
  },
  {
   "cell_type": "code",
   "execution_count": 21,
   "metadata": {},
   "outputs": [],
   "source": [
    "from frames.DeeplearningRegression import LSTM\n",
    "\n",
    "'''\n",
    "参数说明：\n",
    "hidden_layers: 隐藏层神经元个数，传入 int\n",
    "num_layers: lstm 层数，传入 int\n",
    "learning rete: 学习率，这里可以是一个 float，也可以是一个 len=3 的 list，当 lr 是 list 的时候，采用梯度衰减策略\n",
    "activate function: 激活函数，默认 relu，改激活函数输入小写字符串即可，如：'tanh','sigmoid'\n",
    "dropout: 默认为 0，即不采用，这个参数是为了防止训练过拟合\n",
    "epoch: 训练批次，默认 2000\n",
    "batch_size: 默认 128\n",
    "\n",
    "save_path: 默认'LSTM_Results'\n",
    "is_standard: str\n",
    "Dimensionality_reduction_method: 降维方法\n",
    "'''\n",
    "save_path = 'Example_results/Regression/LSTM2_Results'\n",
    "lstm2 = LSTM(learning_rate=[1e-2, 1e-4, 1e-6], num_layers=2, hidden_size=32, \n",
    "            epoch=5000, batch_size=256, save_path=save_path, \n",
    "            is_standard=False, Dimensionality_reduction_method='None') # 采用梯度衰减策略"
   ]
  },
  {
   "cell_type": "code",
   "execution_count": 23,
   "metadata": {
    "scrolled": true
   },
   "outputs": [
    {
     "name": "stdout",
     "output_type": "stream",
     "text": [
      "Training... epoch: 100, loss: 0.11410069465637207\n",
      "\u001b[1;35m Testing... epoch: 100, loss: 0.07510865479707718 \u001b[0m!\n",
      "Training... epoch: 200, loss: 0.09191734343767166\n",
      "\u001b[1;35m Testing... epoch: 200, loss: 0.08055595308542252 \u001b[0m!\n",
      "Training... epoch: 300, loss: 0.08480285853147507\n",
      "\u001b[1;35m Testing... epoch: 300, loss: 0.08634607493877411 \u001b[0m!\n",
      "Training... epoch: 400, loss: 0.07720034569501877\n",
      "\u001b[1;35m Testing... epoch: 400, loss: 0.09726341813802719 \u001b[0m!\n",
      "Training... epoch: 500, loss: 0.07016375660896301\n",
      "\u001b[1;35m Testing... epoch: 500, loss: 0.12110964953899384 \u001b[0m!\n",
      "Training... epoch: 600, loss: 0.06327412277460098\n",
      "\u001b[1;35m Testing... epoch: 600, loss: 0.14210017025470734 \u001b[0m!\n",
      "Training... epoch: 700, loss: 0.056731101125478745\n",
      "\u001b[1;35m Testing... epoch: 700, loss: 0.15783151984214783 \u001b[0m!\n",
      "Training... epoch: 800, loss: 0.05267299339175224\n",
      "\u001b[1;35m Testing... epoch: 800, loss: 0.17395903170108795 \u001b[0m!\n",
      "Training... epoch: 900, loss: 0.041839633136987686\n",
      "\u001b[1;35m Testing... epoch: 900, loss: 0.19046711921691895 \u001b[0m!\n",
      "Training... epoch: 1000, loss: 0.04223058000206947\n",
      "\u001b[1;35m Testing... epoch: 1000, loss: 0.20296579599380493 \u001b[0m!\n",
      "Training... epoch: 1100, loss: 0.037112269550561905\n",
      "\u001b[1;35m Testing... epoch: 1100, loss: 0.22455079853534698 \u001b[0m!\n",
      "Training... epoch: 1200, loss: 0.030245516449213028\n",
      "\u001b[1;35m Testing... epoch: 1200, loss: 0.20717261731624603 \u001b[0m!\n",
      "Training... epoch: 1300, loss: 0.027839012444019318\n",
      "\u001b[1;35m Testing... epoch: 1300, loss: 0.20631562173366547 \u001b[0m!\n",
      "Training... epoch: 1400, loss: 0.0292703527957201\n",
      "\u001b[1;35m Testing... epoch: 1400, loss: 0.19650425016880035 \u001b[0m!\n",
      "Training... epoch: 1500, loss: 0.02652212791144848\n",
      "\u001b[1;35m Testing... epoch: 1500, loss: 0.2053156942129135 \u001b[0m!\n",
      "Training... epoch: 1600, loss: 0.02498611807823181\n",
      "\u001b[1;35m Testing... epoch: 1600, loss: 0.21276192367076874 \u001b[0m!\n",
      "Training... epoch: 1700, loss: 0.022878482937812805\n",
      "\u001b[1;35m Testing... epoch: 1700, loss: 0.20805491507053375 \u001b[0m!\n",
      "Training... epoch: 1800, loss: 0.024856260046362877\n",
      "\u001b[1;35m Testing... epoch: 1800, loss: 0.21285761892795563 \u001b[0m!\n",
      "Training... epoch: 1900, loss: 0.0205046646296978\n",
      "\u001b[1;35m Testing... epoch: 1900, loss: 0.2110021859407425 \u001b[0m!\n",
      "Training... epoch: 2000, loss: 0.01910184510052204\n",
      "\u001b[1;35m Testing... epoch: 2000, loss: 0.22034133970737457 \u001b[0m!\n",
      "Training... epoch: 2100, loss: 0.015636548399925232\n",
      "\u001b[1;35m Testing... epoch: 2100, loss: 0.22839419543743134 \u001b[0m!\n",
      "Training... epoch: 2200, loss: 0.014320792630314827\n",
      "\u001b[1;35m Testing... epoch: 2200, loss: 0.24300284683704376 \u001b[0m!\n",
      "Training... epoch: 2300, loss: 0.012857490219175816\n",
      "\u001b[1;35m Testing... epoch: 2300, loss: 0.25883224606513977 \u001b[0m!\n",
      "Training... epoch: 2400, loss: 0.012212995439767838\n",
      "\u001b[1;35m Testing... epoch: 2400, loss: 0.2484152764081955 \u001b[0m!\n",
      "Training... epoch: 2500, loss: 0.012216119095683098\n",
      "\u001b[1;35m Testing... epoch: 2500, loss: 0.24757330119609833 \u001b[0m!\n",
      "Training... epoch: 2600, loss: 0.010222961194813251\n",
      "\u001b[1;35m Testing... epoch: 2600, loss: 0.2585230767726898 \u001b[0m!\n",
      "Training... epoch: 2700, loss: 0.02549763210117817\n",
      "\u001b[1;35m Testing... epoch: 2700, loss: 0.2895706295967102 \u001b[0m!\n",
      "Training... epoch: 2800, loss: 0.017445920035243034\n",
      "\u001b[1;35m Testing... epoch: 2800, loss: 0.2617565095424652 \u001b[0m!\n",
      "Training... epoch: 2900, loss: 0.010786873288452625\n",
      "\u001b[1;35m Testing... epoch: 2900, loss: 0.31270694732666016 \u001b[0m!\n",
      "Training... epoch: 3000, loss: 0.009148361161351204\n",
      "\u001b[1;35m Testing... epoch: 3000, loss: 0.3227497339248657 \u001b[0m!\n",
      "Training... epoch: 3100, loss: 0.008792520500719547\n",
      "\u001b[1;35m Testing... epoch: 3100, loss: 0.322765052318573 \u001b[0m!\n",
      "Training... epoch: 3200, loss: 0.007875362411141396\n",
      "\u001b[1;35m Testing... epoch: 3200, loss: 0.32974904775619507 \u001b[0m!\n",
      "Training... epoch: 3300, loss: 0.007099252659827471\n",
      "\u001b[1;35m Testing... epoch: 3300, loss: 0.3327738046646118 \u001b[0m!\n",
      "Training... epoch: 3400, loss: 0.006760582327842712\n",
      "\u001b[1;35m Testing... epoch: 3400, loss: 0.32694748044013977 \u001b[0m!\n",
      "Training... epoch: 3500, loss: 0.006752001587301493\n",
      "\u001b[1;35m Testing... epoch: 3500, loss: 0.32688307762145996 \u001b[0m!\n",
      "Training... epoch: 3600, loss: 0.006746231112629175\n",
      "\u001b[1;35m Testing... epoch: 3600, loss: 0.3268284797668457 \u001b[0m!\n",
      "Training... epoch: 3700, loss: 0.006742309313267469\n",
      "\u001b[1;35m Testing... epoch: 3700, loss: 0.3267855942249298 \u001b[0m!\n",
      "Training... epoch: 3800, loss: 0.006739500910043716\n",
      "\u001b[1;35m Testing... epoch: 3800, loss: 0.32675060629844666 \u001b[0m!\n",
      "Training... epoch: 3900, loss: 0.006737419404089451\n",
      "\u001b[1;35m Testing... epoch: 3900, loss: 0.32672178745269775 \u001b[0m!\n",
      "Training... epoch: 4000, loss: 0.006735805422067642\n",
      "\u001b[1;35m Testing... epoch: 4000, loss: 0.32670149207115173 \u001b[0m!\n",
      "Training... epoch: 4100, loss: 0.006734497845172882\n",
      "\u001b[1;35m Testing... epoch: 4100, loss: 0.32668840885162354 \u001b[0m!\n",
      "Training... epoch: 4200, loss: 0.006733390968292952\n",
      "\u001b[1;35m Testing... epoch: 4200, loss: 0.32668060064315796 \u001b[0m!\n",
      "Training... epoch: 4300, loss: 0.006732440087944269\n",
      "\u001b[1;35m Testing... epoch: 4300, loss: 0.3266776204109192 \u001b[0m!\n",
      "Training... epoch: 4400, loss: 0.0067315855994820595\n",
      "\u001b[1;35m Testing... epoch: 4400, loss: 0.326675146818161 \u001b[0m!\n",
      "Training... epoch: 4500, loss: 0.006730798166245222\n",
      "\u001b[1;35m Testing... epoch: 4500, loss: 0.3266766369342804 \u001b[0m!\n",
      "Training... epoch: 4600, loss: 0.006730054039508104\n",
      "\u001b[1;35m Testing... epoch: 4600, loss: 0.3266800343990326 \u001b[0m!\n",
      "Training... epoch: 4700, loss: 0.0067293536849319935\n",
      "\u001b[1;35m Testing... epoch: 4700, loss: 0.3266843855381012 \u001b[0m!\n",
      "Training... epoch: 4800, loss: 0.006728675216436386\n",
      "\u001b[1;35m Testing... epoch: 4800, loss: 0.3266892433166504 \u001b[0m!\n",
      "Training... epoch: 4900, loss: 0.006728019565343857\n",
      "\u001b[1;35m Testing... epoch: 4900, loss: 0.32669463753700256 \u001b[0m!\n",
      "Training... epoch: 5000, loss: 0.006727495230734348\n",
      "\u001b[1;35m Testing... epoch: 5000, loss: 0.3267006278038025 \u001b[0m!\n",
      "Training completed!!! Time consuming: 18.2303569316864\n"
     ]
    }
   ],
   "source": [
    "lstm2.fit(X_train_standard, y_train_standard, X_test_standard, y_test_standard)"
   ]
  },
  {
   "cell_type": "markdown",
   "metadata": {},
   "source": [
    "### 反标准化"
   ]
  },
  {
   "cell_type": "code",
   "execution_count": 25,
   "metadata": {},
   "outputs": [
    {
     "name": "stdout",
     "output_type": "stream",
     "text": [
      "mse: 4732.33642578125, rmse: 68.79197692871094, mae: 56.3638916015625, mape: 27.549690008163452, r2: 0.5881612502505246, rmsle: 0.302706778049469\n",
      "if you wanna get the value of r2_adjusted, you can define the number of features, which is the third parameter.\n"
     ]
    },
    {
     "data": {
      "text/plain": [
       "(4732.3364,\n",
       " 68.79198,\n",
       " 56.36389,\n",
       " 27.549690008163452,\n",
       " 0.5881612502505246,\n",
       " 0.30270678)"
      ]
     },
     "execution_count": 25,
     "metadata": {},
     "output_type": "execute_result"
    }
   ],
   "source": [
    "prediction_standard = lstm2.predict(X_test_standard)\n",
    "\n",
    "prediction = standard.inverse_transform(prediction_standard)\n",
    "y_true = standard.inverse_transform(y_test_standard)\n",
    "\n",
    "from frames.tools import reg_calculate\n",
    "\n",
    "reg_calculate(y_true, prediction)"
   ]
  },
  {
   "cell_type": "code",
   "execution_count": 26,
   "metadata": {},
   "outputs": [
    {
     "data": {
      "image/png": "[encoded data removed]",
      "text/plain": [
       "<Figure size 432x288 with 1 Axes>"
      ]
     },
     "metadata": {
      "needs_background": "light"
     },
     "output_type": "display_data"
    }
   ],
   "source": [
    "plt.plot(range(len(prediction)), prediction, 'r--', label='prediction')\n",
    "plt.plot(range(len(y_true)), y_true, 'b--', label='true')\n",
    "plt.legend()\n",
    "plt.show()"
   ]
  },
  {
   "cell_type": "code",
   "execution_count": null,
   "metadata": {},
   "outputs": [],
   "source": []
  }
 ],
 "metadata": {
  "kernelspec": {
   "display_name": "Python 3",
   "language": "python",
   "name": "python3"
  },
  "language_info": {
   "codemirror_mode": {
    "name": "ipython",
    "version": 3
   },
   "file_extension": ".py",
   "mimetype": "text/x-python",
   "name": "python",
   "nbconvert_exporter": "python",
   "pygments_lexer": "ipython3",
   "version": "3.6.2"
  }
 },
 "nbformat": 4,
 "nbformat_minor": 2
}
