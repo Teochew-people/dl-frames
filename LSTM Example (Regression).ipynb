{
 "cells": [
  {
   "cell_type": "markdown",
   "metadata": {},
   "source": [
    "## 长短时神经网络——Regression example"
   ]
  },
  {
   "cell_type": "markdown",
   "metadata": {},
   "source": [
    "这里刚好有个小 tip，我们做 两个 model\n",
    "\n",
    "即：是否对 y 进行标准化并不是一个**对错问题，且一般不对 y 进行标准化操作！**\n",
    "\n",
    "值得注意的问题是：\n",
    "1. 不对 y 进行标准化，收敛较慢，loss 可能会大一些，但精度有保证。\n",
    "2. 对 y 进行标准化后，最后要对 y 反标准化，虽然收敛速度会加快，但容易过拟合，且在反标准化的过程中，会使精度丢失！"
   ]
  },
  {
   "cell_type": "markdown",
   "metadata": {},
   "source": [
    "### model 1: 不对 y 进行标准化"
   ]
  },
  {
   "cell_type": "code",
   "execution_count": 1,
   "metadata": {},
   "outputs": [],
   "source": [
    "import numpy as np\n",
    "import pandas as pd"
   ]
  },
  {
   "cell_type": "code",
   "execution_count": 2,
   "metadata": {},
   "outputs": [],
   "source": [
    "# 导入数据集\n",
    "stock_file = './dataset/dataset.csv'\n",
    "stock = pd.read_csv(stock_file)"
   ]
  },
  {
   "cell_type": "code",
   "execution_count": 3,
   "metadata": {},
   "outputs": [
    {
     "data": {
      "text/html": [
       "<div>\n",
       "<style scoped>\n",
       "    .dataframe tbody tr th:only-of-type {\n",
       "        vertical-align: middle;\n",
       "    }\n",
       "\n",
       "    .dataframe tbody tr th {\n",
       "        vertical-align: top;\n",
       "    }\n",
       "\n",
       "    .dataframe thead th {\n",
       "        text-align: right;\n",
       "    }\n",
       "</style>\n",
       "<table border=\"1\" class=\"dataframe\">\n",
       "  <thead>\n",
       "    <tr style=\"text-align: right;\">\n",
       "      <th></th>\n",
       "      <th>Month</th>\n",
       "      <th>values</th>\n",
       "    </tr>\n",
       "  </thead>\n",
       "  <tbody>\n",
       "    <tr>\n",
       "      <th>0</th>\n",
       "      <td>Jan-49</td>\n",
       "      <td>112</td>\n",
       "    </tr>\n",
       "    <tr>\n",
       "      <th>1</th>\n",
       "      <td>Feb-49</td>\n",
       "      <td>118</td>\n",
       "    </tr>\n",
       "    <tr>\n",
       "      <th>2</th>\n",
       "      <td>Mar-49</td>\n",
       "      <td>132</td>\n",
       "    </tr>\n",
       "    <tr>\n",
       "      <th>3</th>\n",
       "      <td>Apr-49</td>\n",
       "      <td>129</td>\n",
       "    </tr>\n",
       "    <tr>\n",
       "      <th>4</th>\n",
       "      <td>May-49</td>\n",
       "      <td>121</td>\n",
       "    </tr>\n",
       "  </tbody>\n",
       "</table>\n",
       "</div>"
      ],
      "text/plain": [
       "    Month  values\n",
       "0  Jan-49     112\n",
       "1  Feb-49     118\n",
       "2  Mar-49     132\n",
       "3  Apr-49     129\n",
       "4  May-49     121"
      ]
     },
     "execution_count": 3,
     "metadata": {},
     "output_type": "execute_result"
    }
   ],
   "source": [
    "stock.head(5)"
   ]
  },
  {
   "cell_type": "code",
   "execution_count": 4,
   "metadata": {},
   "outputs": [],
   "source": [
    "label = stock['values']"
   ]
  },
  {
   "cell_type": "code",
   "execution_count": 5,
   "metadata": {},
   "outputs": [
    {
     "data": {
      "image/png": "[encoded data removed]",
      "text/plain": [
       "<Figure size 432x288 with 1 Axes>"
      ]
     },
     "metadata": {
      "needs_background": "light"
     },
     "output_type": "display_data"
    }
   ],
   "source": [
    "import matplotlib.pyplot as plt\n",
    "%matplotlib inline\n",
    "\n",
    "plt.plot(range(len(label)), label, 'r--')\n",
    "plt.show()"
   ]
  },
  {
   "cell_type": "code",
   "execution_count": 6,
   "metadata": {},
   "outputs": [
    {
     "name": "stdout",
     "output_type": "stream",
     "text": [
      "object\n"
     ]
    },
    {
     "data": {
      "text/plain": [
       "(144, 1)"
      ]
     },
     "execution_count": 6,
     "metadata": {},
     "output_type": "execute_result"
    }
   ],
   "source": [
    "dataset = stock.values[:, -1:]\n",
    "print(dataset.dtype)\n",
    "dataset.shape"
   ]
  },
  {
   "cell_type": "code",
   "execution_count": 7,
   "metadata": {},
   "outputs": [
    {
     "name": "stdout",
     "output_type": "stream",
     "text": [
      "float32\n"
     ]
    }
   ],
   "source": [
    "# Because the type of dataset is object, we need to change the type to 'float32'\n",
    "dataset = dataset.astype(np.float32)\n",
    "print(dataset.dtype)"
   ]
  },
  {
   "cell_type": "markdown",
   "metadata": {},
   "source": [
    "### 调用 tools 里面的 create_dataset 函数，构造适应的数据集，look_back 默认为 7，即 (x-7) 天预测第 x 天"
   ]
  },
  {
   "cell_type": "markdown",
   "metadata": {},
   "source": [
    "构造数据集的时候，一般而言，会将 y 也作为 X 的一部分，故 need_label 默认为 True， 当然也可以设置为 False，不用 y 作为 input"
   ]
  },
  {
   "cell_type": "code",
   "execution_count": 8,
   "metadata": {},
   "outputs": [],
   "source": [
    "from frames.tools import create_dataset\n",
    "\n",
    "X, y = create_dataset(dataset, look_back=2, need_label=True)"
   ]
  },
  {
   "cell_type": "code",
   "execution_count": 9,
   "metadata": {},
   "outputs": [
    {
     "name": "stdout",
     "output_type": "stream",
     "text": [
      "(142, 2, 1)\n",
      "(142, 1)\n"
     ]
    }
   ],
   "source": [
    "print(X.shape)\n",
    "print(y.shape)"
   ]
  },
  {
   "cell_type": "markdown",
   "metadata": {},
   "source": [
    "### 切割数据集"
   ]
  },
  {
   "cell_type": "code",
   "execution_count": 10,
   "metadata": {},
   "outputs": [],
   "source": [
    "from frames.tools import train_test_split\n",
    "\n",
    "X_train, X_test, y_train, y_test = train_test_split(X, y, test_size=0.2, random_state=19)"
   ]
  },
  {
   "cell_type": "code",
   "execution_count": 11,
   "metadata": {},
   "outputs": [
    {
     "name": "stdout",
     "output_type": "stream",
     "text": [
      "(113, 2, 1) (29, 2, 1) (113, 1) (29, 1)\n",
      "float32 float32\n"
     ]
    }
   ],
   "source": [
    "print(X_train.shape, X_test.shape, y_train.shape, y_test.shape)\n",
    "print(X_train.dtype, y_train.dtype)"
   ]
  },
  {
   "cell_type": "markdown",
   "metadata": {},
   "source": [
    "### 调用 DeeplearningRegression 里面的 LSTM 框架"
   ]
  },
  {
   "cell_type": "code",
   "execution_count": 12,
   "metadata": {},
   "outputs": [],
   "source": [
    "from frames.DeeplearningRegression import LSTM\n",
    "\n",
    "'''\n",
    "参数说明：\n",
    "hidden_layers: 隐藏层神经元个数，传入 int\n",
    "num_layers: lstm 层数，传入 int\n",
    "learning rete: 学习率，这里可以是一个 float，也可以是一个 len=3 的 list，当 lr 是 list 的时候，采用梯度衰减策略\n",
    "activate function: 激活函数，默认 relu，改激活函数输入小写字符串即可，如：'tanh','sigmoid'\n",
    "dropout: 默认为 0，即不采用，这个参数是为了防止训练过拟合\n",
    "epoch: 训练批次，默认 2000\n",
    "batch_size: 默认 128\n",
    "'''\n",
    "lstm = LSTM(learning_rate=[1e-2, 1e-4, 1e-6], num_layers=2, hidden_size=32, epoch=5000, batch_size=256) # 采用梯度衰减策略"
   ]
  },
  {
   "cell_type": "code",
   "execution_count": 13,
   "metadata": {
    "scrolled": true
   },
   "outputs": [
    {
     "name": "stdout",
     "output_type": "stream",
     "text": [
      "Training... epoch: 100, loss: 86560.0078125\n",
      "Training... epoch: 200, loss: 79896.4140625\n",
      "Training... epoch: 300, loss: 73821.0234375\n",
      "Training... epoch: 400, loss: 68215.8203125\n",
      "Training... epoch: 500, loss: 63033.20703125\n",
      "Training... epoch: 600, loss: 58242.18359375\n",
      "Training... epoch: 700, loss: 53817.95703125\n",
      "Training... epoch: 800, loss: 49739.00390625\n",
      "Training... epoch: 900, loss: 45985.73046875\n",
      "Training... epoch: 1000, loss: 42539.890625\n",
      "Training... epoch: 1100, loss: 39384.23828125\n",
      "Training... epoch: 1200, loss: 36502.3046875\n",
      "Training... epoch: 1300, loss: 33878.2890625\n",
      "Training... epoch: 1400, loss: 31496.947265625\n",
      "Training... epoch: 1500, loss: 29343.552734375\n",
      "Training... epoch: 1600, loss: 27403.8203125\n",
      "Training... epoch: 1700, loss: 25663.841796875\n",
      "Training... epoch: 1800, loss: 24110.12109375\n",
      "Training... epoch: 1900, loss: 22729.509765625\n",
      "Training... epoch: 2000, loss: 21509.203125\n",
      "Training... epoch: 2100, loss: 20436.75390625\n",
      "Training... epoch: 2200, loss: 19500.0546875\n",
      "Training... epoch: 2300, loss: 18687.369140625\n",
      "Training... epoch: 2400, loss: 17987.3359375\n",
      "Training... epoch: 2500, loss: 17388.998046875\n",
      "Training... epoch: 2600, loss: 16881.84375\n",
      "Training... epoch: 2700, loss: 16455.826171875\n",
      "Training... epoch: 2800, loss: 16101.4150390625\n",
      "Training... epoch: 2900, loss: 15809.62109375\n",
      "Training... epoch: 3000, loss: 15572.0458984375\n",
      "Training... epoch: 3100, loss: 15380.91015625\n",
      "Training... epoch: 3200, loss: 15229.0947265625\n",
      "Training... epoch: 3300, loss: 15110.1416015625\n",
      "Training... epoch: 3400, loss: 15018.2900390625\n",
      "Training... epoch: 3500, loss: 14948.4560546875\n",
      "Training... epoch: 3600, loss: 14896.232421875\n",
      "Training... epoch: 3700, loss: 14857.8564453125\n",
      "Training... epoch: 3800, loss: 14830.1767578125\n",
      "Training... epoch: 3900, loss: 14810.6005859375\n",
      "Training... epoch: 4000, loss: 14797.041015625\n",
      "Training... epoch: 4100, loss: 14787.8544921875\n",
      "Training... epoch: 4200, loss: 14781.7734375\n",
      "Training... epoch: 4300, loss: 14777.845703125\n",
      "Training... epoch: 4400, loss: 14775.3740234375\n",
      "Training... epoch: 4500, loss: 14773.8603515625\n",
      "Training... epoch: 4600, loss: 14772.9599609375\n",
      "Training... epoch: 4700, loss: 14772.439453125\n",
      "Training... epoch: 4800, loss: 8478.1875\n",
      "Training... epoch: 4900, loss: 6436.515625\n",
      "Training... epoch: 5000, loss: 5320.27783203125\n",
      "Training completed!\n"
     ]
    }
   ],
   "source": [
    "lstm.fit(X_train, y_train)"
   ]
  },
  {
   "cell_type": "markdown",
   "metadata": {},
   "source": [
    "### 调用 score 得到结果，调用 predict 得到值"
   ]
  },
  {
   "cell_type": "code",
   "execution_count": 14,
   "metadata": {},
   "outputs": [
    {
     "name": "stdout",
     "output_type": "stream",
     "text": [
      "mse: 4104.857421875, rmse: 64.06916046142578, mae: 40.672119140625, r2: 0.6427685697584867\n"
     ]
    }
   ],
   "source": [
    "lstm.score(X_test, y_test)"
   ]
  },
  {
   "cell_type": "markdown",
   "metadata": {},
   "source": [
    "### 调用 result_plot 保存结果图"
   ]
  },
  {
   "cell_type": "code",
   "execution_count": 15,
   "metadata": {},
   "outputs": [
    {
     "data": {
      "image/png": "[encoded data removed]",
      "text/plain": [
       "<Figure size 432x288 with 1 Axes>"
      ]
     },
     "metadata": {
      "needs_background": "light"
     },
     "output_type": "display_data"
    },
    {
     "name": "stdout",
     "output_type": "stream",
     "text": [
      "Save the picture successfully!\n"
     ]
    }
   ],
   "source": [
    "'''\n",
    "传入 X_test, y_test, save_file, is_show 四个参数\n",
    "is_show 默认为 False，即不显示图片\n",
    "'''\n",
    "import os\n",
    "\n",
    "save_path = './Example_save_resultes/Regression/save_pngs'\n",
    "if not os.path.exists(save_path):\n",
    "    os.makedirs(save_path)\n",
    "    \n",
    "save_png = os.path.join(save_path, 'lstm_picture.png')\n",
    "lstm.result_plot(X_test, y_test, save_file=save_png, is_show=True)"
   ]
  },
  {
   "cell_type": "markdown",
   "metadata": {},
   "source": [
    "### 保存模型结果, 这里有两个参数，统计 dataset 是否使用了 标准化 和 pca 的预处理"
   ]
  },
  {
   "cell_type": "code",
   "execution_count": 17,
   "metadata": {},
   "outputs": [
    {
     "name": "stdout",
     "output_type": "stream",
     "text": [
      "Save results success!\n"
     ]
    }
   ],
   "source": [
    "'''\n",
    "is_standard 是否标准化，默认 False\n",
    "Diemensionality_reduction_method：使用的降维方法，默认 None\n",
    "'''\n",
    "results_file = './Example_save_resultes/Regression/lstm_result.csv'\n",
    "lstm.save_result(results_file, is_standard=False, Dimensionality_reduction_method='None')"
   ]
  },
  {
   "cell_type": "markdown",
   "metadata": {},
   "source": [
    "### 调用 loss_plot 查看训练过程， loss 的变化"
   ]
  },
  {
   "cell_type": "code",
   "execution_count": 18,
   "metadata": {},
   "outputs": [
    {
     "data": {
      "image/png": "[encoded data removed]",
      "text/plain": [
       "<Figure size 432x288 with 1 Axes>"
      ]
     },
     "metadata": {
      "needs_background": "light"
     },
     "output_type": "display_data"
    }
   ],
   "source": [
    "lstm.loss_plot()"
   ]
  },
  {
   "cell_type": "markdown",
   "metadata": {},
   "source": [
    "# 对 y 进行标准化操作"
   ]
  },
  {
   "cell_type": "markdown",
   "metadata": {},
   "source": [
    "在机器学习里，认为 训练集（training set）的分布符合总体分布"
   ]
  },
  {
   "cell_type": "code",
   "execution_count": 19,
   "metadata": {},
   "outputs": [
    {
     "name": "stdout",
     "output_type": "stream",
     "text": [
      "the shape of dataset_standard is:  (144, 1)\n"
     ]
    }
   ],
   "source": [
    "# 对数据进行 标准化，将最后 百分之20，作为 测试集 \n",
    "# 但是这里标准化后还是要合并，后续要给数据格式进行处理\n",
    "train_size = int(len(dataset) * 0.8)\n",
    "data_train = dataset[:train_size]\n",
    "data_test = dataset[train_size:]\n",
    "\n",
    "from sklearn.preprocessing import StandardScaler\n",
    "\n",
    "standard = StandardScaler()\n",
    "standard.fit(data_train)\n",
    "\n",
    "data_train_standard = standard.transform(data_train)\n",
    "data_test_standard = standard.transform(data_test)\n",
    "\n",
    "# 合并\n",
    "dataset_standard = np.concatenate((data_train_standard, data_test_standard), axis=0)\n",
    "print('the shape of dataset_standard is: ', dataset_standard.shape)"
   ]
  },
  {
   "cell_type": "code",
   "execution_count": 20,
   "metadata": {},
   "outputs": [],
   "source": [
    "from frames.tools import create_dataset\n",
    "\n",
    "X, y = create_dataset(dataset_standard, look_back=2)"
   ]
  },
  {
   "cell_type": "code",
   "execution_count": 21,
   "metadata": {},
   "outputs": [],
   "source": [
    "from frames.tools import train_test_split\n",
    "\n",
    "X_train_standard, X_test_standard, y_train_standard, y_test_standard = train_test_split(X, y, test_size=0.2, random_state=19)"
   ]
  },
  {
   "cell_type": "code",
   "execution_count": 22,
   "metadata": {},
   "outputs": [],
   "source": [
    "from frames.DeeplearningRegression import LSTM\n",
    "\n",
    "'''\n",
    "参数说明：\n",
    "hidden_layers: 隐藏层神经元个数，传入 int\n",
    "num_layers: lstm 层数，传入 int\n",
    "learning rete: 学习率，这里可以是一个 float，也可以是一个 len=3 的 list，当 lr 是 list 的时候，采用梯度衰减策略\n",
    "activate function: 激活函数，默认 relu，改激活函数输入小写字符串即可，如：'tanh','sigmoid'\n",
    "dropout: 默认为 0，即不采用，这个参数是为了防止训练过拟合\n",
    "epoch: 训练批次，默认 2000\n",
    "batch_size: 默认 128\n",
    "'''\n",
    "lstm2 = LSTM(learning_rate=[1e-2, 1e-4, 1e-6], num_layers=2, hidden_size=32, epoch=5000, batch_size=256) # 采用梯度衰减策略"
   ]
  },
  {
   "cell_type": "code",
   "execution_count": 23,
   "metadata": {
    "scrolled": true
   },
   "outputs": [
    {
     "name": "stdout",
     "output_type": "stream",
     "text": [
      "Training... epoch: 100, loss: 0.1077921986579895\n",
      "Training... epoch: 200, loss: 0.08834777772426605\n",
      "Training... epoch: 300, loss: 0.08229251205921173\n",
      "Training... epoch: 400, loss: 0.07906574010848999\n",
      "Training... epoch: 500, loss: 0.07199393957853317\n",
      "Training... epoch: 600, loss: 0.06579568237066269\n",
      "Training... epoch: 700, loss: 0.058490872383117676\n",
      "Training... epoch: 800, loss: 0.04457066208124161\n",
      "Training... epoch: 900, loss: 0.04079033434391022\n",
      "Training... epoch: 1000, loss: 0.03327828273177147\n",
      "Training... epoch: 1100, loss: 0.022986197844147682\n",
      "Training... epoch: 1200, loss: 0.01798345521092415\n",
      "Training... epoch: 1300, loss: 0.013320554047822952\n",
      "Training... epoch: 1400, loss: 0.014357577078044415\n",
      "Training... epoch: 1500, loss: 0.008899794891476631\n",
      "Training... epoch: 1600, loss: 0.007083659991621971\n",
      "Training... epoch: 1700, loss: 0.004647083580493927\n",
      "Training... epoch: 1800, loss: 0.0035232799127697945\n",
      "Training... epoch: 1900, loss: 0.0018792325863614678\n",
      "Training... epoch: 2000, loss: 0.005654542241245508\n",
      "Training... epoch: 2100, loss: 0.0011761973146349192\n",
      "Training... epoch: 2200, loss: 0.001025911420583725\n",
      "Training... epoch: 2300, loss: 0.0018440185813233256\n",
      "Training... epoch: 2400, loss: 0.0070465742610394955\n",
      "Training... epoch: 2500, loss: 0.003959122579544783\n",
      "Training... epoch: 2600, loss: 0.001335853012278676\n",
      "Training... epoch: 2700, loss: 0.002060629427433014\n",
      "Training... epoch: 2800, loss: 0.0012017535045742989\n",
      "Training... epoch: 2900, loss: 0.07703841477632523\n",
      "Training... epoch: 3000, loss: 0.0048643117770552635\n",
      "Training... epoch: 3100, loss: 0.0033964107278734446\n",
      "Training... epoch: 3200, loss: 0.002395696472376585\n",
      "Training... epoch: 3300, loss: 0.001224630163051188\n",
      "Training... epoch: 3400, loss: 0.001428205519914627\n",
      "Training... epoch: 3500, loss: 0.0007687343168072402\n",
      "Training... epoch: 3600, loss: 0.0006887693307362497\n",
      "Training... epoch: 3700, loss: 0.0006068897200748324\n",
      "Training... epoch: 3800, loss: 0.0006360260304063559\n",
      "Training... epoch: 3900, loss: 0.0005508859758265316\n",
      "Training... epoch: 4000, loss: 0.00038292488898150623\n",
      "Training... epoch: 4100, loss: 0.013699301518499851\n",
      "Training... epoch: 4200, loss: 0.007621793542057276\n",
      "Training... epoch: 4300, loss: 0.0028983592055737972\n",
      "Training... epoch: 4400, loss: 0.0017648563953116536\n",
      "Training... epoch: 4500, loss: 0.006325587630271912\n",
      "Training... epoch: 4600, loss: 0.0006543603376485407\n",
      "Training... epoch: 4700, loss: 0.0005272909766063094\n",
      "Training... epoch: 4800, loss: 0.00025980910868383944\n",
      "Training... epoch: 4900, loss: 0.00021303737594280392\n",
      "Training... epoch: 5000, loss: 0.0001349879166809842\n",
      "Training completed!\n"
     ]
    }
   ],
   "source": [
    "lstm2.fit(X_train_standard, y_train_standard)"
   ]
  },
  {
   "cell_type": "markdown",
   "metadata": {},
   "source": [
    "没有进行标准化得到的结果"
   ]
  },
  {
   "cell_type": "code",
   "execution_count": 24,
   "metadata": {},
   "outputs": [
    {
     "name": "stdout",
     "output_type": "stream",
     "text": [
      "mse: 0.2750649154186249, rmse: 0.524466335773468, mae: 0.4128703474998474, r2: 0.8019887449713707\n"
     ]
    }
   ],
   "source": [
    "lstm2.score(X_test_standard, y_test_standard)"
   ]
  },
  {
   "cell_type": "markdown",
   "metadata": {},
   "source": [
    "### 反标准化"
   ]
  },
  {
   "cell_type": "code",
   "execution_count": 25,
   "metadata": {},
   "outputs": [
    {
     "name": "stdout",
     "output_type": "stream",
     "text": [
      "mse: 2275.29833984375, rmse: 47.70008850097656, mae: 37.55045700073242, r2: 0.8019887346732002\n"
     ]
    },
    {
     "data": {
      "text/plain": [
       "(2275.2983, 47.70009, 37.550457, 0.8019887346732002)"
      ]
     },
     "execution_count": 25,
     "metadata": {},
     "output_type": "execute_result"
    }
   ],
   "source": [
    "prediction_standard = lstm2.predict(X_test_standard).data.numpy()\n",
    "\n",
    "prediction = standard.inverse_transform(prediction_standard)\n",
    "y_true = standard.inverse_transform(y_test_standard)\n",
    "\n",
    "from frames.tools import reg_calculate\n",
    "\n",
    "reg_calculate(y_true, prediction)"
   ]
  },
  {
   "cell_type": "code",
   "execution_count": 26,
   "metadata": {},
   "outputs": [
    {
     "data": {
      "image/png": "[encoded data removed]",
      "text/plain": [
       "<Figure size 432x288 with 1 Axes>"
      ]
     },
     "metadata": {
      "needs_background": "light"
     },
     "output_type": "display_data"
    }
   ],
   "source": [
    "plt.plot(range(len(prediction)), prediction, 'r--', label='prediction')\n",
    "plt.plot(range(len(y_true)), y_true, 'b--', label='true')\n",
    "plt.legend()\n",
    "plt.show()"
   ]
  },
  {
   "cell_type": "code",
   "execution_count": 27,
   "metadata": {},
   "outputs": [
    {
     "data": {
      "image/png": "[encoded data removed]",
      "text/plain": [
       "<Figure size 432x288 with 1 Axes>"
      ]
     },
     "metadata": {
      "needs_background": "light"
     },
     "output_type": "display_data"
    }
   ],
   "source": [
    "lstm2.loss_plot()"
   ]
  },
  {
   "cell_type": "code",
   "execution_count": null,
   "metadata": {},
   "outputs": [],
   "source": []
  }
 ],
 "metadata": {
  "kernelspec": {
   "display_name": "Python 3",
   "language": "python",
   "name": "python3"
  },
  "language_info": {
   "codemirror_mode": {
    "name": "ipython",
    "version": 3
   },
   "file_extension": ".py",
   "mimetype": "text/x-python",
   "name": "python",
   "nbconvert_exporter": "python",
   "pygments_lexer": "ipython3",
   "version": "3.6.2"
  }
 },
 "nbformat": 4,
 "nbformat_minor": 2
}
