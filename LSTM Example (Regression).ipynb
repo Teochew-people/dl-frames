{
 "cells": [
  {
   "cell_type": "markdown",
   "metadata": {},
   "source": [
    "## 长短时神经网络——Regression example"
   ]
  },
  {
   "cell_type": "markdown",
   "metadata": {},
   "source": [
    "这里刚好有个小 tip，我们做 两个 model\n",
    "\n",
    "即：是否对 y 进行标准化并不是一个**对错问题，且一般不对 y 进行标准化操作！**\n",
    "\n",
    "值得注意的问题是：\n",
    "1. 不对 y 进行标准化，收敛较慢，loss 可能会大一些，但精度有保证。\n",
    "2. 对 y 进行标准化后，最后要对 y 反标准化，虽然收敛速度会加快，但容易过拟合，且在反标准化的过程中，会使精度丢失！"
   ]
  },
  {
   "cell_type": "markdown",
   "metadata": {},
   "source": [
    "### model 1: 不对 y 进行标准化"
   ]
  },
  {
   "cell_type": "code",
   "execution_count": 1,
   "metadata": {},
   "outputs": [],
   "source": [
    "import numpy as np\n",
    "import pandas as pd"
   ]
  },
  {
   "cell_type": "code",
   "execution_count": 2,
   "metadata": {},
   "outputs": [],
   "source": [
    "# 导入数据集\n",
    "stock_file = './dataset/dataset.csv'\n",
    "stock = pd.read_csv(stock_file)"
   ]
  },
  {
   "cell_type": "code",
   "execution_count": 3,
   "metadata": {},
   "outputs": [
    {
     "data": {
      "text/html": [
       "<div>\n",
       "<style scoped>\n",
       "    .dataframe tbody tr th:only-of-type {\n",
       "        vertical-align: middle;\n",
       "    }\n",
       "\n",
       "    .dataframe tbody tr th {\n",
       "        vertical-align: top;\n",
       "    }\n",
       "\n",
       "    .dataframe thead th {\n",
       "        text-align: right;\n",
       "    }\n",
       "</style>\n",
       "<table border=\"1\" class=\"dataframe\">\n",
       "  <thead>\n",
       "    <tr style=\"text-align: right;\">\n",
       "      <th></th>\n",
       "      <th>Month</th>\n",
       "      <th>values</th>\n",
       "    </tr>\n",
       "  </thead>\n",
       "  <tbody>\n",
       "    <tr>\n",
       "      <th>0</th>\n",
       "      <td>Jan-49</td>\n",
       "      <td>112</td>\n",
       "    </tr>\n",
       "    <tr>\n",
       "      <th>1</th>\n",
       "      <td>Feb-49</td>\n",
       "      <td>118</td>\n",
       "    </tr>\n",
       "    <tr>\n",
       "      <th>2</th>\n",
       "      <td>Mar-49</td>\n",
       "      <td>132</td>\n",
       "    </tr>\n",
       "    <tr>\n",
       "      <th>3</th>\n",
       "      <td>Apr-49</td>\n",
       "      <td>129</td>\n",
       "    </tr>\n",
       "    <tr>\n",
       "      <th>4</th>\n",
       "      <td>May-49</td>\n",
       "      <td>121</td>\n",
       "    </tr>\n",
       "  </tbody>\n",
       "</table>\n",
       "</div>"
      ],
      "text/plain": [
       "    Month  values\n",
       "0  Jan-49     112\n",
       "1  Feb-49     118\n",
       "2  Mar-49     132\n",
       "3  Apr-49     129\n",
       "4  May-49     121"
      ]
     },
     "execution_count": 3,
     "metadata": {},
     "output_type": "execute_result"
    }
   ],
   "source": [
    "stock.head(5)"
   ]
  },
  {
   "cell_type": "code",
   "execution_count": 4,
   "metadata": {},
   "outputs": [],
   "source": [
    "label = stock['values']"
   ]
  },
  {
   "cell_type": "code",
   "execution_count": 5,
   "metadata": {},
   "outputs": [
    {
     "data": {
      "text/plain": [
       "<Figure size 640x480 with 1 Axes>"
      ]
     },
     "metadata": {},
     "output_type": "display_data"
    }
   ],
   "source": [
    "import matplotlib.pyplot as plt\n",
    "\n",
    "plt.plot(range(len(label)), label, 'r--')\n",
    "plt.show()"
   ]
  },
  {
   "cell_type": "code",
   "execution_count": 6,
   "metadata": {},
   "outputs": [
    {
     "data": {
      "text/plain": [
       "(144, 1)"
      ]
     },
     "execution_count": 6,
     "metadata": {},
     "output_type": "execute_result"
    }
   ],
   "source": [
    "dataset = label.values.reshape(-1, 1)\n",
    "dataset.shape"
   ]
  },
  {
   "cell_type": "markdown",
   "metadata": {},
   "source": [
    "### 调用 tools 里面的 create_dataset 函数，构造适应的数据集，look_back 默认为 7，即 (x-7) 天预测第 x 天"
   ]
  },
  {
   "cell_type": "code",
   "execution_count": 7,
   "metadata": {},
   "outputs": [],
   "source": [
    "from frames.tools import create_dataset\n",
    "\n",
    "X, y = create_dataset(dataset, look_back=7)"
   ]
  },
  {
   "cell_type": "code",
   "execution_count": 8,
   "metadata": {},
   "outputs": [
    {
     "name": "stdout",
     "output_type": "stream",
     "text": [
      "(137, 7, 1)\n",
      "(137, 1)\n"
     ]
    }
   ],
   "source": [
    "print(X.shape)\n",
    "print(y.shape)"
   ]
  },
  {
   "cell_type": "markdown",
   "metadata": {},
   "source": [
    "### 切割数据集"
   ]
  },
  {
   "cell_type": "code",
   "execution_count": 9,
   "metadata": {},
   "outputs": [],
   "source": [
    "from frames.tools import train_test_split\n",
    "\n",
    "X_train, X_test, y_train, y_test = train_test_split(X, y, test_size=0.2, random_state=19)"
   ]
  },
  {
   "cell_type": "code",
   "execution_count": 10,
   "metadata": {},
   "outputs": [
    {
     "name": "stdout",
     "output_type": "stream",
     "text": [
      "(109, 7, 1) (28, 7, 1) (109, 1) (28, 1)\n"
     ]
    }
   ],
   "source": [
    "print(X_train.shape, X_test.shape, y_train.shape, y_test.shape)"
   ]
  },
  {
   "cell_type": "markdown",
   "metadata": {},
   "source": [
    "### 调用 DeeplearningRegression 里面的 LSTM 框架"
   ]
  },
  {
   "cell_type": "code",
   "execution_count": 11,
   "metadata": {},
   "outputs": [],
   "source": [
    "from frames.DeeplearningRegression import LSTM\n",
    "\n",
    "'''\n",
    "参数说明：\n",
    "hidden_layers: 隐藏层神经元个数，传入 int\n",
    "num_layers: lstm 层数，传入 int\n",
    "learning rete: 学习率，这里可以是一个 float，也可以是一个 len=3 的 list，当 lr 是 list 的时候，采用梯度衰减策略\n",
    "activate function: 激活函数，默认 relu，改激活函数输入小写字符串即可，如：'tanh','sigmoid'\n",
    "dropout: 默认为 0，即不采用，这个参数是为了防止训练过拟合\n",
    "epoch: 训练批次，默认 2000\n",
    "batch_size: 默认 128\n",
    "'''\n",
    "lstm = LSTM(learning_rate=[1e-2, 1e-4, 1e-6], num_layers=2, hidden_size=32, epoch=10000, batch_size=256) # 采用梯度衰减策略"
   ]
  },
  {
   "cell_type": "code",
   "execution_count": 12,
   "metadata": {
    "scrolled": false
   },
   "outputs": [
    {
     "name": "stdout",
     "output_type": "stream",
     "text": [
      "Training... epoch: 100, loss: 89162.9375\n",
      "Training... epoch: 200, loss: 81774.9296875\n",
      "Training... epoch: 300, loss: 75013.4765625\n",
      "Training... epoch: 400, loss: 68795.5\n",
      "Training... epoch: 500, loss: 63077.234375\n",
      "Training... epoch: 600, loss: 57825.4921875\n",
      "Training... epoch: 700, loss: 53011.6171875\n",
      "Training... epoch: 800, loss: 48609.4140625\n",
      "Training... epoch: 900, loss: 44594.40625\n",
      "Training... epoch: 1000, loss: 40943.3359375\n",
      "Training... epoch: 1100, loss: 37633.99609375\n",
      "Training... epoch: 1200, loss: 34645.00390625\n",
      "Training... epoch: 1300, loss: 31955.72265625\n",
      "Training... epoch: 1400, loss: 29546.203125\n",
      "Training... epoch: 1500, loss: 27397.115234375\n",
      "Training... epoch: 1600, loss: 25489.708984375\n",
      "Training... epoch: 1700, loss: 23805.775390625\n",
      "Training... epoch: 1800, loss: 22327.6796875\n",
      "Training... epoch: 1900, loss: 21038.298828125\n",
      "Training... epoch: 2000, loss: 19916.052734375\n",
      "Training... epoch: 2100, loss: 18261.056640625\n",
      "Training... epoch: 2200, loss: 16465.728515625\n",
      "Training... epoch: 2300, loss: 15189.6728515625\n",
      "Training... epoch: 2400, loss: 14045.869140625\n",
      "Training... epoch: 2500, loss: 12986.873046875\n",
      "Training... epoch: 2600, loss: 11992.37890625\n",
      "Training... epoch: 2700, loss: 11083.24609375\n",
      "Training... epoch: 2800, loss: 10226.263671875\n",
      "Training... epoch: 2900, loss: 9445.361328125\n",
      "Training... epoch: 3000, loss: 8733.74609375\n",
      "Training... epoch: 3100, loss: 8079.19775390625\n",
      "Training... epoch: 3200, loss: 7477.6884765625\n",
      "Training... epoch: 3300, loss: 6917.166015625\n",
      "Training... epoch: 3400, loss: 6422.455078125\n",
      "Training... epoch: 3500, loss: 5946.8681640625\n",
      "Training... epoch: 3600, loss: 5518.62255859375\n",
      "Training... epoch: 3700, loss: 5138.3125\n",
      "Training... epoch: 3800, loss: 4800.337890625\n",
      "Training... epoch: 3900, loss: 4506.23388671875\n",
      "Training... epoch: 4000, loss: 4193.736328125\n",
      "Training... epoch: 4100, loss: 3947.374755859375\n",
      "Training... epoch: 4200, loss: 3731.2119140625\n",
      "Training... epoch: 4300, loss: 3540.266357421875\n",
      "Training... epoch: 4400, loss: 3338.955078125\n",
      "Training... epoch: 4500, loss: 3198.634765625\n",
      "Training... epoch: 4600, loss: 3013.622314453125\n",
      "Training... epoch: 4700, loss: 2846.5283203125\n",
      "Training... epoch: 4800, loss: 2727.57470703125\n",
      "Training... epoch: 4900, loss: 2628.447998046875\n",
      "Training... epoch: 5000, loss: 2484.905029296875\n",
      "Training... epoch: 5100, loss: 2331.906982421875\n",
      "Training... epoch: 5200, loss: 2156.436279296875\n",
      "Training... epoch: 5300, loss: 3471.721923828125\n",
      "Training... epoch: 5400, loss: 2557.0693359375\n",
      "Training... epoch: 5500, loss: 2025.671875\n",
      "Training... epoch: 5600, loss: 1940.4613037109375\n",
      "Training... epoch: 5700, loss: 1878.0633544921875\n",
      "Training... epoch: 5800, loss: 1819.447998046875\n",
      "Training... epoch: 5900, loss: 1788.0277099609375\n",
      "Training... epoch: 6000, loss: 1742.45703125\n",
      "Training... epoch: 6100, loss: 1707.8740234375\n",
      "Training... epoch: 6200, loss: 1669.0457763671875\n",
      "Training... epoch: 6300, loss: 1483.874267578125\n",
      "Training... epoch: 6400, loss: 1418.68798828125\n",
      "Training... epoch: 6500, loss: 1321.37255859375\n",
      "Training... epoch: 6600, loss: 1274.1956787109375\n",
      "Training... epoch: 6700, loss: 1242.2882080078125\n",
      "Training... epoch: 6800, loss: 1646.08642578125\n",
      "Training... epoch: 6900, loss: 1358.5484619140625\n",
      "Training... epoch: 7000, loss: 1319.3717041015625\n",
      "Training... epoch: 7100, loss: 1137.1060791015625\n",
      "Training... epoch: 7200, loss: 1145.218505859375\n",
      "Training... epoch: 7300, loss: 1033.513671875\n",
      "Training... epoch: 7400, loss: 963.10791015625\n",
      "Training... epoch: 7500, loss: 929.2440795898438\n",
      "Training... epoch: 7600, loss: 922.659423828125\n",
      "Training... epoch: 7700, loss: 906.68212890625\n",
      "Training... epoch: 7800, loss: 881.885498046875\n",
      "Training... epoch: 7900, loss: 868.1085815429688\n",
      "Training... epoch: 8000, loss: 872.2688598632812\n",
      "Training... epoch: 8100, loss: 852.0337524414062\n",
      "Training... epoch: 8200, loss: 834.042236328125\n",
      "Training... epoch: 8300, loss: 826.578125\n",
      "Training... epoch: 8400, loss: 838.0792236328125\n",
      "Training... epoch: 8500, loss: 796.8894653320312\n",
      "Training... epoch: 8600, loss: 1227.8182373046875\n",
      "Training... epoch: 8700, loss: 1022.4158325195312\n",
      "Training... epoch: 8800, loss: 866.2157592773438\n",
      "Training... epoch: 8900, loss: 1991.4571533203125\n",
      "Training... epoch: 9000, loss: 928.050537109375\n",
      "Training... epoch: 9100, loss: 861.5560302734375\n",
      "Training... epoch: 9200, loss: 835.3070068359375\n",
      "Training... epoch: 9300, loss: 836.5436401367188\n",
      "Training... epoch: 9400, loss: 791.8195190429688\n",
      "Training... epoch: 9500, loss: 778.060546875\n",
      "Training... epoch: 9600, loss: 713.043212890625\n",
      "Training... epoch: 9700, loss: 647.2650756835938\n",
      "Training... epoch: 9800, loss: 9513.6572265625\n",
      "Training... epoch: 9900, loss: 3561.326171875\n",
      "Training... epoch: 10000, loss: 2820.991943359375\n",
      "Training completed!\n"
     ]
    }
   ],
   "source": [
    "lstm.fit(X_train, y_train)"
   ]
  },
  {
   "cell_type": "markdown",
   "metadata": {},
   "source": [
    "### 调用 score 得到结果，调用 predict 得到值"
   ]
  },
  {
   "cell_type": "code",
   "execution_count": 13,
   "metadata": {},
   "outputs": [
    {
     "name": "stdout",
     "output_type": "stream",
     "text": [
      "mse: 4048.1046985315043, rmse: 63.62471766956223, mae: 55.36490903581892, r2: 0.6171178825014589\n"
     ]
    }
   ],
   "source": [
    "lstm.score(X_test, y_test)"
   ]
  },
  {
   "cell_type": "markdown",
   "metadata": {},
   "source": [
    "### 调用 result_plot 保存结果图"
   ]
  },
  {
   "cell_type": "code",
   "execution_count": 14,
   "metadata": {},
   "outputs": [
    {
     "data": {
      "image/png": "[encoded data removed]",
      "text/plain": [
       "<Figure size 432x288 with 1 Axes>"
      ]
     },
     "metadata": {
      "needs_background": "light"
     },
     "output_type": "display_data"
    },
    {
     "name": "stdout",
     "output_type": "stream",
     "text": [
      "Save the picture successfully!\n"
     ]
    }
   ],
   "source": [
    "import os\n",
    "\n",
    "save_path = './Example_save_resultes/save_pngs'\n",
    "if not os.path.exists(save_path):\n",
    "    os.makedirs(save_path)\n",
    "    \n",
    "save_png = os.path.join(save_path, 'lstm_picture.png')\n",
    "lstm.result_plot(X_test, y_test, save_file=save_png, is_show=True)"
   ]
  },
  {
   "cell_type": "markdown",
   "metadata": {},
   "source": [
    "### 保存模型结果, 这里有两个参数，统计 dataset 是否使用了 标准化 和 pca 的预处理"
   ]
  },
  {
   "cell_type": "code",
   "execution_count": 15,
   "metadata": {},
   "outputs": [
    {
     "name": "stdout",
     "output_type": "stream",
     "text": [
      "Save results success!\n"
     ]
    }
   ],
   "source": [
    "results_file = './Example_save_resultes/lstm_result.csv'\n",
    "lstm.save_result(results_file, is_standard=False, is_PCA=False)"
   ]
  },
  {
   "cell_type": "markdown",
   "metadata": {},
   "source": [
    "### 调用 loss_plot 查看训练过程， loss 的变化"
   ]
  },
  {
   "cell_type": "code",
   "execution_count": 16,
   "metadata": {},
   "outputs": [
    {
     "data": {
      "image/png": "[encoded data removed]",
      "text/plain": [
       "<Figure size 432x288 with 1 Axes>"
      ]
     },
     "metadata": {
      "needs_background": "light"
     },
     "output_type": "display_data"
    }
   ],
   "source": [
    "lstm.loss_plot()"
   ]
  },
  {
   "cell_type": "markdown",
   "metadata": {},
   "source": [
    "# 对 y 进行标准化操作"
   ]
  },
  {
   "cell_type": "code",
   "execution_count": 25,
   "metadata": {},
   "outputs": [
    {
     "name": "stdout",
     "output_type": "stream",
     "text": [
      "the shape of dataset_standard is:  (144, 1)\n"
     ]
    }
   ],
   "source": [
    "# 对数据进行 标准化，将最后 百分之20，作为 测试集 \n",
    "# 但是这里标准化后还是要合并，后续要给数据格式进行处理\n",
    "train_size = int(len(dataset) * 0.8)\n",
    "data_train = dataset[:train_size]\n",
    "data_test = dataset[train_size:]\n",
    "\n",
    "from sklearn.preprocessing import StandardScaler\n",
    "\n",
    "standard = StandardScaler()\n",
    "standard.fit(data_train)\n",
    "\n",
    "data_train_standard = standard.transform(data_train)\n",
    "data_test_standard = standard.transform(data_test)\n",
    "\n",
    "# 合并\n",
    "dataset_standard = np.concatenate((data_train_standard, data_test_standard), axis=0)\n",
    "print('the shape of dataset_standard is: ', dataset_standard.shape)"
   ]
  },
  {
   "cell_type": "code",
   "execution_count": 26,
   "metadata": {},
   "outputs": [],
   "source": [
    "from frames.tools import create_dataset\n",
    "\n",
    "X, y = create_dataset(dataset_standard, look_back=7)"
   ]
  },
  {
   "cell_type": "code",
   "execution_count": 27,
   "metadata": {},
   "outputs": [],
   "source": [
    "from frames.tools import train_test_split\n",
    "\n",
    "X_train_standard, X_test_standard, y_train_standard, y_test_standard = train_test_split(X, y, test_size=0.2, random_state=19)"
   ]
  },
  {
   "cell_type": "code",
   "execution_count": 28,
   "metadata": {},
   "outputs": [],
   "source": [
    "from frames.DeeplearningRegression import LSTM\n",
    "\n",
    "'''\n",
    "参数说明：\n",
    "hidden_layers: 隐藏层神经元个数，传入 int\n",
    "num_layers: lstm 层数，传入 int\n",
    "learning rete: 学习率，这里可以是一个 float，也可以是一个 len=3 的 list，当 lr 是 list 的时候，采用梯度衰减策略\n",
    "activate function: 激活函数，默认 relu，改激活函数输入小写字符串即可，如：'tanh','sigmoid'\n",
    "dropout: 默认为 0，即不采用，这个参数是为了防止训练过拟合\n",
    "epoch: 训练批次，默认 2000\n",
    "batch_size: 默认 128\n",
    "'''\n",
    "lstm2 = LSTM(learning_rate=[1e-2, 1e-4, 1e-6], num_layers=2, hidden_size=32, epoch=10000, batch_size=256) # 采用梯度衰减策略"
   ]
  },
  {
   "cell_type": "code",
   "execution_count": 29,
   "metadata": {},
   "outputs": [
    {
     "name": "stdout",
     "output_type": "stream",
     "text": [
      "Training... epoch: 100, loss: 0.045295801013708115\n",
      "Training... epoch: 200, loss: 0.014655540697276592\n",
      "Training... epoch: 300, loss: 0.007893076166510582\n",
      "Training... epoch: 400, loss: 0.0005012425826862454\n",
      "Training... epoch: 500, loss: 0.00028532123542390764\n",
      "Training... epoch: 600, loss: 7.953132444527e-05\n",
      "Training... epoch: 700, loss: 0.001079325913451612\n",
      "Training... epoch: 800, loss: 6.588231917703524e-05\n",
      "Training... epoch: 900, loss: 6.454265076172305e-06\n",
      "Training... epoch: 1000, loss: 1.2340535704424838e-06\n",
      "Training... epoch: 1100, loss: 2.3323916309436754e-07\n",
      "Training... epoch: 1200, loss: 5.5380336760890714e-08\n",
      "Training... epoch: 1300, loss: 0.00013311805378179997\n",
      "Training... epoch: 1400, loss: 2.2402611648431048e-05\n",
      "Training... epoch: 1500, loss: 2.295191414702913e-08\n",
      "Training... epoch: 1600, loss: 7.5430657489050645e-06\n",
      "Training... epoch: 1700, loss: 0.00243153958581388\n",
      "Training... epoch: 1800, loss: 1.462040927435737e-06\n",
      "Training... epoch: 1900, loss: 3.3226672258024337e-07\n",
      "Training... epoch: 2000, loss: 7.937649115774548e-08\n",
      "Training... epoch: 2100, loss: 1.7879163038969637e-08\n",
      "Training... epoch: 2200, loss: 3.6728204921843144e-09\n",
      "Training... epoch: 2300, loss: 6.987112555201236e-10\n",
      "Training... epoch: 2400, loss: 0.00018115638522431254\n",
      "Training... epoch: 2500, loss: 5.864001195732271e-08\n",
      "Training... epoch: 2600, loss: 1.5979374490271425e-09\n",
      "Training... epoch: 2700, loss: 7.273458322742954e-05\n",
      "Training... epoch: 2800, loss: 1.4116276148001816e-08\n",
      "Training... epoch: 2900, loss: 3.8299557969523335e-11\n",
      "Training... epoch: 3000, loss: 3.238952942657969e-12\n",
      "Training... epoch: 3100, loss: 3.661655614134451e-12\n",
      "Training... epoch: 3200, loss: 3.626001489465125e-05\n",
      "Training... epoch: 3300, loss: 0.0002906765148509294\n",
      "Training... epoch: 3400, loss: 5.29509952684748e-06\n",
      "Training... epoch: 3500, loss: 3.5059647984780895e-07\n",
      "Training... epoch: 3600, loss: 4.297099209793487e-08\n",
      "Training... epoch: 3700, loss: 6.028491039700157e-09\n",
      "Training... epoch: 3800, loss: 8.215354507790096e-10\n",
      "Training... epoch: 3900, loss: 1.192902998603529e-10\n",
      "Training... epoch: 4000, loss: 2.704286967969427e-11\n",
      "Training... epoch: 4100, loss: 1.5893413321532712e-11\n",
      "Training... epoch: 4200, loss: 6.1011494835838675e-05\n",
      "Training... epoch: 4300, loss: 1.3606571656055166e-06\n",
      "Training... epoch: 4400, loss: 1.262080662201015e-08\n",
      "Training... epoch: 4500, loss: 2.0551588209016813e-10\n",
      "Training... epoch: 4600, loss: 1.6170613459376426e-11\n",
      "Training... epoch: 4700, loss: 1.0748876615174208e-11\n",
      "Training... epoch: 4800, loss: 1.0356280069623303e-11\n",
      "Training... epoch: 4900, loss: 1.0443385739522526e-11\n",
      "Training... epoch: 5000, loss: 1.3126098298565925e-11\n",
      "Training... epoch: 5100, loss: 2.2681451810058206e-05\n",
      "Training... epoch: 5200, loss: 2.0741016015790592e-08\n",
      "Training... epoch: 5300, loss: 2.4284673230678955e-11\n",
      "Training... epoch: 5400, loss: 9.094063176118272e-12\n",
      "Training... epoch: 5500, loss: 8.831365326533724e-12\n",
      "Training... epoch: 5600, loss: 1.964549944943883e-08\n",
      "Training... epoch: 5700, loss: 7.231546419461665e-07\n",
      "Training... epoch: 5800, loss: 2.672732694886104e-11\n",
      "Training... epoch: 5900, loss: 8.365702228174676e-12\n",
      "Training... epoch: 6000, loss: 8.186956321210026e-12\n",
      "Training... epoch: 6100, loss: 8.01458552301959e-12\n",
      "Training... epoch: 6200, loss: 0.0004541743255686015\n",
      "Training... epoch: 6300, loss: 2.8133795737517175e-08\n",
      "Training... epoch: 6400, loss: 0.002476699650287628\n",
      "Training... epoch: 6500, loss: 5.397160762754538e-08\n",
      "Training... epoch: 6600, loss: 2.65616938166513e-11\n",
      "Training... epoch: 6700, loss: 9.69483694712725e-12\n",
      "Training... epoch: 6800, loss: 1.1110900394184497e-11\n",
      "Training... epoch: 6900, loss: 1.1045353000282976e-11\n",
      "Training... epoch: 7000, loss: 1.1146612279022694e-11\n",
      "Training... epoch: 7100, loss: 1.0990174048597368e-11\n",
      "Training... epoch: 7200, loss: 1.6326738849770095e-09\n",
      "Training... epoch: 7300, loss: 6.258507312395523e-08\n",
      "Training... epoch: 7400, loss: 1.6042135086991038e-07\n",
      "Training... epoch: 7500, loss: 1.5204563169390894e-05\n",
      "Training... epoch: 7600, loss: 5.785924184209534e-09\n",
      "Training... epoch: 7700, loss: 5.05663629155606e-05\n",
      "Training... epoch: 7800, loss: 8.058684275447092e-10\n",
      "Training... epoch: 7900, loss: 5.7251863840035444e-12\n",
      "Training... epoch: 8000, loss: 7.321559157558166e-12\n",
      "Training... epoch: 8100, loss: 0.00023206043988466263\n",
      "Training... epoch: 8200, loss: 5.119556476529397e-07\n",
      "Training... epoch: 8300, loss: 5.863904473102366e-09\n",
      "Training... epoch: 8400, loss: 4.1524898103384444e-11\n",
      "Training... epoch: 8500, loss: 5.8546505317391695e-12\n",
      "Training... epoch: 8600, loss: 5.4919632209993186e-12\n",
      "Training... epoch: 8700, loss: 5.433215075761888e-12\n",
      "Training... epoch: 8800, loss: 5.487878814575131e-12\n",
      "Training... epoch: 8900, loss: 5.511153599452312e-12\n",
      "Training... epoch: 9000, loss: 5.609116036225936e-12\n",
      "Training... epoch: 9100, loss: 5.570419125966453e-12\n",
      "Training... epoch: 9200, loss: 5.634985533742309e-12\n",
      "Training... epoch: 9300, loss: 5.7771652045568445e-12\n",
      "Training... epoch: 9400, loss: 5.700534228686438e-12\n",
      "Training... epoch: 9500, loss: 0.00010976387420669198\n",
      "Training... epoch: 9600, loss: 1.8521830735807043e-09\n",
      "Training... epoch: 9700, loss: 7.175577840246028e-12\n",
      "Training... epoch: 9800, loss: 4.394460847834125e-05\n",
      "Training... epoch: 9900, loss: 2.775725482795366e-10\n",
      "Training... epoch: 10000, loss: 6.701073290010795e-12\n",
      "Training completed!\n"
     ]
    }
   ],
   "source": [
    "lstm2.fit(X_train_standard, y_train_standard)"
   ]
  },
  {
   "cell_type": "markdown",
   "metadata": {},
   "source": [
    "没有进行标准化得到的结果"
   ]
  },
  {
   "cell_type": "code",
   "execution_count": 32,
   "metadata": {},
   "outputs": [
    {
     "name": "stdout",
     "output_type": "stream",
     "text": [
      "mse: 0.11428113102171762, rmse: 0.3380549230845746, mae: 0.251174875622857, r2: 0.9105889994696122\n"
     ]
    }
   ],
   "source": [
    "lstm2.score(X_test_standard, y_test_standard)"
   ]
  },
  {
   "cell_type": "markdown",
   "metadata": {},
   "source": [
    "### 反标准化"
   ]
  },
  {
   "cell_type": "code",
   "execution_count": 34,
   "metadata": {},
   "outputs": [
    {
     "name": "stdout",
     "output_type": "stream",
     "text": [
      "mse: 945.317126683712, rmse: 30.746009931106702, mae: 22.84429168701172, r2: 0.9105890163108686\n"
     ]
    },
    {
     "data": {
      "text/plain": [
       "(945.317126683712, 30.746009931106702, 22.84429168701172, 0.9105890163108686)"
      ]
     },
     "execution_count": 34,
     "metadata": {},
     "output_type": "execute_result"
    }
   ],
   "source": [
    "prediction_standard = lstm2.predict(X_test_standard).data.numpy()\n",
    "\n",
    "prediction = standard.inverse_transform(prediction_standard)\n",
    "y_true = standard.inverse_transform(y_test_standard)\n",
    "\n",
    "from frames.tools import calculate\n",
    "\n",
    "calculate(y_true, prediction)"
   ]
  },
  {
   "cell_type": "code",
   "execution_count": 37,
   "metadata": {},
   "outputs": [
    {
     "data": {
      "image/png": "[encoded data removed]",
      "text/plain": [
       "<Figure size 432x288 with 1 Axes>"
      ]
     },
     "metadata": {
      "needs_background": "light"
     },
     "output_type": "display_data"
    }
   ],
   "source": [
    "plt.plot(range(len(prediction)), prediction, 'r--', label='prediction')\n",
    "plt.plot(range(len(y_true)), y_true, 'b--', label='true')\n",
    "plt.legend()\n",
    "plt.show()"
   ]
  },
  {
   "cell_type": "code",
   "execution_count": 24,
   "metadata": {},
   "outputs": [
    {
     "data": {
      "image/png": "[encoded data removed]",
      "text/plain": [
       "<Figure size 432x288 with 1 Axes>"
      ]
     },
     "metadata": {
      "needs_background": "light"
     },
     "output_type": "display_data"
    }
   ],
   "source": [
    "lstm2.loss_plot()"
   ]
  },
  {
   "cell_type": "code",
   "execution_count": null,
   "metadata": {},
   "outputs": [],
   "source": []
  }
 ],
 "metadata": {
  "kernelspec": {
   "display_name": "Python 3",
   "language": "python",
   "name": "python3"
  },
  "language_info": {
   "codemirror_mode": {
    "name": "ipython",
    "version": 3
   },
   "file_extension": ".py",
   "mimetype": "text/x-python",
   "name": "python",
   "nbconvert_exporter": "python",
   "pygments_lexer": "ipython3",
   "version": "3.6.2"
  }
 },
 "nbformat": 4,
 "nbformat_minor": 2
}
