{
 "cells": [
  {
   "cell_type": "markdown",
   "metadata": {},
   "source": [
    "## 长短时神经网络——Regression example"
   ]
  },
  {
   "cell_type": "markdown",
   "metadata": {},
   "source": [
    "这里刚好有个小 tip，我们做 两个 model\n",
    "\n",
    "即：是否对 y 进行标准化并不是一个**对错问题，且一般不对 y 进行标准化操作！**\n",
    "\n",
    "值得注意的问题是：\n",
    "1. 不对 y 进行标准化，收敛较慢，loss 可能会大一些，但精度有保证。\n",
    "2. 对 y 进行标准化后，最后要对 y 反标准化，虽然收敛速度会加快，但容易过拟合，且在反标准化的过程中，会使精度丢失！"
   ]
  },
  {
   "cell_type": "markdown",
   "metadata": {},
   "source": [
    "### model 1: 不对 y 进行标准化"
   ]
  },
  {
   "cell_type": "code",
   "execution_count": 1,
   "metadata": {},
   "outputs": [],
   "source": [
    "import numpy as np\n",
    "import pandas as pd"
   ]
  },
  {
   "cell_type": "code",
   "execution_count": 2,
   "metadata": {},
   "outputs": [],
   "source": [
    "# 导入数据集\n",
    "stock_file = './dataset/dataset.csv'\n",
    "stock = pd.read_csv(stock_file)"
   ]
  },
  {
   "cell_type": "code",
   "execution_count": 3,
   "metadata": {},
   "outputs": [
    {
     "data": {
      "text/html": [
       "<div>\n",
       "<style scoped>\n",
       "    .dataframe tbody tr th:only-of-type {\n",
       "        vertical-align: middle;\n",
       "    }\n",
       "\n",
       "    .dataframe tbody tr th {\n",
       "        vertical-align: top;\n",
       "    }\n",
       "\n",
       "    .dataframe thead th {\n",
       "        text-align: right;\n",
       "    }\n",
       "</style>\n",
       "<table border=\"1\" class=\"dataframe\">\n",
       "  <thead>\n",
       "    <tr style=\"text-align: right;\">\n",
       "      <th></th>\n",
       "      <th>Month</th>\n",
       "      <th>values</th>\n",
       "    </tr>\n",
       "  </thead>\n",
       "  <tbody>\n",
       "    <tr>\n",
       "      <th>0</th>\n",
       "      <td>Jan-49</td>\n",
       "      <td>112</td>\n",
       "    </tr>\n",
       "    <tr>\n",
       "      <th>1</th>\n",
       "      <td>Feb-49</td>\n",
       "      <td>118</td>\n",
       "    </tr>\n",
       "    <tr>\n",
       "      <th>2</th>\n",
       "      <td>Mar-49</td>\n",
       "      <td>132</td>\n",
       "    </tr>\n",
       "    <tr>\n",
       "      <th>3</th>\n",
       "      <td>Apr-49</td>\n",
       "      <td>129</td>\n",
       "    </tr>\n",
       "    <tr>\n",
       "      <th>4</th>\n",
       "      <td>May-49</td>\n",
       "      <td>121</td>\n",
       "    </tr>\n",
       "  </tbody>\n",
       "</table>\n",
       "</div>"
      ],
      "text/plain": [
       "    Month  values\n",
       "0  Jan-49     112\n",
       "1  Feb-49     118\n",
       "2  Mar-49     132\n",
       "3  Apr-49     129\n",
       "4  May-49     121"
      ]
     },
     "execution_count": 3,
     "metadata": {},
     "output_type": "execute_result"
    }
   ],
   "source": [
    "stock.head(5)"
   ]
  },
  {
   "cell_type": "code",
   "execution_count": 4,
   "metadata": {},
   "outputs": [],
   "source": [
    "label = stock['values']"
   ]
  },
  {
   "cell_type": "code",
   "execution_count": 5,
   "metadata": {},
   "outputs": [
    {
     "data": {
      "image/png": "[encoded data removed]",
      "text/plain": [
       "<Figure size 432x288 with 1 Axes>"
      ]
     },
     "metadata": {
      "needs_background": "light"
     },
     "output_type": "display_data"
    }
   ],
   "source": [
    "import matplotlib.pyplot as plt\n",
    "%matplotlib inline\n",
    "\n",
    "plt.plot(range(len(label)), label, 'r--')\n",
    "plt.show()"
   ]
  },
  {
   "cell_type": "code",
   "execution_count": 6,
   "metadata": {},
   "outputs": [
    {
     "name": "stdout",
     "output_type": "stream",
     "text": [
      "object\n"
     ]
    },
    {
     "data": {
      "text/plain": [
       "(144, 1)"
      ]
     },
     "execution_count": 6,
     "metadata": {},
     "output_type": "execute_result"
    }
   ],
   "source": [
    "dataset = stock.values[:, -1:]\n",
    "print(dataset.dtype)\n",
    "dataset.shape"
   ]
  },
  {
   "cell_type": "code",
   "execution_count": 7,
   "metadata": {},
   "outputs": [
    {
     "name": "stdout",
     "output_type": "stream",
     "text": [
      "float32\n"
     ]
    }
   ],
   "source": [
    "# Because the type of dataset is object, we need to change the type to 'float32'\n",
    "dataset = dataset.astype(np.float32)\n",
    "print(dataset.dtype)"
   ]
  },
  {
   "cell_type": "markdown",
   "metadata": {},
   "source": [
    "### 调用 tools 里面的 create_dataset 函数，构造适应的数据集，look_back 默认为 7，即 (x-7) 天预测第 x 天"
   ]
  },
  {
   "cell_type": "markdown",
   "metadata": {},
   "source": [
    "构造数据集的时候，一般而言，会将 y 也作为 X 的一部分，故 need_label 默认为 True， 当然也可以设置为 False，不用 y 作为 input"
   ]
  },
  {
   "cell_type": "code",
   "execution_count": 8,
   "metadata": {},
   "outputs": [],
   "source": [
    "from frames.tools import create_dataset\n",
    "\n",
    "X, y = create_dataset(dataset, look_back=2, need_label=True)"
   ]
  },
  {
   "cell_type": "code",
   "execution_count": 9,
   "metadata": {},
   "outputs": [
    {
     "name": "stdout",
     "output_type": "stream",
     "text": [
      "(142, 2, 1)\n",
      "(142, 1)\n"
     ]
    }
   ],
   "source": [
    "print(X.shape)\n",
    "print(y.shape)"
   ]
  },
  {
   "cell_type": "markdown",
   "metadata": {},
   "source": [
    "### 切割数据集"
   ]
  },
  {
   "cell_type": "code",
   "execution_count": 10,
   "metadata": {},
   "outputs": [],
   "source": [
    "from frames.tools import train_test_split\n",
    "\n",
    "X_train, X_test, y_train, y_test = train_test_split(X, y, test_size=0.2, random_state=19)"
   ]
  },
  {
   "cell_type": "code",
   "execution_count": 11,
   "metadata": {},
   "outputs": [
    {
     "name": "stdout",
     "output_type": "stream",
     "text": [
      "(113, 2, 1) (29, 2, 1) (113, 1) (29, 1)\n",
      "float32 float32\n"
     ]
    }
   ],
   "source": [
    "print(X_train.shape, X_test.shape, y_train.shape, y_test.shape)\n",
    "print(X_train.dtype, y_train.dtype)"
   ]
  },
  {
   "cell_type": "markdown",
   "metadata": {},
   "source": [
    "### 调用 DeeplearningRegression 里面的 LSTM 框架"
   ]
  },
  {
   "cell_type": "code",
   "execution_count": 12,
   "metadata": {},
   "outputs": [],
   "source": [
    "from frames.DeeplearningRegression import LSTM\n",
    "\n",
    "'''\n",
    "参数说明：\n",
    "hidden_layers: 隐藏层神经元个数，传入 int\n",
    "num_layers: lstm 层数，传入 int\n",
    "learning rete: 学习率，这里可以是一个 float，也可以是一个 len=3 的 list，当 lr 是 list 的时候，采用梯度衰减策略\n",
    "activate function: 激活函数，默认 relu，改激活函数输入小写字符串即可，如：'tanh','sigmoid'\n",
    "dropout: 默认为 0，即不采用，这个参数是为了防止训练过拟合\n",
    "epoch: 训练批次，默认 2000\n",
    "batch_size: 默认 128\n",
    "'''\n",
    "lstm = LSTM(learning_rate=[1e-2, 1e-4, 1e-6], num_layers=2, hidden_size=32, epoch=10000, batch_size=256) # 采用梯度衰减策略"
   ]
  },
  {
   "cell_type": "code",
   "execution_count": 13,
   "metadata": {
    "scrolled": true
   },
   "outputs": [
    {
     "name": "stdout",
     "output_type": "stream",
     "text": [
      "Training... epoch: 100, loss: 85357.703125\n",
      "Training... epoch: 200, loss: 77912.3203125\n",
      "Training... epoch: 300, loss: 71147.5234375\n",
      "Training... epoch: 400, loss: 64965.7109375\n",
      "Training... epoch: 500, loss: 59316.36328125\n",
      "Training... epoch: 600, loss: 54161.578125\n",
      "Training... epoch: 700, loss: 49468.7265625\n",
      "Training... epoch: 800, loss: 45208.12890625\n",
      "Training... epoch: 900, loss: 41352.03125\n",
      "Training... epoch: 1000, loss: 37874.140625\n",
      "Training... epoch: 1100, loss: 34749.31640625\n",
      "Training... epoch: 1200, loss: 31953.40234375\n",
      "Training... epoch: 1300, loss: 29463.126953125\n",
      "Training... epoch: 1400, loss: 27256.009765625\n",
      "Training... epoch: 1500, loss: 25310.306640625\n",
      "Training... epoch: 1600, loss: 23605.01171875\n",
      "Training... epoch: 1700, loss: 22119.798828125\n",
      "Training... epoch: 1800, loss: 20835.0625\n",
      "Training... epoch: 1900, loss: 19731.919921875\n",
      "Training... epoch: 2000, loss: 18792.224609375\n",
      "Training... epoch: 2100, loss: 17998.63671875\n",
      "Training... epoch: 2200, loss: 17334.63671875\n",
      "Training... epoch: 2300, loss: 16784.609375\n",
      "Training... epoch: 2400, loss: 16333.8818359375\n",
      "Training... epoch: 2500, loss: 15968.7880859375\n",
      "Training... epoch: 2600, loss: 15676.7138671875\n",
      "Training... epoch: 2700, loss: 15446.1591796875\n",
      "Training... epoch: 2800, loss: 15266.7412109375\n",
      "Training... epoch: 2900, loss: 15129.234375\n",
      "Training... epoch: 3000, loss: 15025.544921875\n",
      "Training... epoch: 3100, loss: 14948.69921875\n",
      "Training... epoch: 3200, loss: 14892.7841796875\n",
      "Training... epoch: 3300, loss: 14852.8837890625\n",
      "Training... epoch: 3400, loss: 14824.998046875\n",
      "Training... epoch: 3500, loss: 14805.923828125\n",
      "Training... epoch: 3600, loss: 14793.177734375\n",
      "Training... epoch: 3700, loss: 14784.865234375\n",
      "Training... epoch: 3800, loss: 10326.1630859375\n",
      "Training... epoch: 3900, loss: 7978.66845703125\n",
      "Training... epoch: 4000, loss: 6926.234375\n",
      "Training... epoch: 4100, loss: 6080.671875\n",
      "Training... epoch: 4200, loss: 5405.1708984375\n",
      "Training... epoch: 4300, loss: 4841.07421875\n",
      "Training... epoch: 4400, loss: 4372.54248046875\n",
      "Training... epoch: 4500, loss: 3979.79443359375\n",
      "Training... epoch: 4600, loss: 3649.66162109375\n",
      "Training... epoch: 4700, loss: 3359.79443359375\n",
      "Training... epoch: 4800, loss: 3101.33740234375\n",
      "Training... epoch: 4900, loss: 2874.8701171875\n",
      "Training... epoch: 5000, loss: 3081.16796875\n",
      "Training... epoch: 5100, loss: 2538.032470703125\n",
      "Training... epoch: 5200, loss: 2380.929931640625\n",
      "Training... epoch: 5300, loss: 2276.988037109375\n",
      "Training... epoch: 5400, loss: 2132.710205078125\n",
      "Training... epoch: 5500, loss: 2063.543701171875\n",
      "Training... epoch: 5600, loss: 1948.9520263671875\n",
      "Training... epoch: 5700, loss: 1878.024169921875\n",
      "Training... epoch: 5800, loss: 1815.5701904296875\n",
      "Training... epoch: 5900, loss: 1761.95556640625\n",
      "Training... epoch: 6000, loss: 1713.9910888671875\n",
      "Training... epoch: 6100, loss: 1652.0830078125\n",
      "Training... epoch: 6200, loss: 1590.984375\n",
      "Training... epoch: 6300, loss: 1537.000244140625\n",
      "Training... epoch: 6400, loss: 1491.974365234375\n",
      "Training... epoch: 6500, loss: 1454.934814453125\n",
      "Training... epoch: 6600, loss: 1430.4854736328125\n",
      "Training... epoch: 6700, loss: 1386.6571044921875\n",
      "Training... epoch: 6800, loss: 1367.82470703125\n",
      "Training... epoch: 6900, loss: 1341.1883544921875\n",
      "Training... epoch: 7000, loss: 1306.760498046875\n",
      "Training... epoch: 7100, loss: 1279.9100341796875\n",
      "Training... epoch: 7200, loss: 1261.733154296875\n",
      "Training... epoch: 7300, loss: 1246.416015625\n",
      "Training... epoch: 7400, loss: 1235.6497802734375\n",
      "Training... epoch: 7500, loss: 1226.5687255859375\n",
      "Training... epoch: 7600, loss: 1218.841796875\n",
      "Training... epoch: 7700, loss: 1213.485595703125\n",
      "Training... epoch: 7800, loss: 1204.6011962890625\n",
      "Training... epoch: 7900, loss: 1193.099853515625\n",
      "Training... epoch: 8000, loss: 1191.1282958984375\n",
      "Training... epoch: 8100, loss: 1180.5283203125\n",
      "Training... epoch: 8200, loss: 1173.3011474609375\n",
      "Training... epoch: 8300, loss: 1167.797607421875\n",
      "Training... epoch: 8400, loss: 1161.9093017578125\n",
      "Training... epoch: 8500, loss: 1158.8226318359375\n",
      "Training... epoch: 8600, loss: 1160.112060546875\n",
      "Training... epoch: 8700, loss: 1328.3367919921875\n",
      "Training... epoch: 8800, loss: 1299.522216796875\n",
      "Training... epoch: 8900, loss: 1265.785888671875\n",
      "Training... epoch: 9000, loss: 1286.686767578125\n",
      "Training... epoch: 9100, loss: 1250.857177734375\n",
      "Training... epoch: 9200, loss: 1241.2626953125\n",
      "Training... epoch: 9300, loss: 1232.592529296875\n",
      "Training... epoch: 9400, loss: 1229.468994140625\n",
      "Training... epoch: 9500, loss: 1216.7177734375\n",
      "Training... epoch: 9600, loss: 1211.8314208984375\n",
      "Training... epoch: 9700, loss: 1209.234375\n",
      "Training... epoch: 9800, loss: 3506.973876953125\n",
      "Training... epoch: 9900, loss: 3161.67724609375\n",
      "Training... epoch: 10000, loss: 1910.7493896484375\n",
      "Training completed!\n"
     ]
    }
   ],
   "source": [
    "lstm.fit(X_train, y_train)"
   ]
  },
  {
   "cell_type": "markdown",
   "metadata": {},
   "source": [
    "### 调用 score 得到结果，调用 predict 得到值"
   ]
  },
  {
   "cell_type": "code",
   "execution_count": 14,
   "metadata": {},
   "outputs": [
    {
     "name": "stdout",
     "output_type": "stream",
     "text": [
      "mse: 1354.80078125, rmse: 36.8076171875, mae: 26.300046920776367, r2: 0.8820964199692866\n"
     ]
    }
   ],
   "source": [
    "lstm.score(X_test, y_test)"
   ]
  },
  {
   "cell_type": "markdown",
   "metadata": {},
   "source": [
    "### 调用 result_plot 保存结果图"
   ]
  },
  {
   "cell_type": "code",
   "execution_count": 15,
   "metadata": {},
   "outputs": [
    {
     "data": {
      "image/png": "[encoded data removed]",
      "text/plain": [
       "<Figure size 432x288 with 1 Axes>"
      ]
     },
     "metadata": {
      "needs_background": "light"
     },
     "output_type": "display_data"
    },
    {
     "name": "stdout",
     "output_type": "stream",
     "text": [
      "Save the picture successfully!\n"
     ]
    }
   ],
   "source": [
    "import os\n",
    "\n",
    "save_path = './Example_save_resultes/save_pngs'\n",
    "if not os.path.exists(save_path):\n",
    "    os.makedirs(save_path)\n",
    "    \n",
    "save_png = os.path.join(save_path, 'lstm_picture.png')\n",
    "lstm.result_plot(X_test, y_test, save_file=save_png, is_show=True)"
   ]
  },
  {
   "cell_type": "markdown",
   "metadata": {},
   "source": [
    "### 保存模型结果, 这里有两个参数，统计 dataset 是否使用了 标准化 和 pca 的预处理"
   ]
  },
  {
   "cell_type": "code",
   "execution_count": 16,
   "metadata": {},
   "outputs": [
    {
     "name": "stdout",
     "output_type": "stream",
     "text": [
      "Save results success!\n"
     ]
    }
   ],
   "source": [
    "results_file = './Example_save_resultes/lstm_result.csv'\n",
    "lstm.save_result(results_file, is_standard=False, is_PCA=False)"
   ]
  },
  {
   "cell_type": "markdown",
   "metadata": {},
   "source": [
    "### 调用 loss_plot 查看训练过程， loss 的变化"
   ]
  },
  {
   "cell_type": "code",
   "execution_count": 17,
   "metadata": {},
   "outputs": [
    {
     "data": {
      "image/png": "[encoded data removed]",
      "text/plain": [
       "<Figure size 432x288 with 1 Axes>"
      ]
     },
     "metadata": {
      "needs_background": "light"
     },
     "output_type": "display_data"
    }
   ],
   "source": [
    "lstm.loss_plot()"
   ]
  },
  {
   "cell_type": "markdown",
   "metadata": {},
   "source": [
    "# 对 y 进行标准化操作"
   ]
  },
  {
   "cell_type": "markdown",
   "metadata": {},
   "source": [
    "在机器学习里，认为 训练集（training set）的分布符合总体分布"
   ]
  },
  {
   "cell_type": "code",
   "execution_count": 18,
   "metadata": {},
   "outputs": [
    {
     "name": "stdout",
     "output_type": "stream",
     "text": [
      "the shape of dataset_standard is:  (144, 1)\n"
     ]
    }
   ],
   "source": [
    "# 对数据进行 标准化，将最后 百分之20，作为 测试集 \n",
    "# 但是这里标准化后还是要合并，后续要给数据格式进行处理\n",
    "train_size = int(len(dataset) * 0.8)\n",
    "data_train = dataset[:train_size]\n",
    "data_test = dataset[train_size:]\n",
    "\n",
    "from sklearn.preprocessing import StandardScaler\n",
    "\n",
    "standard = StandardScaler()\n",
    "standard.fit(data_train)\n",
    "\n",
    "data_train_standard = standard.transform(data_train)\n",
    "data_test_standard = standard.transform(data_test)\n",
    "\n",
    "# 合并\n",
    "dataset_standard = np.concatenate((data_train_standard, data_test_standard), axis=0)\n",
    "print('the shape of dataset_standard is: ', dataset_standard.shape)"
   ]
  },
  {
   "cell_type": "code",
   "execution_count": 23,
   "metadata": {},
   "outputs": [],
   "source": [
    "from frames.tools import create_dataset\n",
    "\n",
    "X, y = create_dataset(dataset_standard, look_back=2)"
   ]
  },
  {
   "cell_type": "code",
   "execution_count": 24,
   "metadata": {},
   "outputs": [],
   "source": [
    "from frames.tools import train_test_split\n",
    "\n",
    "X_train_standard, X_test_standard, y_train_standard, y_test_standard = train_test_split(X, y, test_size=0.2, random_state=19)"
   ]
  },
  {
   "cell_type": "code",
   "execution_count": 25,
   "metadata": {},
   "outputs": [],
   "source": [
    "from frames.DeeplearningRegression import LSTM\n",
    "\n",
    "'''\n",
    "参数说明：\n",
    "hidden_layers: 隐藏层神经元个数，传入 int\n",
    "num_layers: lstm 层数，传入 int\n",
    "learning rete: 学习率，这里可以是一个 float，也可以是一个 len=3 的 list，当 lr 是 list 的时候，采用梯度衰减策略\n",
    "activate function: 激活函数，默认 relu，改激活函数输入小写字符串即可，如：'tanh','sigmoid'\n",
    "dropout: 默认为 0，即不采用，这个参数是为了防止训练过拟合\n",
    "epoch: 训练批次，默认 2000\n",
    "batch_size: 默认 128\n",
    "'''\n",
    "lstm2 = LSTM(learning_rate=[1e-2, 1e-4, 1e-6], num_layers=2, hidden_size=32, epoch=10000, batch_size=256) # 采用梯度衰减策略"
   ]
  },
  {
   "cell_type": "code",
   "execution_count": 26,
   "metadata": {
    "scrolled": true
   },
   "outputs": [
    {
     "name": "stdout",
     "output_type": "stream",
     "text": [
      "Training... epoch: 100, loss: 0.10185768455266953\n",
      "Training... epoch: 200, loss: 0.08832947164773941\n",
      "Training... epoch: 300, loss: 0.08447837829589844\n",
      "Training... epoch: 400, loss: 0.07607705891132355\n",
      "Training... epoch: 500, loss: 0.06763128936290741\n",
      "Training... epoch: 600, loss: 0.059247009456157684\n",
      "Training... epoch: 700, loss: 0.043951235711574554\n",
      "Training... epoch: 800, loss: 0.03877587616443634\n",
      "Training... epoch: 900, loss: 0.029109004884958267\n",
      "Training... epoch: 1000, loss: 0.02427276410162449\n",
      "Training... epoch: 1100, loss: 0.023603498935699463\n",
      "Training... epoch: 1200, loss: 0.014321276918053627\n",
      "Training... epoch: 1300, loss: 0.01298401691019535\n",
      "Training... epoch: 1400, loss: 0.010950428433716297\n",
      "Training... epoch: 1500, loss: 0.006075561046600342\n",
      "Training... epoch: 1600, loss: 0.005935847759246826\n",
      "Training... epoch: 1700, loss: 0.005633251275867224\n",
      "Training... epoch: 1800, loss: 0.004128455650061369\n",
      "Training... epoch: 1900, loss: 0.017945317551493645\n",
      "Training... epoch: 2000, loss: 0.012126853689551353\n",
      "Training... epoch: 2100, loss: 0.009058020077645779\n",
      "Training... epoch: 2200, loss: 0.005793547257781029\n",
      "Training... epoch: 2300, loss: 0.003933439031243324\n",
      "Training... epoch: 2400, loss: 0.07416269183158875\n",
      "Training... epoch: 2500, loss: 0.004822179675102234\n",
      "Training... epoch: 2600, loss: 0.002181950956583023\n",
      "Training... epoch: 2700, loss: 0.001143103581853211\n",
      "Training... epoch: 2800, loss: 0.014712403528392315\n",
      "Training... epoch: 2900, loss: 0.0008698704186826944\n",
      "Training... epoch: 3000, loss: 0.0006575874285772443\n",
      "Training... epoch: 3100, loss: 0.0007117406348697841\n",
      "Training... epoch: 3200, loss: 0.0005911555490456522\n",
      "Training... epoch: 3300, loss: 0.0005802210071124136\n",
      "Training... epoch: 3400, loss: 0.0007249214686453342\n",
      "Training... epoch: 3500, loss: 0.0005720845656469464\n",
      "Training... epoch: 3600, loss: 0.000744227843824774\n",
      "Training... epoch: 3700, loss: 0.000766822078730911\n",
      "Training... epoch: 3800, loss: 0.02137593924999237\n",
      "Training... epoch: 3900, loss: 0.00760513124987483\n",
      "Training... epoch: 4000, loss: 0.0032220580615103245\n",
      "Training... epoch: 4100, loss: 0.001959688263013959\n",
      "Training... epoch: 4200, loss: 0.0015773889608681202\n",
      "Training... epoch: 4300, loss: 0.005841490812599659\n",
      "Training... epoch: 4400, loss: 0.0015533659607172012\n",
      "Training... epoch: 4500, loss: 0.0023832081351429224\n",
      "Training... epoch: 4600, loss: 0.000754721462726593\n",
      "Training... epoch: 4700, loss: 0.0009912385139614344\n",
      "Training... epoch: 4800, loss: 0.00032835977617651224\n",
      "Training... epoch: 4900, loss: 0.0002589633222669363\n",
      "Training... epoch: 5000, loss: 0.00021641395869664848\n",
      "Training... epoch: 5100, loss: 0.002867820905521512\n",
      "Training... epoch: 5200, loss: 0.0003704289556480944\n",
      "Training... epoch: 5300, loss: 0.00016254524234682322\n",
      "Training... epoch: 5400, loss: 0.0005650108796544373\n",
      "Training... epoch: 5500, loss: 0.0002906964800786227\n",
      "Training... epoch: 5600, loss: 0.0001343347248621285\n",
      "Training... epoch: 5700, loss: 0.00011678416194627061\n",
      "Training... epoch: 5800, loss: 0.0002673342532943934\n",
      "Training... epoch: 5900, loss: 0.00014945889415685087\n",
      "Training... epoch: 6000, loss: 0.0007996800704859197\n",
      "Training... epoch: 6100, loss: 4.3489864765433595e-05\n",
      "Training... epoch: 6200, loss: 0.00011495363287394866\n",
      "Training... epoch: 6300, loss: 0.006871116813272238\n",
      "Training... epoch: 6400, loss: 0.00013694741937797517\n",
      "Training... epoch: 6500, loss: 3.366614328115247e-05\n",
      "Training... epoch: 6600, loss: 7.680583803448826e-05\n",
      "Training... epoch: 6700, loss: 0.00014524620200973004\n",
      "Training... epoch: 6800, loss: 0.013449585996568203\n",
      "Training... epoch: 6900, loss: 0.004649866372346878\n",
      "Training... epoch: 7000, loss: 0.0031931677367538214\n",
      "Training... epoch: 7100, loss: 0.00010841848416021094\n",
      "Training... epoch: 7200, loss: 1.48312628880376e-05\n",
      "Training... epoch: 7300, loss: 1.0257485882902984e-05\n",
      "Training... epoch: 7400, loss: 9.347876584797632e-06\n",
      "Training... epoch: 7500, loss: 6.1984283092897385e-06\n",
      "Training... epoch: 7600, loss: 5.109159246785566e-06\n",
      "Training... epoch: 7700, loss: 3.8381997001124546e-05\n",
      "Training... epoch: 7800, loss: 3.942501734854886e-06\n",
      "Training... epoch: 7900, loss: 1.1612307389441412e-05\n",
      "Training... epoch: 8000, loss: 0.03647206723690033\n",
      "Training... epoch: 8100, loss: 0.003948971629142761\n",
      "Training... epoch: 8200, loss: 0.0026411341968923807\n",
      "Training... epoch: 8300, loss: 0.0015888239722698927\n",
      "Training... epoch: 8400, loss: 0.0012076118728145957\n",
      "Training... epoch: 8500, loss: 0.0011402389500290155\n",
      "Training... epoch: 8600, loss: 0.0004267212643753737\n",
      "Training... epoch: 8700, loss: 0.00022630866442341357\n",
      "Training... epoch: 8800, loss: 0.00016545780817978084\n",
      "Training... epoch: 8900, loss: 0.0004827135126106441\n",
      "Training... epoch: 9000, loss: 0.00011665721103781834\n",
      "Training... epoch: 9100, loss: 0.00021299246873240918\n",
      "Training... epoch: 9200, loss: 9.292646427638829e-05\n",
      "Training... epoch: 9300, loss: 0.0009035602561198175\n",
      "Training... epoch: 9400, loss: 7.639857358299196e-05\n",
      "Training... epoch: 9500, loss: 6.996669981162995e-05\n",
      "Training... epoch: 9600, loss: 6.551824480993673e-05\n",
      "Training... epoch: 9700, loss: 7.922372606117278e-05\n",
      "Training... epoch: 9800, loss: 0.0006151723209768534\n",
      "Training... epoch: 9900, loss: 0.00026451898156665266\n",
      "Training... epoch: 10000, loss: 0.00016585733101237565\n",
      "Training completed!\n"
     ]
    }
   ],
   "source": [
    "lstm2.fit(X_train_standard, y_train_standard)"
   ]
  },
  {
   "cell_type": "markdown",
   "metadata": {},
   "source": [
    "没有进行标准化得到的结果"
   ]
  },
  {
   "cell_type": "code",
   "execution_count": 27,
   "metadata": {},
   "outputs": [
    {
     "name": "stdout",
     "output_type": "stream",
     "text": [
      "mse: 0.43841803073883057, rmse: 0.6621314287185669, mae: 0.5439490675926208, r2: 0.684395604851685\n"
     ]
    }
   ],
   "source": [
    "lstm2.score(X_test_standard, y_test_standard)"
   ]
  },
  {
   "cell_type": "markdown",
   "metadata": {},
   "source": [
    "### 反标准化"
   ]
  },
  {
   "cell_type": "code",
   "execution_count": 30,
   "metadata": {},
   "outputs": [
    {
     "name": "stdout",
     "output_type": "stream",
     "text": [
      "mse: 3626.531982421875, rmse: 60.22069549560547, mae: 49.472042083740234, r2: 0.6843955892093101\n"
     ]
    },
    {
     "data": {
      "text/plain": [
       "(3626.532, 60.220695, 49.472042, 0.6843955892093101)"
      ]
     },
     "execution_count": 30,
     "metadata": {},
     "output_type": "execute_result"
    }
   ],
   "source": [
    "prediction_standard = lstm2.predict(X_test_standard).data.numpy()\n",
    "\n",
    "prediction = standard.inverse_transform(prediction_standard)\n",
    "y_true = standard.inverse_transform(y_test_standard)\n",
    "\n",
    "from frames.tools import reg_calculate\n",
    "\n",
    "reg_calculate(y_true, prediction)"
   ]
  },
  {
   "cell_type": "code",
   "execution_count": 31,
   "metadata": {},
   "outputs": [
    {
     "data": {
      "image/png": "[encoded data removed]",
      "text/plain": [
       "<Figure size 432x288 with 1 Axes>"
      ]
     },
     "metadata": {
      "needs_background": "light"
     },
     "output_type": "display_data"
    }
   ],
   "source": [
    "plt.plot(range(len(prediction)), prediction, 'r--', label='prediction')\n",
    "plt.plot(range(len(y_true)), y_true, 'b--', label='true')\n",
    "plt.legend()\n",
    "plt.show()"
   ]
  },
  {
   "cell_type": "code",
   "execution_count": 32,
   "metadata": {},
   "outputs": [
    {
     "data": {
      "image/png": "[encoded data removed]",
      "text/plain": [
       "<Figure size 432x288 with 1 Axes>"
      ]
     },
     "metadata": {
      "needs_background": "light"
     },
     "output_type": "display_data"
    }
   ],
   "source": [
    "lstm2.loss_plot()"
   ]
  },
  {
   "cell_type": "code",
   "execution_count": null,
   "metadata": {},
   "outputs": [],
   "source": []
  }
 ],
 "metadata": {
  "kernelspec": {
   "display_name": "Python 3",
   "language": "python",
   "name": "python3"
  },
  "language_info": {
   "codemirror_mode": {
    "name": "ipython",
    "version": 3
   },
   "file_extension": ".py",
   "mimetype": "text/x-python",
   "name": "python",
   "nbconvert_exporter": "python",
   "pygments_lexer": "ipython3",
   "version": "3.6.2"
  }
 },
 "nbformat": 4,
 "nbformat_minor": 2
}
