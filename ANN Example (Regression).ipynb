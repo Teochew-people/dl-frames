{
 "cells": [
  {
   "cell_type": "markdown",
   "metadata": {},
   "source": [
    "## 人工神经网络——Regression example"
   ]
  },
  {
   "cell_type": "code",
   "execution_count": 1,
   "metadata": {},
   "outputs": [],
   "source": [
    "from sklearn import datasets\n",
    "\n",
    "'''\n",
    "The regression example of the Boston dataset.\n",
    "'''\n",
    "\n",
    "boston = datasets.load_boston()\n",
    "\n",
    "X, y = boston.data, boston.target.reshape(-1, 1)\n",
    "\n",
    "from sklearn.model_selection import train_test_split\n",
    "\n",
    "X_train, X_test, y_train, y_test = train_test_split(X, y, test_size=0.2, random_state=19)"
   ]
  },
  {
   "cell_type": "code",
   "execution_count": 2,
   "metadata": {},
   "outputs": [
    {
     "name": "stdout",
     "output_type": "stream",
     "text": [
      "(404, 13)\n",
      "(404, 1)\n"
     ]
    }
   ],
   "source": [
    "print(X_train.shape)\n",
    "print(y_train.shape)"
   ]
  },
  {
   "cell_type": "markdown",
   "metadata": {},
   "source": [
    "### 调用 DeeplearningRegression 里面的 ANN 框架"
   ]
  },
  {
   "cell_type": "code",
   "execution_count": 3,
   "metadata": {},
   "outputs": [],
   "source": [
    "from frames.DeeplearningRegression import ANN\n",
    "\n",
    "'''\n",
    "参数说明：\n",
    "hidden_layers: 每层神经元个数，传入 list\n",
    "learning rete: 学习率，这里可以是一个 float，也可以是一个 len=3 的 list，当 lr 是 list 的时候，采用梯度衰减策略\n",
    "activate function: 激活函数，默认 relu，改激活函数输入小写字符串即可，如：'tanh','sigmoid'\n",
    "dropout: 默认为 0，即不采用，这个参数是为了防止训练过拟合\n",
    "epoch: 训练批次，默认 2000\n",
    "batch_size: 默认 128\n",
    "'''\n",
    "ann = ANN(hidden_layers=[128, 64], learning_rate=[1e-3, 1e-5, 1e-7], epoch=10000, batch_size=256) # 采用梯度衰减策略"
   ]
  },
  {
   "cell_type": "code",
   "execution_count": 4,
   "metadata": {
    "scrolled": true
   },
   "outputs": [
    {
     "name": "stdout",
     "output_type": "stream",
     "text": [
      "Training... epoch: 100, loss: 46.836463928222656\n",
      "Training... epoch: 200, loss: 21.733922958374023\n",
      "Training... epoch: 300, loss: 17.02243995666504\n",
      "Training... epoch: 400, loss: 12.558945655822754\n",
      "Training... epoch: 500, loss: 8.807276725769043\n",
      "Training... epoch: 600, loss: 8.058255195617676\n",
      "Training... epoch: 700, loss: 11.056777000427246\n",
      "Training... epoch: 800, loss: 8.644417762756348\n",
      "Training... epoch: 900, loss: 8.751995086669922\n",
      "Training... epoch: 1000, loss: 6.544396877288818\n",
      "Training... epoch: 1100, loss: 7.400113582611084\n",
      "Training... epoch: 1200, loss: 7.798416614532471\n",
      "Training... epoch: 1300, loss: 7.224464416503906\n",
      "Training... epoch: 1400, loss: 5.679148197174072\n",
      "Training... epoch: 1500, loss: 4.588648796081543\n",
      "Training... epoch: 1600, loss: 5.1999735832214355\n",
      "Training... epoch: 1700, loss: 6.078949928283691\n",
      "Training... epoch: 1800, loss: 4.994617462158203\n",
      "Training... epoch: 1900, loss: 4.179141521453857\n",
      "Training... epoch: 2000, loss: 3.0677528381347656\n",
      "Training... epoch: 2100, loss: 5.397891998291016\n",
      "Training... epoch: 2200, loss: 3.584887742996216\n",
      "Training... epoch: 2300, loss: 5.465847015380859\n",
      "Training... epoch: 2400, loss: 3.4028971195220947\n",
      "Training... epoch: 2500, loss: 3.900282144546509\n",
      "Training... epoch: 2600, loss: 2.6257271766662598\n",
      "Training... epoch: 2700, loss: 3.2650561332702637\n",
      "Training... epoch: 2800, loss: 3.433994770050049\n",
      "Training... epoch: 2900, loss: 3.5555226802825928\n",
      "Training... epoch: 3000, loss: 5.473395347595215\n",
      "Training... epoch: 3100, loss: 3.7328243255615234\n",
      "Training... epoch: 3200, loss: 2.8955342769622803\n",
      "Training... epoch: 3300, loss: 4.159640789031982\n",
      "Training... epoch: 3400, loss: 3.17434024810791\n",
      "Training... epoch: 3500, loss: 2.913633346557617\n",
      "Training... epoch: 3600, loss: 2.4218990802764893\n",
      "Training... epoch: 3700, loss: 2.950530529022217\n",
      "Training... epoch: 3800, loss: 1.6968070268630981\n",
      "Training... epoch: 3900, loss: 2.284343719482422\n",
      "Training... epoch: 4000, loss: 2.2625620365142822\n",
      "Training... epoch: 4100, loss: 2.5438544750213623\n",
      "Training... epoch: 4200, loss: 2.2289044857025146\n",
      "Training... epoch: 4300, loss: 2.445507049560547\n",
      "Training... epoch: 4400, loss: 2.3578147888183594\n",
      "Training... epoch: 4500, loss: 1.9961985349655151\n",
      "Training... epoch: 4600, loss: 2.361886501312256\n",
      "Training... epoch: 4700, loss: 2.2645087242126465\n",
      "Training... epoch: 4800, loss: 3.274596691131592\n",
      "Training... epoch: 4900, loss: 1.7826385498046875\n",
      "Training... epoch: 5000, loss: 2.1399571895599365\n",
      "Training... epoch: 5100, loss: 2.1929125785827637\n",
      "Training... epoch: 5200, loss: 2.5952069759368896\n",
      "Training... epoch: 5300, loss: 2.0586917400360107\n",
      "Training... epoch: 5400, loss: 2.231323480606079\n",
      "Training... epoch: 5500, loss: 1.9370468854904175\n",
      "Training... epoch: 5600, loss: 1.7341134548187256\n",
      "Training... epoch: 5700, loss: 1.7801944017410278\n",
      "Training... epoch: 5800, loss: 1.9449043273925781\n",
      "Training... epoch: 5900, loss: 1.5516411066055298\n",
      "Training... epoch: 6000, loss: 1.9454809427261353\n",
      "Training... epoch: 6100, loss: 1.5046242475509644\n",
      "Training... epoch: 6200, loss: 2.3721117973327637\n",
      "Training... epoch: 6300, loss: 4.3517746925354\n",
      "Training... epoch: 6400, loss: 2.352145195007324\n",
      "Training... epoch: 6500, loss: 1.72752845287323\n",
      "Training... epoch: 6600, loss: 1.684721827507019\n",
      "Training... epoch: 6700, loss: 1.2741841077804565\n",
      "Training... epoch: 6800, loss: 2.1551530361175537\n",
      "Training... epoch: 6900, loss: 1.5747963190078735\n",
      "Training... epoch: 7000, loss: 1.0612261295318604\n",
      "Training... epoch: 7100, loss: 1.4976738691329956\n",
      "Training... epoch: 7200, loss: 1.3460206985473633\n",
      "Training... epoch: 7300, loss: 2.5923190116882324\n",
      "Training... epoch: 7400, loss: 1.9190683364868164\n",
      "Training... epoch: 7500, loss: 1.8454622030258179\n",
      "Training... epoch: 7600, loss: 1.500878930091858\n",
      "Training... epoch: 7700, loss: 1.6620845794677734\n",
      "Training... epoch: 7800, loss: 1.5798299312591553\n",
      "Training... epoch: 7900, loss: 1.3192476034164429\n",
      "Training... epoch: 8000, loss: 0.9338816404342651\n",
      "Training... epoch: 8100, loss: 2.5852773189544678\n",
      "Training... epoch: 8200, loss: 1.294519066810608\n",
      "Training... epoch: 8300, loss: 2.0051164627075195\n",
      "Training... epoch: 8400, loss: 1.0862340927124023\n",
      "Training... epoch: 8500, loss: 1.3673207759857178\n",
      "Training... epoch: 8600, loss: 1.3306360244750977\n",
      "Training... epoch: 8700, loss: 1.0467767715454102\n",
      "Training... epoch: 8800, loss: 1.4140219688415527\n",
      "Training... epoch: 8900, loss: 1.11194908618927\n",
      "Training... epoch: 9000, loss: 0.938360333442688\n",
      "Training... epoch: 9100, loss: 0.9322476387023926\n",
      "Training... epoch: 9200, loss: 1.2226215600967407\n",
      "Training... epoch: 9300, loss: 1.2746466398239136\n",
      "Training... epoch: 9400, loss: 1.5732228755950928\n",
      "Training... epoch: 9500, loss: 0.9921361804008484\n",
      "Training... epoch: 9600, loss: 1.2865554094314575\n",
      "Training... epoch: 9700, loss: 0.7886541485786438\n",
      "Training... epoch: 9800, loss: 1.206330418586731\n",
      "Training... epoch: 9900, loss: 0.9785215854644775\n",
      "Training... epoch: 10000, loss: 1.2059276103973389\n",
      "Training completed!\n"
     ]
    }
   ],
   "source": [
    "ann.fit(X_train, y_train)"
   ]
  },
  {
   "cell_type": "markdown",
   "metadata": {},
   "source": [
    "### 调用 score 得到结果，调用 predict 得到值"
   ]
  },
  {
   "cell_type": "code",
   "execution_count": 5,
   "metadata": {},
   "outputs": [
    {
     "name": "stdout",
     "output_type": "stream",
     "text": [
      "mse: 19.599611845759103, rmse: 4.427144886465667, mae: 2.812844925300747, r2: 0.8126816352466503\n"
     ]
    }
   ],
   "source": [
    "ann.score(X_test, y_test)"
   ]
  },
  {
   "cell_type": "markdown",
   "metadata": {},
   "source": [
    "### 调用 result_plot 保存结果图"
   ]
  },
  {
   "cell_type": "code",
   "execution_count": 6,
   "metadata": {},
   "outputs": [
    {
     "name": "stdout",
     "output_type": "stream",
     "text": [
      "Save the picture successfully!\n"
     ]
    }
   ],
   "source": [
    "import os\n",
    "\n",
    "save_path = './Example_save_resultes/save_pngs'\n",
    "if not os.path.exists(save_path):\n",
    "    os.makedirs(save_path)\n",
    "    \n",
    "save_png = os.path.join(save_path, 'ann_picture.png')\n",
    "ann.result_plot(X_test, y_test, save_file=save_png)"
   ]
  },
  {
   "cell_type": "markdown",
   "metadata": {},
   "source": [
    "### 保存模型结果, 这里有两个参数，统计 dataset 是否使用了 标准化 和 pca 的预处理"
   ]
  },
  {
   "cell_type": "code",
   "execution_count": 7,
   "metadata": {},
   "outputs": [
    {
     "name": "stdout",
     "output_type": "stream",
     "text": [
      "Save results success!\n"
     ]
    }
   ],
   "source": [
    "results_file = './Example_save_resultes/ann_result.csv'\n",
    "ann.save_result(results_file, is_standard=False, is_PCA=False)"
   ]
  },
  {
   "cell_type": "markdown",
   "metadata": {},
   "source": [
    "### 调用 loss_plot 查看训练过程， loss 的变化"
   ]
  },
  {
   "cell_type": "code",
   "execution_count": 8,
   "metadata": {},
   "outputs": [
    {
     "data": {
      "image/png": "[encoded data removed]",
      "text/plain": [
       "<Figure size 432x288 with 1 Axes>"
      ]
     },
     "metadata": {
      "needs_background": "light"
     },
     "output_type": "display_data"
    }
   ],
   "source": [
    "ann.loss_plot()"
   ]
  },
  {
   "cell_type": "code",
   "execution_count": null,
   "metadata": {},
   "outputs": [],
   "source": []
  }
 ],
 "metadata": {
  "kernelspec": {
   "display_name": "Python 3",
   "language": "python",
   "name": "python3"
  },
  "language_info": {
   "codemirror_mode": {
    "name": "ipython",
    "version": 3
   },
   "file_extension": ".py",
   "mimetype": "text/x-python",
   "name": "python",
   "nbconvert_exporter": "python",
   "pygments_lexer": "ipython3",
   "version": "3.6.2"
  }
 },
 "nbformat": 4,
 "nbformat_minor": 2
}
