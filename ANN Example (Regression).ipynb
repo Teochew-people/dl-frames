{
 "cells": [
  {
   "cell_type": "markdown",
   "metadata": {},
   "source": [
    "## 人工神经网络——Regression example"
   ]
  },
  {
   "cell_type": "code",
   "execution_count": 1,
   "metadata": {},
   "outputs": [],
   "source": [
    "from sklearn import datasets\n",
    "\n",
    "'''\n",
    "The regression example of the Boston dataset.\n",
    "'''\n",
    "\n",
    "boston = datasets.load_boston()\n",
    "\n",
    "X, y = boston.data, boston.target.reshape(-1, 1)\n",
    "\n",
    "from sklearn.model_selection import train_test_split\n",
    "\n",
    "X_train, X_test, y_train, y_test = train_test_split(X, y, test_size=0.2, random_state=19)"
   ]
  },
  {
   "cell_type": "code",
   "execution_count": 2,
   "metadata": {},
   "outputs": [
    {
     "name": "stdout",
     "output_type": "stream",
     "text": [
      "(404, 13)\n",
      "(404, 1)\n"
     ]
    }
   ],
   "source": [
    "print(X_train.shape)\n",
    "print(y_train.shape)"
   ]
  },
  {
   "cell_type": "markdown",
   "metadata": {},
   "source": [
    "### 调用 DeeplearningRegression 里面的 ANN 框架"
   ]
  },
  {
   "cell_type": "code",
   "execution_count": 3,
   "metadata": {},
   "outputs": [],
   "source": [
    "from frames.DeeplearningRegression import ANN\n",
    "\n",
    "'''\n",
    "参数说明：\n",
    "hidden_layers: 每层神经元个数，传入 list\n",
    "learning rete: 学习率，这里可以是一个 float，也可以是一个 len=3 的 list，当 lr 是 list 的时候，采用梯度衰减策略\n",
    "activate function: 激活函数，默认 relu，改激活函数输入小写字符串即可，如：'tanh','sigmoid'\n",
    "dropout: 默认为 0，即不采用，这个参数是为了防止训练过拟合\n",
    "epoch: 训练批次，默认 2000\n",
    "batch_size: 默认 128\n",
    "'''\n",
    "ann = ANN(hidden_layers=[128, 64], learning_rate=[1e-3, 1e-5, 1e-7], epoch=10000, batch_size=256) # 采用梯度衰减策略"
   ]
  },
  {
   "cell_type": "code",
   "execution_count": 4,
   "metadata": {
    "scrolled": true
   },
   "outputs": [
    {
     "name": "stdout",
     "output_type": "stream",
     "text": [
      "Training... epoch: 100, loss: 28.249006271362305\n",
      "Training... epoch: 200, loss: 15.304084777832031\n",
      "Training... epoch: 300, loss: 12.330802917480469\n",
      "Training... epoch: 400, loss: 8.659722328186035\n",
      "Training... epoch: 500, loss: 10.242937088012695\n",
      "Training... epoch: 600, loss: 8.380364418029785\n",
      "Training... epoch: 700, loss: 6.366713523864746\n",
      "Training... epoch: 800, loss: 6.72205924987793\n",
      "Training... epoch: 900, loss: 8.118117332458496\n",
      "Training... epoch: 1000, loss: 6.960887908935547\n",
      "Training... epoch: 1100, loss: 8.611330032348633\n",
      "Training... epoch: 1200, loss: 6.224942684173584\n",
      "Training... epoch: 1300, loss: 7.141670227050781\n",
      "Training... epoch: 1400, loss: 4.958449363708496\n",
      "Training... epoch: 1500, loss: 4.833189487457275\n",
      "Training... epoch: 1600, loss: 3.5260207653045654\n",
      "Training... epoch: 1700, loss: 5.356499195098877\n",
      "Training... epoch: 1800, loss: 5.4151387214660645\n",
      "Training... epoch: 1900, loss: 4.391218662261963\n",
      "Training... epoch: 2000, loss: 4.324287414550781\n",
      "Training... epoch: 2100, loss: 7.644683837890625\n",
      "Training... epoch: 2200, loss: 4.968488693237305\n",
      "Training... epoch: 2300, loss: 3.744529962539673\n",
      "Training... epoch: 2400, loss: 3.600283622741699\n",
      "Training... epoch: 2500, loss: 3.7052884101867676\n",
      "Training... epoch: 2600, loss: 3.5806725025177\n",
      "Training... epoch: 2700, loss: 3.7650232315063477\n",
      "Training... epoch: 2800, loss: 5.019554138183594\n",
      "Training... epoch: 2900, loss: 2.9494917392730713\n",
      "Training... epoch: 3000, loss: 2.6196820735931396\n",
      "Training... epoch: 3100, loss: 2.8799562454223633\n",
      "Training... epoch: 3200, loss: 3.8428964614868164\n",
      "Training... epoch: 3300, loss: 3.36979341506958\n",
      "Training... epoch: 3400, loss: 3.10849928855896\n",
      "Training... epoch: 3500, loss: 3.162398099899292\n",
      "Training... epoch: 3600, loss: 3.082488536834717\n",
      "Training... epoch: 3700, loss: 2.9609858989715576\n",
      "Training... epoch: 3800, loss: 2.686955690383911\n",
      "Training... epoch: 3900, loss: 3.375349998474121\n",
      "Training... epoch: 4000, loss: 3.749493360519409\n",
      "Training... epoch: 4100, loss: 2.43641996383667\n",
      "Training... epoch: 4200, loss: 2.2350897789001465\n",
      "Training... epoch: 4300, loss: 2.2868459224700928\n",
      "Training... epoch: 4400, loss: 2.204833984375\n",
      "Training... epoch: 4500, loss: 1.950579285621643\n",
      "Training... epoch: 4600, loss: 2.476072311401367\n",
      "Training... epoch: 4700, loss: 2.1950416564941406\n",
      "Training... epoch: 4800, loss: 2.092463493347168\n",
      "Training... epoch: 4900, loss: 2.0712172985076904\n",
      "Training... epoch: 5000, loss: 2.254483699798584\n",
      "Training... epoch: 5100, loss: 2.418672800064087\n",
      "Training... epoch: 5200, loss: 1.4967858791351318\n",
      "Training... epoch: 5300, loss: 3.8531060218811035\n",
      "Training... epoch: 5400, loss: 1.124207615852356\n",
      "Training... epoch: 5500, loss: 1.5832033157348633\n",
      "Training... epoch: 5600, loss: 2.238617420196533\n",
      "Training... epoch: 5700, loss: 1.5481761693954468\n",
      "Training... epoch: 5800, loss: 1.5808483362197876\n",
      "Training... epoch: 5900, loss: 2.0613200664520264\n",
      "Training... epoch: 6000, loss: 1.2324318885803223\n",
      "Training... epoch: 6100, loss: 2.651721715927124\n",
      "Training... epoch: 6200, loss: 1.4556665420532227\n",
      "Training... epoch: 6300, loss: 1.5004830360412598\n",
      "Training... epoch: 6400, loss: 1.4512925148010254\n",
      "Training... epoch: 6500, loss: 1.3986008167266846\n",
      "Training... epoch: 6600, loss: 2.1032111644744873\n",
      "Training... epoch: 6700, loss: 1.7634834051132202\n",
      "Training... epoch: 6800, loss: 1.653749704360962\n",
      "Training... epoch: 6900, loss: 0.9982988834381104\n",
      "Training... epoch: 7000, loss: 2.671780824661255\n",
      "Training... epoch: 7100, loss: 1.682012677192688\n",
      "Training... epoch: 7200, loss: 1.325966715812683\n",
      "Training... epoch: 7300, loss: 1.1365611553192139\n",
      "Training... epoch: 7400, loss: 1.1287884712219238\n",
      "Training... epoch: 7500, loss: 0.9446366429328918\n",
      "Training... epoch: 7600, loss: 1.5287854671478271\n",
      "Training... epoch: 7700, loss: 0.9435665607452393\n",
      "Training... epoch: 7800, loss: 1.387817144393921\n",
      "Training... epoch: 7900, loss: 1.3069539070129395\n",
      "Training... epoch: 8000, loss: 1.5403128862380981\n",
      "Training... epoch: 8100, loss: 1.8038923740386963\n",
      "Training... epoch: 8200, loss: 1.0884497165679932\n",
      "Training... epoch: 8300, loss: 0.8492667078971863\n",
      "Training... epoch: 8400, loss: 1.0850882530212402\n",
      "Training... epoch: 8500, loss: 0.83097904920578\n",
      "Training... epoch: 8600, loss: 1.0018138885498047\n",
      "Training... epoch: 8700, loss: 1.1005836725234985\n",
      "Training... epoch: 8800, loss: 1.3351225852966309\n",
      "Training... epoch: 8900, loss: 1.0052045583724976\n",
      "Training... epoch: 9000, loss: 1.5649319887161255\n",
      "Training... epoch: 9100, loss: 0.7943025827407837\n",
      "Training... epoch: 9200, loss: 0.8327643275260925\n",
      "Training... epoch: 9300, loss: 0.9218959212303162\n",
      "Training... epoch: 9400, loss: 0.9004655480384827\n",
      "Training... epoch: 9500, loss: 1.0738742351531982\n",
      "Training... epoch: 9600, loss: 0.7810580134391785\n",
      "Training... epoch: 9700, loss: 1.2690869569778442\n",
      "Training... epoch: 9800, loss: 0.8109095096588135\n",
      "Training... epoch: 9900, loss: 1.0168375968933105\n",
      "Training... epoch: 10000, loss: 1.1261093616485596\n",
      "Training completed!\n"
     ]
    }
   ],
   "source": [
    "ann.fit(X_train, y_train)"
   ]
  },
  {
   "cell_type": "markdown",
   "metadata": {},
   "source": [
    "### 调用 score 得到结果，调用 predict 得到值"
   ]
  },
  {
   "cell_type": "code",
   "execution_count": 5,
   "metadata": {},
   "outputs": [
    {
     "name": "stdout",
     "output_type": "stream",
     "text": [
      "mse: 14.01568866238318, rmse: 3.7437532854587494, mae: 2.5027633554795212, r2: 0.8660485778090674\n"
     ]
    }
   ],
   "source": [
    "ann.score(X_test, y_test)"
   ]
  },
  {
   "cell_type": "markdown",
   "metadata": {},
   "source": [
    "### 调用 result_plot 保存结果图"
   ]
  },
  {
   "cell_type": "code",
   "execution_count": 6,
   "metadata": {},
   "outputs": [
    {
     "name": "stdout",
     "output_type": "stream",
     "text": [
      "Save the picture successfully!\n"
     ]
    }
   ],
   "source": [
    "import os\n",
    "\n",
    "save_path = './Example_save_resultes/Regression/save_pngs'\n",
    "if not os.path.exists(save_path):\n",
    "    os.makedirs(save_path)\n",
    "    \n",
    "save_png = os.path.join(save_path, 'ann_picture.png')\n",
    "ann.result_plot(X_test, y_test, save_file=save_png)"
   ]
  },
  {
   "cell_type": "markdown",
   "metadata": {},
   "source": [
    "### 保存模型结果, 这里有两个参数，统计 dataset 是否使用了 标准化 和 pca 的预处理"
   ]
  },
  {
   "cell_type": "code",
   "execution_count": 7,
   "metadata": {},
   "outputs": [
    {
     "name": "stdout",
     "output_type": "stream",
     "text": [
      "Save results success!\n"
     ]
    }
   ],
   "source": [
    "results_file = './Example_save_resultes/Regression/ann_result.csv'\n",
    "ann.save_result(results_file, is_standard=False, is_PCA=False)"
   ]
  },
  {
   "cell_type": "markdown",
   "metadata": {},
   "source": [
    "### 调用 loss_plot 查看训练过程， loss 的变化"
   ]
  },
  {
   "cell_type": "code",
   "execution_count": 8,
   "metadata": {},
   "outputs": [
    {
     "data": {
      "image/png": "[encoded data removed]",
      "text/plain": [
       "<Figure size 432x288 with 1 Axes>"
      ]
     },
     "metadata": {
      "needs_background": "light"
     },
     "output_type": "display_data"
    }
   ],
   "source": [
    "ann.loss_plot()"
   ]
  },
  {
   "cell_type": "code",
   "execution_count": null,
   "metadata": {},
   "outputs": [],
   "source": []
  }
 ],
 "metadata": {
  "kernelspec": {
   "display_name": "Python 3",
   "language": "python",
   "name": "python3"
  },
  "language_info": {
   "codemirror_mode": {
    "name": "ipython",
    "version": 3
   },
   "file_extension": ".py",
   "mimetype": "text/x-python",
   "name": "python",
   "nbconvert_exporter": "python",
   "pygments_lexer": "ipython3",
   "version": "3.6.2"
  }
 },
 "nbformat": 4,
 "nbformat_minor": 2
}
