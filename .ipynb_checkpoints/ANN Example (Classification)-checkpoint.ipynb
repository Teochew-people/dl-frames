{
 "cells": [
  {
   "cell_type": "markdown",
   "metadata": {},
   "source": [
    "## 人工神经网络——Classification example"
   ]
  },
  {
   "cell_type": "code",
   "execution_count": null,
   "metadata": {},
   "outputs": [],
   "source": [
    "from sklearn import datasets\n",
    "\n",
    "'''\n",
    "The regression example of the Boston dataset.\n",
    "'''\n",
    "\n",
    "digits = datasets.load_digits()\n",
    "\n",
    "X, y = digits.data, digits.target\n",
    "\n",
    "from sklearn.model_selection import train_test_split\n",
    "\n",
    "X_train, X_test, y_train, y_test = train_test_split(X, y, test_size=0.2, random_state=19)"
   ]
  },
  {
   "cell_type": "code",
   "execution_count": null,
   "metadata": {},
   "outputs": [],
   "source": [
    "print(X_train.shape)\n",
    "print(y_train.shape)"
   ]
  },
  {
   "cell_type": "markdown",
   "metadata": {},
   "source": [
    "### 调用 DeeplearningRegression 里面的 ANN 框架"
   ]
  },
  {
   "cell_type": "code",
   "execution_count": 3,
   "metadata": {},
   "outputs": [],
   "source": [
    "from frames.DeeplearningClassification2 import ANN\n",
    "\n",
    "'''\n",
    "参数说明：\n",
    "hidden_layers: 每层神经元个数，传入 list\n",
    "learning rete: 学习率，这里可以是一个 float，也可以是一个 len=3 的 list，当 lr 是 list 的时候，采用梯度衰减策略\n",
    "activate function: 激活函数，默认 relu，改激活函数输入小写字符串即可，如：'tanh','sigmoid'\n",
    "weight_decay: L2 正则，默认1e-8\n",
    "dropout: 默认为 0，即不采用，这个参数是为了防止训练过拟合\n",
    "epoch: 训练批次，默认 2000\n",
    "batch_size: 默认 128\n",
    "'''\n",
    "ann = ANN(hidden_layers=[128, 64], learning_rate=[1e-3, 1e-5, 1e-7], activate_function='relu', \n",
    "          weight_decay=1e-7, epoch=1000, batch_size=256) # 采用梯度衰减策略"
   ]
  },
  {
   "cell_type": "code",
   "execution_count": 4,
   "metadata": {
    "scrolled": true
   },
   "outputs": [
    {
     "name": "stdout",
     "output_type": "stream",
     "text": [
      "Let's use CPU\n",
      "Training... epoch: 100, loss: 0.0006846713367849588, acc: 1.0\n",
      "\u001b[1;35m Testing... epoch: 100, loss: 0.08931797742843628, acc: 0.975 \u001b[0m!\n",
      "Training... epoch: 200, loss: 0.00025023322086781263, acc: 1.0\n",
      "\u001b[1;35m Testing... epoch: 200, loss: 0.09936937689781189, acc: 0.9694444444444444 \u001b[0m!\n",
      "Training... epoch: 300, loss: 0.00011299825564492494, acc: 1.0\n",
      "\u001b[1;35m Testing... epoch: 300, loss: 0.11088579148054123, acc: 0.9666666666666667 \u001b[0m!\n",
      "Training... epoch: 400, loss: 9.181696805171669e-05, acc: 1.0\n",
      "\u001b[1;35m Testing... epoch: 400, loss: 0.11390675604343414, acc: 0.9666666666666667 \u001b[0m!\n",
      "Training... epoch: 500, loss: 8.296359010273591e-05, acc: 1.0\n",
      "\u001b[1;35m Testing... epoch: 500, loss: 0.11400004476308823, acc: 0.9666666666666667 \u001b[0m!\n",
      "Training... epoch: 600, loss: 8.56241604196839e-05, acc: 1.0\n",
      "\u001b[1;35m Testing... epoch: 600, loss: 0.1140664666891098, acc: 0.9666666666666667 \u001b[0m!\n",
      "Training... epoch: 700, loss: 4.064353561261669e-05, acc: 1.0\n",
      "\u001b[1;35m Testing... epoch: 700, loss: 0.11419456452131271, acc: 0.9666666666666667 \u001b[0m!\n",
      "Training... epoch: 800, loss: 7.735695544397458e-05, acc: 1.0\n",
      "\u001b[1;35m Testing... epoch: 800, loss: 0.1141955554485321, acc: 0.9666666666666667 \u001b[0m!\n",
      "Training... epoch: 900, loss: 4.546049967757426e-05, acc: 1.0\n",
      "\u001b[1;35m Testing... epoch: 900, loss: 0.11419772356748581, acc: 0.9666666666666667 \u001b[0m!\n",
      "Training... epoch: 1000, loss: 5.5395114031853154e-05, acc: 1.0\n",
      "\u001b[1;35m Testing... epoch: 1000, loss: 0.11423339694738388, acc: 0.9666666666666667 \u001b[0m!\n",
      "Training completed!!! Time consuming: 14.373432159423828\n"
     ]
    }
   ],
   "source": [
    "ann.fit(X_train, y_train, X_test, y_test)"
   ]
  },
  {
   "cell_type": "markdown",
   "metadata": {},
   "source": [
    "### 调用 score 得到结果，调用 predict 得到值"
   ]
  },
  {
   "cell_type": "code",
   "execution_count": 5,
   "metadata": {},
   "outputs": [
    {
     "name": "stdout",
     "output_type": "stream",
     "text": [
      "acc: 0.9666666666666667, precision: 0.9678816914792524, recall: 0.9663766585717806, f1: 0.966701215067696\n"
     ]
    }
   ],
   "source": [
    "ann.score()"
   ]
  },
  {
   "cell_type": "markdown",
   "metadata": {},
   "source": [
    "### 调用 result_plot 保存结果图"
   ]
  },
  {
   "cell_type": "code",
   "execution_count": 6,
   "metadata": {},
   "outputs": [
    {
     "name": "stdout",
     "output_type": "stream",
     "text": [
      "Save results success!\n",
      "Save the value of prediction successfully!!\n",
      "Save the picture successfully!\n",
      "Save the picture of training loss successfully!\n"
     ]
    }
   ],
   "source": [
    "ann.save()"
   ]
  },
  {
   "cell_type": "code",
   "execution_count": null,
   "metadata": {},
   "outputs": [],
   "source": []
  }
 ],
 "metadata": {
  "kernelspec": {
   "display_name": "Python 3",
   "language": "python",
   "name": "python3"
  },
  "language_info": {
   "codemirror_mode": {
    "name": "ipython",
    "version": 3
   },
   "file_extension": ".py",
   "mimetype": "text/x-python",
   "name": "python",
   "nbconvert_exporter": "python",
   "pygments_lexer": "ipython3",
   "version": "3.7.3"
  }
 },
 "nbformat": 4,
 "nbformat_minor": 2
}
