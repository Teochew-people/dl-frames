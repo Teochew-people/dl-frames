{
 "cells": [
  {
   "cell_type": "markdown",
   "metadata": {},
   "source": [
    "## 人工神经网络——Regression example"
   ]
  },
  {
   "cell_type": "code",
   "execution_count": 1,
   "metadata": {},
   "outputs": [],
   "source": [
    "from sklearn import datasets\n",
    "\n",
    "'''\n",
    "The regression example of the Boston dataset.\n",
    "'''\n",
    "\n",
    "boston = datasets.load_boston()\n",
    "\n",
    "X, y = boston.data, boston.target.reshape(-1, 1)\n",
    "\n",
    "from sklearn.model_selection import train_test_split\n",
    "\n",
    "X_train, X_test, y_train, y_test = train_test_split(X, y, test_size=0.2, random_state=19)"
   ]
  },
  {
   "cell_type": "code",
   "execution_count": 2,
   "metadata": {},
   "outputs": [
    {
     "name": "stdout",
     "output_type": "stream",
     "text": [
      "(404, 13)\n",
      "(404, 1)\n"
     ]
    }
   ],
   "source": [
    "print(X_train.shape)\n",
    "print(y_train.shape)"
   ]
  },
  {
   "cell_type": "markdown",
   "metadata": {},
   "source": [
    "### 调用 DeeplearningRegression 里面的 ANN 框架"
   ]
  },
  {
   "cell_type": "code",
   "execution_count": 3,
   "metadata": {},
   "outputs": [],
   "source": [
    "from frames.DeeplearningRegression import ANN\n",
    "\n",
    "'''\n",
    "参数说明：\n",
    "hidden_layers: 每层神经元个数，传入 list\n",
    "learning rete: 学习率，这里可以是一个 float，也可以是一个 len=3 的 list，当 lr 是 list 的时候，采用梯度衰减策略\n",
    "activate function: 激活函数，默认 relu，改激活函数输入小写字符串即可，如：'tanh','sigmoid'\n",
    "dropout: 默认为 0，即不采用，这个参数是为了防止训练过拟合\n",
    "epoch: 训练批次，默认 2000\n",
    "batch_size: 默认 128\n",
    "'''\n",
    "ann = ANN(hidden_layers=[128, 64], learning_rate=[1e-3, 1e-5, 1e-7], epoch=10000, batch_size=256) # 采用梯度衰减策略"
   ]
  },
  {
   "cell_type": "code",
   "execution_count": 4,
   "metadata": {
    "scrolled": true
   },
   "outputs": [
    {
     "name": "stdout",
     "output_type": "stream",
     "text": [
      "Training... epoch: 100, loss: 45.39835739135742\n",
      "Training... epoch: 200, loss: 23.498037338256836\n",
      "Training... epoch: 300, loss: 16.0549259185791\n",
      "Training... epoch: 400, loss: 16.312685012817383\n",
      "Training... epoch: 500, loss: 16.86668586730957\n",
      "Training... epoch: 600, loss: 11.145075798034668\n",
      "Training... epoch: 700, loss: 12.622118949890137\n",
      "Training... epoch: 800, loss: 5.819643020629883\n",
      "Training... epoch: 900, loss: 10.810681343078613\n",
      "Training... epoch: 1000, loss: 8.520020484924316\n",
      "Training... epoch: 1100, loss: 10.65234661102295\n",
      "Training... epoch: 1200, loss: 5.096316337585449\n",
      "Training... epoch: 1300, loss: 6.883196830749512\n",
      "Training... epoch: 1400, loss: 7.847903728485107\n",
      "Training... epoch: 1500, loss: 7.234922409057617\n",
      "Training... epoch: 1600, loss: 8.10195541381836\n",
      "Training... epoch: 1700, loss: 4.951025485992432\n",
      "Training... epoch: 1800, loss: 6.116884231567383\n",
      "Training... epoch: 1900, loss: 8.661805152893066\n",
      "Training... epoch: 2000, loss: 5.1356940269470215\n",
      "Training... epoch: 2100, loss: 4.128863334655762\n",
      "Training... epoch: 2200, loss: 4.855602264404297\n",
      "Training... epoch: 2300, loss: 4.7230095863342285\n",
      "Training... epoch: 2400, loss: 2.8415231704711914\n",
      "Training... epoch: 2500, loss: 3.2473013401031494\n",
      "Training... epoch: 2600, loss: 2.94889497756958\n",
      "Training... epoch: 2700, loss: 3.5297796726226807\n",
      "Training... epoch: 2800, loss: 4.742015361785889\n",
      "Training... epoch: 2900, loss: 5.182734966278076\n",
      "Training... epoch: 3000, loss: 3.0231521129608154\n",
      "Training... epoch: 3100, loss: 3.3251442909240723\n",
      "Training... epoch: 3200, loss: 2.844405174255371\n",
      "Training... epoch: 3300, loss: 3.658612012863159\n",
      "Training... epoch: 3400, loss: 3.516737461090088\n",
      "Training... epoch: 3500, loss: 2.058178186416626\n",
      "Training... epoch: 3600, loss: 2.1260251998901367\n",
      "Training... epoch: 3700, loss: 2.8564398288726807\n",
      "Training... epoch: 3800, loss: 2.90356183052063\n",
      "Training... epoch: 3900, loss: 2.9419236183166504\n",
      "Training... epoch: 4000, loss: 2.998025894165039\n",
      "Training... epoch: 4100, loss: 2.272740364074707\n",
      "Training... epoch: 4200, loss: 2.8334925174713135\n",
      "Training... epoch: 4300, loss: 2.450186014175415\n",
      "Training... epoch: 4400, loss: 3.4636175632476807\n",
      "Training... epoch: 4500, loss: 2.2870113849639893\n",
      "Training... epoch: 4600, loss: 2.032632350921631\n",
      "Training... epoch: 4700, loss: 2.0222814083099365\n",
      "Training... epoch: 4800, loss: 2.4712328910827637\n",
      "Training... epoch: 4900, loss: 2.360546112060547\n",
      "Training... epoch: 5000, loss: 2.671128511428833\n",
      "Training... epoch: 5100, loss: 2.059083938598633\n",
      "Training... epoch: 5200, loss: 2.1736185550689697\n",
      "Training... epoch: 5300, loss: 2.1870081424713135\n",
      "Training... epoch: 5400, loss: 2.317483901977539\n",
      "Training... epoch: 5500, loss: 3.3210697174072266\n",
      "Training... epoch: 5600, loss: 1.884533166885376\n",
      "Training... epoch: 5700, loss: 1.620063304901123\n",
      "Training... epoch: 5800, loss: 1.7238001823425293\n",
      "Training... epoch: 5900, loss: 1.453287124633789\n",
      "Training... epoch: 6000, loss: 1.7651249170303345\n",
      "Training... epoch: 6100, loss: 1.7533997297286987\n",
      "Training... epoch: 6200, loss: 1.9010728597640991\n",
      "Training... epoch: 6300, loss: 1.5073729753494263\n",
      "Training... epoch: 6400, loss: 2.543790340423584\n",
      "Training... epoch: 6500, loss: 1.9446310997009277\n",
      "Training... epoch: 6600, loss: 2.0353548526763916\n",
      "Training... epoch: 6700, loss: 1.3044096231460571\n",
      "Training... epoch: 6800, loss: 1.8524761199951172\n",
      "Training... epoch: 6900, loss: 1.5845435857772827\n",
      "Training... epoch: 7000, loss: 1.566344141960144\n",
      "Training... epoch: 7100, loss: 1.4734269380569458\n",
      "Training... epoch: 7200, loss: 1.5470716953277588\n",
      "Training... epoch: 7300, loss: 1.5991305112838745\n",
      "Training... epoch: 7400, loss: 1.5048640966415405\n",
      "Training... epoch: 7500, loss: 1.486344337463379\n",
      "Training... epoch: 7600, loss: 1.685794472694397\n",
      "Training... epoch: 7700, loss: 1.3761045932769775\n",
      "Training... epoch: 7800, loss: 1.431875467300415\n",
      "Training... epoch: 7900, loss: 1.236409306526184\n",
      "Training... epoch: 8000, loss: 2.2250888347625732\n",
      "Training... epoch: 8100, loss: 1.2080978155136108\n",
      "Training... epoch: 8200, loss: 1.284611463546753\n",
      "Training... epoch: 8300, loss: 1.4285879135131836\n",
      "Training... epoch: 8400, loss: 2.0307130813598633\n",
      "Training... epoch: 8500, loss: 1.8891674280166626\n",
      "Training... epoch: 8600, loss: 2.039064884185791\n",
      "Training... epoch: 8700, loss: 1.5479979515075684\n",
      "Training... epoch: 8800, loss: 1.4419106245040894\n",
      "Training... epoch: 8900, loss: 1.3558179140090942\n",
      "Training... epoch: 9000, loss: 2.2848265171051025\n",
      "Training... epoch: 9100, loss: 1.4589956998825073\n",
      "Training... epoch: 9200, loss: 1.2536636590957642\n",
      "Training... epoch: 9300, loss: 1.0383960008621216\n",
      "Training... epoch: 9400, loss: 1.3256229162216187\n",
      "Training... epoch: 9500, loss: 1.7400925159454346\n",
      "Training... epoch: 9600, loss: 1.5997490882873535\n",
      "Training... epoch: 9700, loss: 1.579496145248413\n",
      "Training... epoch: 9800, loss: 1.1877168416976929\n",
      "Training... epoch: 9900, loss: 1.5109235048294067\n",
      "Training... epoch: 10000, loss: 1.3932462930679321\n",
      "Training completed!\n"
     ]
    }
   ],
   "source": [
    "ann.fit(X_train, y_train)"
   ]
  },
  {
   "cell_type": "markdown",
   "metadata": {},
   "source": [
    "### 调用 score 得到结果，调用 predict 得到值"
   ]
  },
  {
   "cell_type": "code",
   "execution_count": 5,
   "metadata": {},
   "outputs": [
    {
     "name": "stdout",
     "output_type": "stream",
     "text": [
      "mse: 16.92114225769358, rmse: 4.113531604071322, mae: 2.7077720847784295, r2: 0.8382804352242413\n"
     ]
    }
   ],
   "source": [
    "ann.score(X_test, y_test)"
   ]
  },
  {
   "cell_type": "markdown",
   "metadata": {},
   "source": [
    "### 调用 result_plot 保存结果图"
   ]
  },
  {
   "cell_type": "code",
   "execution_count": 6,
   "metadata": {},
   "outputs": [
    {
     "data": {
      "image/png": "[encoded data removed]",
      "text/plain": [
       "<Figure size 432x288 with 1 Axes>"
      ]
     },
     "metadata": {
      "needs_background": "light"
     },
     "output_type": "display_data"
    },
    {
     "name": "stdout",
     "output_type": "stream",
     "text": [
      "Save the picture successfully!\n"
     ]
    }
   ],
   "source": [
    "'''\n",
    "传入 X_test, y_test, save_file, is_show 四个参数\n",
    "is_show 默认为 False，即不显示图片\n",
    "'''\n",
    "import os\n",
    "\n",
    "save_path = './Example_save_resultes/Regression/save_pngs'\n",
    "if not os.path.exists(save_path):\n",
    "    os.makedirs(save_path)\n",
    "    \n",
    "save_png = os.path.join(save_path, 'ann_picture.png')\n",
    "ann.result_plot(X_test, y_test, save_file=save_png, is_show=True)"
   ]
  },
  {
   "cell_type": "markdown",
   "metadata": {},
   "source": [
    "### 保存模型结果, 这里有两个参数，统计 dataset 是否使用了 标准化 和 pca 的预处理"
   ]
  },
  {
   "cell_type": "code",
   "execution_count": 7,
   "metadata": {},
   "outputs": [
    {
     "name": "stdout",
     "output_type": "stream",
     "text": [
      "Save results success!\n"
     ]
    }
   ],
   "source": [
    "'''\n",
    "is_standard 是否标准化，默认 False\n",
    "Diemensionality_reduction_method：使用的降维方法，默认 None\n",
    "'''\n",
    "results_file = './Example_save_resultes/Regression/ann_result.csv'\n",
    "ann.save_result(results_file, is_standard=False, Dimensionality_reduction_method=\"None\")"
   ]
  },
  {
   "cell_type": "markdown",
   "metadata": {},
   "source": [
    "### 调用 loss_plot 查看训练过程， loss 的变化"
   ]
  },
  {
   "cell_type": "code",
   "execution_count": 8,
   "metadata": {},
   "outputs": [
    {
     "data": {
      "image/png": "[encoded data removed]",
      "text/plain": [
       "<Figure size 432x288 with 1 Axes>"
      ]
     },
     "metadata": {
      "needs_background": "light"
     },
     "output_type": "display_data"
    }
   ],
   "source": [
    "ann.loss_plot()"
   ]
  },
  {
   "cell_type": "code",
   "execution_count": null,
   "metadata": {},
   "outputs": [],
   "source": []
  }
 ],
 "metadata": {
  "kernelspec": {
   "display_name": "Python 3",
   "language": "python",
   "name": "python3"
  },
  "language_info": {
   "codemirror_mode": {
    "name": "ipython",
    "version": 3
   },
   "file_extension": ".py",
   "mimetype": "text/x-python",
   "name": "python",
   "nbconvert_exporter": "python",
   "pygments_lexer": "ipython3",
   "version": "3.6.2"
  }
 },
 "nbformat": 4,
 "nbformat_minor": 2
}
