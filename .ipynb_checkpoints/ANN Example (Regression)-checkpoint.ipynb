{
 "cells": [
  {
   "cell_type": "markdown",
   "metadata": {},
   "source": [
    "### 人工神经网络——Regression example"
   ]
  },
  {
   "cell_type": "code",
   "execution_count": 1,
   "metadata": {},
   "outputs": [],
   "source": [
    "from sklearn import datasets\n",
    "\n",
    "'''\n",
    "The regression example of the Boston dataset.\n",
    "'''\n",
    "\n",
    "boston = datasets.load_boston()\n",
    "\n",
    "X, y = boston.data, boston.target.reshape(-1, 1)\n",
    "\n",
    "from sklearn.model_selection import train_test_split\n",
    "\n",
    "X_train, X_test, y_train, y_test = train_test_split(X, y, test_size=0.2, random_state=19)"
   ]
  },
  {
   "cell_type": "code",
   "execution_count": 2,
   "metadata": {},
   "outputs": [
    {
     "name": "stdout",
     "output_type": "stream",
     "text": [
      "(404, 13)\n",
      "(404, 1)\n"
     ]
    }
   ],
   "source": [
    "print(X_train.shape)\n",
    "print(y_train.shape)"
   ]
  },
  {
   "cell_type": "markdown",
   "metadata": {},
   "source": [
    "### 调用 DeeplearningRegression 里面的 ANN 框架"
   ]
  },
  {
   "cell_type": "code",
   "execution_count": 3,
   "metadata": {},
   "outputs": [],
   "source": [
    "from frames.DeeplearningRegression import ANN\n",
    "\n",
    "'''\n",
    "参数说明：\n",
    "hidden_layers: 每层神经元个数，传入 list\n",
    "learning rete: 学习率，这里可以是一个 float，也可以是一个 len=3 的 list，当 lr 是 list 的时候，采用梯度衰减策略\n",
    "activate function: 激活函数，默认 relu，改激活函数输入小写字符串即可，如：'tanh','sigmoid'\n",
    "dropout: 默认为 0，即不采用，这个参数是为了防止训练过拟合\n",
    "epoch: 训练批次，默认 2000\n",
    "batch_size: 默认 128\n",
    "\n",
    "save_path: 默认参数 save_path='ANN_Results'\n",
    "is_standard: 数据预处理部分是否使用了标准化，传入的是 str，可自行填充方法\n",
    "Dimensionality_reduction_method: 使用的降维方法\n",
    "'''\n",
    "save_path = 'Example_results/Regression/ANN_Results'\n",
    "ann = ANN(hidden_layers=[64, 32], learning_rate=[1e-3, 1e-5, 1e-7], epoch=1000, batch_size=256, \n",
    "          save_path=save_path, is_standard=False, Dimensionality_reduction_method='None') # 采用梯度衰减策略"
   ]
  },
  {
   "cell_type": "code",
   "execution_count": 4,
   "metadata": {
    "scrolled": true
   },
   "outputs": [
    {
     "name": "stdout",
     "output_type": "stream",
     "text": [
      "Training... epoch: 100, loss: 52.08537292480469\n",
      "\u001b[1;35m Testing... epoch: 100, loss: 74.5460205078125 \u001b[0m!\n",
      "Training... epoch: 200, loss: 27.929887771606445\n",
      "\u001b[1;35m Testing... epoch: 200, loss: 41.220760345458984 \u001b[0m!\n",
      "Training... epoch: 300, loss: 19.921218872070312\n",
      "\u001b[1;35m Testing... epoch: 300, loss: 27.874109268188477 \u001b[0m!\n",
      "Training... epoch: 400, loss: 22.772470474243164\n",
      "\u001b[1;35m Testing... epoch: 400, loss: 27.554615020751953 \u001b[0m!\n",
      "Training... epoch: 500, loss: 11.182172775268555\n",
      "\u001b[1;35m Testing... epoch: 500, loss: 27.425315856933594 \u001b[0m!\n",
      "Training... epoch: 600, loss: 19.650789260864258\n",
      "\u001b[1;35m Testing... epoch: 600, loss: 27.46025276184082 \u001b[0m!\n",
      "Training... epoch: 700, loss: 13.655694961547852\n",
      "\u001b[1;35m Testing... epoch: 700, loss: 27.365970611572266 \u001b[0m!\n",
      "Training... epoch: 800, loss: 15.903761863708496\n",
      "\u001b[1;35m Testing... epoch: 800, loss: 27.3701114654541 \u001b[0m!\n",
      "Training... epoch: 900, loss: 20.469932556152344\n",
      "\u001b[1;35m Testing... epoch: 900, loss: 27.368831634521484 \u001b[0m!\n",
      "Training... epoch: 1000, loss: 15.407289505004883\n",
      "\u001b[1;35m Testing... epoch: 1000, loss: 27.316255569458008 \u001b[0m!\n",
      "Training completed!!! Time consuming: 3.6484830379486084\n"
     ]
    }
   ],
   "source": [
    "ann.fit(X_train, y_train, X_test, y_test)"
   ]
  },
  {
   "cell_type": "markdown",
   "metadata": {},
   "source": [
    "### 调用 score 得到结果"
   ]
  },
  {
   "cell_type": "code",
   "execution_count": 5,
   "metadata": {},
   "outputs": [
    {
     "name": "stdout",
     "output_type": "stream",
     "text": [
      "mse: 27.316256363508064, rmse: 5.226495610206523, mae: 3.5776720981971892, mape: 14.266662249107268, r2: 0.7389317444925432, r2_adjusted: 0.7003648431107599, rmsle: 0.17816779290496848\n"
     ]
    }
   ],
   "source": [
    "ann.score()"
   ]
  },
  {
   "cell_type": "markdown",
   "metadata": {},
   "source": [
    "### 调用 save 函数，把 prediction，result，loss变化，预测图的路径 全部保存起来"
   ]
  },
  {
   "cell_type": "code",
   "execution_count": 6,
   "metadata": {},
   "outputs": [
    {
     "name": "stdout",
     "output_type": "stream",
     "text": [
      "Save results success!\n",
      "Save the value of prediction successfully!!\n",
      "Save the picture successfully!\n",
      "Save the picture of training loss successfully!\n",
      "Save the picture of testing loss  successfully!\n"
     ]
    }
   ],
   "source": [
    "ann.save()"
   ]
  },
  {
   "cell_type": "code",
   "execution_count": null,
   "metadata": {},
   "outputs": [],
   "source": []
  }
 ],
 "metadata": {
  "kernelspec": {
   "display_name": "Python 3",
   "language": "python",
   "name": "python3"
  },
  "language_info": {
   "codemirror_mode": {
    "name": "ipython",
    "version": 3
   },
   "file_extension": ".py",
   "mimetype": "text/x-python",
   "name": "python",
   "nbconvert_exporter": "python",
   "pygments_lexer": "ipython3",
   "version": "3.6.2"
  }
 },
 "nbformat": 4,
 "nbformat_minor": 2
}
