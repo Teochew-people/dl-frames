{
 "cells": [
  {
   "cell_type": "markdown",
   "metadata": {},
   "source": [
    "### StandardScaler"
   ]
  },
  {
   "cell_type": "code",
   "execution_count": null,
   "metadata": {},
   "outputs": [],
   "source": [
    "import numpy as np\n",
    "import matplotlib.pyplot as plt\n",
    "import pandas as pd"
   ]
  },
  {
   "cell_type": "code",
   "execution_count": 2,
   "metadata": {},
   "outputs": [],
   "source": [
    "datasets = np.loadtxt(\"./datasets/U1_ten_save_years/ten_years_datasets.csv\", dtype=np.float, delimiter=\",\")"
   ]
  },
  {
   "cell_type": "code",
   "execution_count": 3,
   "metadata": {},
   "outputs": [
    {
     "data": {
      "text/plain": [
       "(3549, 337)"
      ]
     },
     "execution_count": 3,
     "metadata": {},
     "output_type": "execute_result"
    }
   ],
   "source": [
    "datasets.shape"
   ]
  },
  {
   "cell_type": "code",
   "execution_count": 4,
   "metadata": {},
   "outputs": [],
   "source": [
    "X = datasets[:, :-1]\n",
    "y = datasets[:, -1:]"
   ]
  },
  {
   "cell_type": "code",
   "execution_count": 5,
   "metadata": {},
   "outputs": [],
   "source": [
    "from sklearn.model_selection import train_test_split\n",
    "\n",
    "X_train, X_test, y_train, y_test = train_test_split(X, y, test_size=0.2, random_state=19)"
   ]
  },
  {
   "cell_type": "markdown",
   "metadata": {},
   "source": [
    "### PCA"
   ]
  },
  {
   "cell_type": "code",
   "execution_count": 6,
   "metadata": {},
   "outputs": [],
   "source": [
    "from sklearn.decomposition import PCA\n",
    "\n",
    "pca = PCA(100)\n",
    "pca.fit(X_train)\n",
    "X_train_reduction = pca.transform(X_train)\n",
    "X_test_redcution = pca.transform(X_test)"
   ]
  },
  {
   "cell_type": "code",
   "execution_count": 7,
   "metadata": {},
   "outputs": [
    {
     "data": {
      "text/plain": [
       "(2839, 100)"
      ]
     },
     "execution_count": 7,
     "metadata": {},
     "output_type": "execute_result"
    }
   ],
   "source": [
    "X_train_reduction.shape"
   ]
  },
  {
   "cell_type": "code",
   "execution_count": 8,
   "metadata": {},
   "outputs": [],
   "source": [
    "from sklearn.preprocessing import StandardScaler\n",
    "\n",
    "ss = StandardScaler()\n",
    "ss.fit(X_train_reduction)\n",
    "X_train_standard = ss.transform(X_train_reduction)\n",
    "X_test_standard = ss.transform(X_test_redcution)"
   ]
  },
  {
   "cell_type": "code",
   "execution_count": 9,
   "metadata": {},
   "outputs": [],
   "source": [
    "input_size = X_train_standard.shape[1]\n",
    "output_size = y_train.shape[1]\n",
    "learning_rate = 1e-3"
   ]
  },
  {
   "cell_type": "markdown",
   "metadata": {},
   "source": [
    "### Batch_size"
   ]
  },
  {
   "cell_type": "code",
   "execution_count": 10,
   "metadata": {},
   "outputs": [],
   "source": [
    "from torch.utils.data import DataLoader\n",
    "import torch\n",
    "import torch.nn as nn\n",
    "from torch.autograd import Variable\n",
    "\n",
    "train_datasets = torch.FloatTensor(np.c_[X_train_standard, y_train])\n",
    "Batch_train_set = DataLoader(train_datasets, batch_size=128, shuffle=True)"
   ]
  },
  {
   "cell_type": "code",
   "execution_count": 11,
   "metadata": {},
   "outputs": [
    {
     "data": {
      "text/plain": [
       "(2839, 100)"
      ]
     },
     "execution_count": 11,
     "metadata": {},
     "output_type": "execute_result"
    }
   ],
   "source": [
    "X_train_standard.shape"
   ]
  },
  {
   "cell_type": "code",
   "execution_count": 12,
   "metadata": {},
   "outputs": [
    {
     "name": "stdout",
     "output_type": "stream",
     "text": [
      "torch.Size([128, 101])\n"
     ]
    }
   ],
   "source": [
    "for b in Batch_train_set:\n",
    "    print(b.shape)\n",
    "    break"
   ]
  },
  {
   "cell_type": "markdown",
   "metadata": {},
   "source": [
    "### Create network"
   ]
  },
  {
   "cell_type": "code",
   "execution_count": 13,
   "metadata": {},
   "outputs": [],
   "source": [
    "class CNN(nn.Module):\n",
    "    def __init__(self):\n",
    "        super(CNN, self).__init__()\n",
    "        \n",
    "        self.conv1 = nn.Sequential(\n",
    "            nn.Conv2d(in_channels=1, out_channels=64, kernel_size=3, stride=1, padding=2), # (10,10,64)\n",
    "            nn.ReLU(True),\n",
    "            nn.Dropout(0.5),\n",
    "            nn.MaxPool2d(3, 2) # (5, 5, 64)\n",
    "        )\n",
    "        \n",
    "        self.conv2 = nn.Sequential(\n",
    "            nn.Conv2d(in_channels=64, out_channels=32, kernel_size=3, stride=1, padding=1), # (5, 5, 32)\n",
    "            nn.ReLU(True),\n",
    "            nn.Dropout(0.5),\n",
    "            nn.MaxPool2d(3, 2) # (2, 2, 32)\n",
    "        )\n",
    "        \n",
    "#         self.hidden3 = nn.Sequential(\n",
    "#             nn.Linear(9 * 9 * 32, 32),\n",
    "#             nn.ReLU(True),\n",
    "#         )\n",
    "        \n",
    "        self.pred = nn.Sequential(\n",
    "            nn.Linear(2 * 2 * 32, output_size),\n",
    "#             nn.Softmax()\n",
    "        )\n",
    "        \n",
    "    def forward(self, x):\n",
    "#         print(x.shape)\n",
    "        x = self.conv1(x)\n",
    "#         print(x.shape)\n",
    "        x = self.conv2(x)\n",
    "#         print(x.shape)\n",
    "        x = x.view(x.shape[0], -1)\n",
    "#         x = self.hidden3(x)\n",
    "#         print(x.shape)\n",
    "        out = self.pred(x)\n",
    "        \n",
    "        return out"
   ]
  },
  {
   "cell_type": "code",
   "execution_count": 14,
   "metadata": {},
   "outputs": [],
   "source": [
    "import os\n",
    "net_path = './Ten_years_Weight/CNN_net.pkl'\n",
    "net_para_path = './Ten_years_Weight/CNN_net_parameters.pkl'\n",
    "# if exists the model file\n",
    "if os.path.exists(net_para_path):\n",
    "    net = CNN()\n",
    "    net.load_state_dict(torch.load(net_para_path))\n",
    "else:\n",
    "    net = CNN()"
   ]
  },
  {
   "cell_type": "code",
   "execution_count": 15,
   "metadata": {},
   "outputs": [],
   "source": [
    "optimizer = torch.optim.Adam(net.parameters(), lr=learning_rate, weight_decay=1e-8)\n",
    "criterion = nn.MSELoss()"
   ]
  },
  {
   "cell_type": "code",
   "execution_count": 16,
   "metadata": {},
   "outputs": [],
   "source": [
    "def cross_entropy_erorr(y, t):\n",
    "    delta = 1e-7\n",
    "    return -torch.sum(t * torch.log(y + delta))"
   ]
  },
  {
   "cell_type": "code",
   "execution_count": 17,
   "metadata": {
    "scrolled": true
   },
   "outputs": [
    {
     "name": "stderr",
     "output_type": "stream",
     "text": [
      "/home/nfsysubigdata/anaconda3/envs/WZ/lib/python3.6/site-packages/torch/serialization.py:251: UserWarning: Couldn't retrieve source code for container of type CNN. It won't be checked for correctness upon loading.\n",
      "  \"type \" + obj.__name__ + \". It won't be checked \"\n"
     ]
    },
    {
     "name": "stdout",
     "output_type": "stream",
     "text": [
      "('Training... Epoch: 50', 'Loss: 71.5063')\n",
      "('Training... Epoch: 100', 'Loss: 126.51601')\n",
      "\u001b[031m('Testing... Epoch: 100', 'Loss: 684.53436')\u001b[0m\n",
      "('Training... Epoch: 150', 'Loss: 355.74643')\n",
      "('Training... Epoch: 200', 'Loss: 269.09512')\n",
      "\u001b[031m('Testing... Epoch: 200', 'Loss: 684.11017')\u001b[0m\n",
      "('Training... Epoch: 250', 'Loss: 615.7077')\n",
      "('Training... Epoch: 300', 'Loss: 284.5944')\n",
      "\u001b[031m('Testing... Epoch: 300', 'Loss: 685.3658')\u001b[0m\n",
      "('Training... Epoch: 350', 'Loss: 96.16798')\n",
      "('Training... Epoch: 400', 'Loss: 222.34355')\n",
      "\u001b[031m('Testing... Epoch: 400', 'Loss: 682.10425')\u001b[0m\n",
      "('Training... Epoch: 450', 'Loss: 72.51907')\n",
      "('Training... Epoch: 500', 'Loss: 61.033043')\n",
      "\u001b[031m('Testing... Epoch: 500', 'Loss: 682.65375')\u001b[0m\n",
      "('Training... Epoch: 550', 'Loss: 167.82474')\n",
      "('Training... Epoch: 600', 'Loss: 163.86246')\n",
      "\u001b[031m('Testing... Epoch: 600', 'Loss: 682.30426')\u001b[0m\n",
      "('Training... Epoch: 650', 'Loss: 87.55063')\n",
      "('Training... Epoch: 700', 'Loss: 113.87334')\n",
      "\u001b[031m('Testing... Epoch: 700', 'Loss: 681.8522')\u001b[0m\n",
      "('Training... Epoch: 750', 'Loss: 724.5633')\n",
      "('Training... Epoch: 800', 'Loss: 653.3155')\n",
      "\u001b[031m('Testing... Epoch: 800', 'Loss: 682.9726')\u001b[0m\n",
      "('Training... Epoch: 850', 'Loss: 52.490627')\n",
      "('Training... Epoch: 900', 'Loss: 123.88081')\n",
      "\u001b[031m('Testing... Epoch: 900', 'Loss: 685.6402')\u001b[0m\n",
      "('Training... Epoch: 950', 'Loss: 347.04443')\n",
      "('Training... Epoch: 1000', 'Loss: 87.886566')\n",
      "\u001b[031m('Testing... Epoch: 1000', 'Loss: 680.6336')\u001b[0m\n",
      "('Training... Epoch: 1050', 'Loss: 26.511908')\n",
      "('Training... Epoch: 1100', 'Loss: 54.529873')\n",
      "\u001b[031m('Testing... Epoch: 1100', 'Loss: 682.3849')\u001b[0m\n",
      "('Training... Epoch: 1150', 'Loss: 71.55357')\n",
      "('Training... Epoch: 1200', 'Loss: 52.33545')\n",
      "\u001b[031m('Testing... Epoch: 1200', 'Loss: 684.21106')\u001b[0m\n",
      "('Training... Epoch: 1250', 'Loss: 179.75452')\n",
      "('Training... Epoch: 1300', 'Loss: 47.372597')\n",
      "\u001b[031m('Testing... Epoch: 1300', 'Loss: 684.41095')\u001b[0m\n",
      "('Training... Epoch: 1350', 'Loss: 201.32358')\n",
      "('Training... Epoch: 1400', 'Loss: 269.11346')\n",
      "\u001b[031m('Testing... Epoch: 1400', 'Loss: 681.6872')\u001b[0m\n",
      "('Training... Epoch: 1450', 'Loss: 146.83449')\n",
      "('Training... Epoch: 1500', 'Loss: 120.74756')\n",
      "\u001b[031m('Testing... Epoch: 1500', 'Loss: 683.77136')\u001b[0m\n",
      "('Training... Epoch: 1550', 'Loss: 239.82202')\n",
      "('Training... Epoch: 1600', 'Loss: 74.26332')\n",
      "\u001b[031m('Testing... Epoch: 1600', 'Loss: 682.5251')\u001b[0m\n",
      "('Training... Epoch: 1650', 'Loss: 48.62723')\n",
      "('Training... Epoch: 1700', 'Loss: 99.37775')\n",
      "\u001b[031m('Testing... Epoch: 1700', 'Loss: 684.11865')\u001b[0m\n",
      "('Training... Epoch: 1750', 'Loss: 97.13415')\n",
      "('Training... Epoch: 1800', 'Loss: 93.1751')\n",
      "\u001b[031m('Testing... Epoch: 1800', 'Loss: 681.0256')\u001b[0m\n",
      "('Training... Epoch: 1850', 'Loss: 21.492506')\n",
      "('Training... Epoch: 1900', 'Loss: 295.5029')\n",
      "\u001b[031m('Testing... Epoch: 1900', 'Loss: 683.81946')\u001b[0m\n",
      "('Training... Epoch: 1950', 'Loss: 458.6414')\n",
      "('Training... Epoch: 2000', 'Loss: 90.66525')\n",
      "\u001b[031m('Testing... Epoch: 2000', 'Loss: 683.4866')\u001b[0m\n",
      "('Training... Epoch: 2050', 'Loss: 124.320724')\n",
      "('Training... Epoch: 2100', 'Loss: 488.75467')\n",
      "\u001b[031m('Testing... Epoch: 2100', 'Loss: 684.2955')\u001b[0m\n",
      "('Training... Epoch: 2150', 'Loss: 61.197792')\n",
      "('Training... Epoch: 2200', 'Loss: 213.49792')\n",
      "\u001b[031m('Testing... Epoch: 2200', 'Loss: 684.34204')\u001b[0m\n",
      "('Training... Epoch: 2250', 'Loss: 186.03488')\n",
      "('Training... Epoch: 2300', 'Loss: 40.788208')\n",
      "\u001b[031m('Testing... Epoch: 2300', 'Loss: 684.0973')\u001b[0m\n",
      "('Training... Epoch: 2350', 'Loss: 36.374187')\n",
      "('Training... Epoch: 2400', 'Loss: 135.56308')\n",
      "\u001b[031m('Testing... Epoch: 2400', 'Loss: 683.96246')\u001b[0m\n",
      "('Training... Epoch: 2450', 'Loss: 10.268129')\n",
      "('Training... Epoch: 2500', 'Loss: 87.07086')\n",
      "\u001b[031m('Testing... Epoch: 2500', 'Loss: 683.86176')\u001b[0m\n",
      "('Training... Epoch: 2550', 'Loss: 116.45654')\n",
      "('Training... Epoch: 2600', 'Loss: 27.952188')\n",
      "\u001b[031m('Testing... Epoch: 2600', 'Loss: 683.57153')\u001b[0m\n",
      "('Training... Epoch: 2650', 'Loss: 93.84962')\n",
      "('Training... Epoch: 2700', 'Loss: 144.82751')\n",
      "\u001b[031m('Testing... Epoch: 2700', 'Loss: 683.42993')\u001b[0m\n",
      "('Training... Epoch: 2750', 'Loss: 30.274397')\n",
      "('Training... Epoch: 2800', 'Loss: 135.22995')\n",
      "\u001b[031m('Testing... Epoch: 2800', 'Loss: 683.58984')\u001b[0m\n",
      "('Training... Epoch: 2850', 'Loss: 417.79434')\n",
      "('Training... Epoch: 2900', 'Loss: 38.916424')\n",
      "\u001b[031m('Testing... Epoch: 2900', 'Loss: 683.4904')\u001b[0m\n",
      "('Training... Epoch: 2950', 'Loss: 83.854546')\n",
      "('Training... Epoch: 3000', 'Loss: 106.08622')\n",
      "\u001b[031m('Testing... Epoch: 3000', 'Loss: 683.371')\u001b[0m\n",
      "('Training... Epoch: 3050', 'Loss: 136.2275')\n",
      "('Training... Epoch: 3100', 'Loss: 77.2267')\n",
      "\u001b[031m('Testing... Epoch: 3100', 'Loss: 683.43494')\u001b[0m\n",
      "('Training... Epoch: 3150', 'Loss: 65.83694')\n",
      "('Training... Epoch: 3200', 'Loss: 23.93543')\n",
      "\u001b[031m('Testing... Epoch: 3200', 'Loss: 683.1165')\u001b[0m\n",
      "('Training... Epoch: 3250', 'Loss: 161.53726')\n",
      "('Training... Epoch: 3300', 'Loss: 133.0369')\n",
      "\u001b[031m('Testing... Epoch: 3300', 'Loss: 683.0897')\u001b[0m\n",
      "('Training... Epoch: 3350', 'Loss: 97.32848')\n",
      "('Training... Epoch: 3400', 'Loss: 30.611113')\n",
      "\u001b[031m('Testing... Epoch: 3400', 'Loss: 682.9037')\u001b[0m\n",
      "('Training... Epoch: 3450', 'Loss: 68.57186')\n",
      "('Training... Epoch: 3500', 'Loss: 535.9472')\n",
      "\u001b[031m('Testing... Epoch: 3500', 'Loss: 683.0932')\u001b[0m\n",
      "('Training... Epoch: 3550', 'Loss: 60.68556')\n",
      "('Training... Epoch: 3600', 'Loss: 106.3217')\n",
      "\u001b[031m('Testing... Epoch: 3600', 'Loss: 683.0943')\u001b[0m\n",
      "('Training... Epoch: 3650', 'Loss: 25.76817')\n",
      "('Training... Epoch: 3700', 'Loss: 95.72127')\n",
      "\u001b[031m('Testing... Epoch: 3700', 'Loss: 683.19037')\u001b[0m\n",
      "('Training... Epoch: 3750', 'Loss: 239.9138')\n",
      "('Training... Epoch: 3800', 'Loss: 49.79581')\n",
      "\u001b[031m('Testing... Epoch: 3800', 'Loss: 682.97266')\u001b[0m\n",
      "('Training... Epoch: 3850', 'Loss: 51.020905')\n",
      "('Training... Epoch: 3900', 'Loss: 87.29381')\n",
      "\u001b[031m('Testing... Epoch: 3900', 'Loss: 683.24835')\u001b[0m\n",
      "('Training... Epoch: 3950', 'Loss: 32.580475')\n",
      "('Training... Epoch: 4000', 'Loss: 17.649618')\n",
      "\u001b[031m('Testing... Epoch: 4000', 'Loss: 683.11145')\u001b[0m\n",
      "('Training... Epoch: 4050', 'Loss: 297.43893')\n",
      "('Training... Epoch: 4100', 'Loss: 84.56668')\n",
      "\u001b[031m('Testing... Epoch: 4100', 'Loss: 683.11176')\u001b[0m\n",
      "('Training... Epoch: 4150', 'Loss: 828.51495')\n",
      "('Training... Epoch: 4200', 'Loss: 29.881247')\n",
      "\u001b[031m('Testing... Epoch: 4200', 'Loss: 683.1118')\u001b[0m\n",
      "('Training... Epoch: 4250', 'Loss: 27.587196')\n",
      "('Training... Epoch: 4300', 'Loss: 103.95073')\n",
      "\u001b[031m('Testing... Epoch: 4300', 'Loss: 683.11273')\u001b[0m\n",
      "('Training... Epoch: 4350', 'Loss: 56.858204')\n",
      "('Training... Epoch: 4400', 'Loss: 174.35463')\n",
      "\u001b[031m('Testing... Epoch: 4400', 'Loss: 683.10913')\u001b[0m\n",
      "('Training... Epoch: 4450', 'Loss: 84.53887')\n",
      "('Training... Epoch: 4500', 'Loss: 72.23563')\n",
      "\u001b[031m('Testing... Epoch: 4500', 'Loss: 683.1109')\u001b[0m\n",
      "('Training... Epoch: 4550', 'Loss: 60.264763')\n",
      "('Training... Epoch: 4600', 'Loss: 83.567924')\n",
      "\u001b[031m('Testing... Epoch: 4600', 'Loss: 683.1111')\u001b[0m\n",
      "('Training... Epoch: 4650', 'Loss: 393.08734')\n",
      "('Training... Epoch: 4700', 'Loss: 16.449305')\n",
      "\u001b[031m('Testing... Epoch: 4700', 'Loss: 683.11536')\u001b[0m\n",
      "('Training... Epoch: 4750', 'Loss: 114.91635')\n",
      "('Training... Epoch: 4800', 'Loss: 17.707235')\n",
      "\u001b[031m('Testing... Epoch: 4800', 'Loss: 683.1162')\u001b[0m\n",
      "('Training... Epoch: 4850', 'Loss: 270.90988')\n",
      "('Training... Epoch: 4900', 'Loss: 135.58571')\n",
      "\u001b[031m('Testing... Epoch: 4900', 'Loss: 683.118')\u001b[0m\n",
      "('Training... Epoch: 4950', 'Loss: 37.50351')\n",
      "('Training... Epoch: 5000', 'Loss: 56.27136')\n",
      "\u001b[031m('Testing... Epoch: 5000', 'Loss: 683.1199')\u001b[0m\n",
      "CPU times: user 4h 10min 6s, sys: 14min 29s, total: 4h 24min 36s\n",
      "Wall time: 28min 22s\n"
     ]
    }
   ],
   "source": [
    "%%time\n",
    "\n",
    "EPOCH = 5000\n",
    "TRAINLOSS = []\n",
    "TESTLOSS = []\n",
    "\n",
    "for epoch in range(EPOCH):\n",
    "\n",
    "    if (epoch+1) % 2000 == 0:\n",
    "        optimizer.param_groups[0][\"lr\"] = 1e-5\n",
    "    if (epoch+1) % 4000 == 0:\n",
    "        optimizer.param_groups[0][\"lr\"] = 1e-7\n",
    "        \n",
    "    for b_train in Batch_train_set:\n",
    "        train_x = Variable(b_train[:,:-1].view(-1, 1, 10, 10))\n",
    "        train_y = Variable(b_train[:,-1:])\n",
    "        \n",
    "#         train_x = Variable(torch.FloatTensor(X_train_reduction).unsqueeze(1))\n",
    "#         train_y = Variable(torch.FloatTensor(y_train_onehot))\n",
    "\n",
    "        net.train()\n",
    "        train_out = net(train_x)\n",
    "        train_loss = criterion(train_out, train_y)\n",
    "\n",
    "        optimizer.zero_grad()\n",
    "        train_loss.backward()\n",
    "        optimizer.step()\n",
    "\n",
    "    if (epoch+1) % 50 == 0:\n",
    "        torch.save(net, net_path)\n",
    "        torch.save(net.state_dict(), net_para_path)\n",
    "        #acc = torch.sum(torch.argmax(train_out, dim=1) == torch.argmax(train_y, dim=1)).data.numpy() / len(train_out)\n",
    "        printcontent = 'Training... Epoch: ' + str((epoch+1)), 'Loss: ' + str(train_loss.data.numpy()) \n",
    "        print(printcontent)\n",
    "        \n",
    "    if (epoch+1) % 100 == 0:\n",
    "        net.eval()\n",
    "        test_x = Variable(torch.FloatTensor(X_test_standard).view(-1, 1, 10, 10))\n",
    "        test_y = Variable(torch.FloatTensor(y_test))\n",
    "        \n",
    "        test_out = net(test_x)\n",
    "        test_loss = criterion(test_out, test_y)\n",
    "        \n",
    "        #test_acc = torch.sum(torch.argmax(test_out, dim=1) == torch.argmax(test_y, dim=1)).data.numpy() / len(test_out)\n",
    "        printcontent = 'Testing... Epoch: ' + str((epoch+1)), 'Loss: ' + str(test_loss.data.numpy()) \n",
    "        print('\\033[031m{}\\033[0m'.format(printcontent))"
   ]
  },
  {
   "cell_type": "code",
   "execution_count": 18,
   "metadata": {},
   "outputs": [],
   "source": [
    "prediction = test_out.data.numpy()\n",
    "pred_save_path = './Ten_years_Weight/CNN_prediction.csv' \n",
    "true_save_path = './Ten_years_Weight/CNN_true.csv'\n",
    "np.savetxt(pred_save_path, prediction, delimiter=\",\")\n",
    "np.savetxt(true_save_path, y_test, delimiter=\",\")"
   ]
  },
  {
   "cell_type": "code",
   "execution_count": 19,
   "metadata": {},
   "outputs": [],
   "source": [
    "from sklearn.metrics import mean_absolute_error\n",
    "from sklearn.metrics import mean_squared_error\n",
    "from sklearn.metrics import r2_score\n",
    "\n",
    "def caculate(true, prediction):\n",
    "    print(\"MSE: \", mean_squared_error(true, prediction))\n",
    "    print(\"RMSE: \", np.sqrt(mean_squared_error(true, prediction)))\n",
    "    print(\"MAE: \", mean_absolute_error(true, prediction))\n",
    "    print(\"R2: \", r2_score(true, prediction))"
   ]
  },
  {
   "cell_type": "code",
   "execution_count": 21,
   "metadata": {},
   "outputs": [
    {
     "name": "stdout",
     "output_type": "stream",
     "text": [
      "MSE:  683.1198633998351\n",
      "RMSE:  26.136561812905597\n",
      "MAE:  7.549470271023226\n",
      "R2:  -0.02265050027347093\n"
     ]
    }
   ],
   "source": [
    "caculate(y_test, prediction)"
   ]
  },
  {
   "cell_type": "code",
   "execution_count": 22,
   "metadata": {},
   "outputs": [
    {
     "data": {
      "image/png": "[encoded data removed]",
      "text/plain": [
       "<Figure size 432x288 with 1 Axes>"
      ]
     },
     "metadata": {},
     "output_type": "display_data"
    }
   ],
   "source": [
    "plt.plot(range(len(y_test)), y_test, \"r--\", label=\"True\")\n",
    "plt.plot(range(len(prediction)), prediction, \"b--\", label=\"Prediction\")\n",
    "plt.legend()\n",
    "plt.show()"
   ]
  },
  {
   "cell_type": "code",
   "execution_count": null,
   "metadata": {},
   "outputs": [],
   "source": []
  }
 ],
 "metadata": {
  "kernelspec": {
   "display_name": "Python 3",
   "language": "python",
   "name": "python3"
  },
  "language_info": {
   "codemirror_mode": {
    "name": "ipython",
    "version": 3
   },
   "file_extension": ".py",
   "mimetype": "text/x-python",
   "name": "python",
   "nbconvert_exporter": "python",
   "pygments_lexer": "ipython3",
   "version": "3.6.2"
  }
 },
 "nbformat": 4,
 "nbformat_minor": 2
}
