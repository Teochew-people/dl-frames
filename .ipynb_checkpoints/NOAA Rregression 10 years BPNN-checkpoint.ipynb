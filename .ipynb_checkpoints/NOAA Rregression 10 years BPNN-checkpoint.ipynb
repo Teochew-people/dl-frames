{
 "cells": [
  {
   "cell_type": "markdown",
   "metadata": {},
   "source": [
    "### StandardScaler"
   ]
  },
  {
   "cell_type": "code",
   "execution_count": 1,
   "metadata": {},
   "outputs": [],
   "source": [
    "import numpy as np\n",
    "import matplotlib.pyplot as plt\n",
    "import pandas as pd\n",
    "\n",
    "import torch\n",
    "import torch.nn as nn\n",
    "from torch.autograd import Variable"
   ]
  },
  {
   "cell_type": "code",
   "execution_count": 2,
   "metadata": {},
   "outputs": [],
   "source": [
    "datasets = np.loadtxt(\"./datasets/U1_ten_save_years/ten_years_datasets.csv\", dtype=np.float, delimiter=\",\")"
   ]
  },
  {
   "cell_type": "code",
   "execution_count": 3,
   "metadata": {},
   "outputs": [
    {
     "data": {
      "text/plain": [
       "(3549, 337)"
      ]
     },
     "execution_count": 3,
     "metadata": {},
     "output_type": "execute_result"
    }
   ],
   "source": [
    "datasets.shape"
   ]
  },
  {
   "cell_type": "code",
   "execution_count": 4,
   "metadata": {},
   "outputs": [],
   "source": [
    "X = datasets[:, :-1]\n",
    "y = datasets[:, -1:]"
   ]
  },
  {
   "cell_type": "code",
   "execution_count": 5,
   "metadata": {},
   "outputs": [],
   "source": [
    "from sklearn.model_selection import train_test_split\n",
    "\n",
    "X_train, X_test, y_train, y_test = train_test_split(X, y, test_size=0.2, random_state=19)"
   ]
  },
  {
   "cell_type": "markdown",
   "metadata": {},
   "source": [
    "### PCA"
   ]
  },
  {
   "cell_type": "code",
   "execution_count": 6,
   "metadata": {},
   "outputs": [
    {
     "data": {
      "text/plain": [
       "(2839, 336)"
      ]
     },
     "execution_count": 6,
     "metadata": {},
     "output_type": "execute_result"
    }
   ],
   "source": [
    "X_train.shape"
   ]
  },
  {
   "cell_type": "code",
   "execution_count": 7,
   "metadata": {},
   "outputs": [],
   "source": [
    "from sklearn.decomposition import PCA\n",
    "\n",
    "pca = PCA(n_components=100)\n",
    "pca.fit(X_train)\n",
    "X_train_reduction = pca.transform(X_train)\n",
    "X_test_reduction = pca.transform(X_test)"
   ]
  },
  {
   "cell_type": "code",
   "execution_count": 8,
   "metadata": {},
   "outputs": [
    {
     "data": {
      "text/plain": [
       "(2839, 100)"
      ]
     },
     "execution_count": 8,
     "metadata": {},
     "output_type": "execute_result"
    }
   ],
   "source": [
    "X_train_reduction.shape"
   ]
  },
  {
   "cell_type": "code",
   "execution_count": 9,
   "metadata": {},
   "outputs": [
    {
     "data": {
      "text/plain": [
       "0.9864638878860708"
      ]
     },
     "execution_count": 9,
     "metadata": {},
     "output_type": "execute_result"
    }
   ],
   "source": [
    "sum = 0.0\n",
    "for i in pca.explained_variance_ratio_:\n",
    "    sum+=i\n",
    "sum"
   ]
  },
  {
   "cell_type": "markdown",
   "metadata": {},
   "source": [
    "### Standardization"
   ]
  },
  {
   "cell_type": "code",
   "execution_count": 10,
   "metadata": {},
   "outputs": [],
   "source": [
    "from sklearn.preprocessing import StandardScaler\n",
    "\n",
    "ss = StandardScaler()\n",
    "ss.fit(X_train_reduction)\n",
    "X_train_standard = ss.transform(X_train_reduction)\n",
    "X_test_standard = ss.transform(X_test_reduction)"
   ]
  },
  {
   "cell_type": "code",
   "execution_count": 11,
   "metadata": {},
   "outputs": [],
   "source": [
    "# plt.plot([i for i in range(X_train.shape[1])],\n",
    "#        [np.sum(pca.explained_variance_ratio_[:i+1]) for i in range(X_train.shape[1])])\n",
    "# plt.ylabel('information')\n",
    "# plt.xlabel('dimension')\n",
    "# plt.show()"
   ]
  },
  {
   "cell_type": "markdown",
   "metadata": {},
   "source": [
    "### Batch_size"
   ]
  },
  {
   "cell_type": "code",
   "execution_count": 12,
   "metadata": {},
   "outputs": [],
   "source": [
    "from torch.utils.data import DataLoader\n",
    "\n",
    "train_datasets = torch.FloatTensor(np.c_[X_train_standard, y_train])\n",
    "Batch_train_set = DataLoader(train_datasets, batch_size=256, shuffle=True)"
   ]
  },
  {
   "cell_type": "code",
   "execution_count": 13,
   "metadata": {},
   "outputs": [
    {
     "data": {
      "text/plain": [
       "(2839, 100)"
      ]
     },
     "execution_count": 13,
     "metadata": {},
     "output_type": "execute_result"
    }
   ],
   "source": [
    "X_train_standard.shape"
   ]
  },
  {
   "cell_type": "code",
   "execution_count": 14,
   "metadata": {},
   "outputs": [
    {
     "name": "stdout",
     "output_type": "stream",
     "text": [
      "torch.Size([256, 101])\n"
     ]
    }
   ],
   "source": [
    "for b in Batch_train_set:\n",
    "    print(b.shape)\n",
    "    break"
   ]
  },
  {
   "cell_type": "markdown",
   "metadata": {},
   "source": [
    "### BPNN"
   ]
  },
  {
   "cell_type": "code",
   "execution_count": 15,
   "metadata": {},
   "outputs": [],
   "source": [
    "input_size = X_train_reduction.shape[1]\n",
    "output_size = y_train.shape[1]\n",
    "learning_rate = 1e-3"
   ]
  },
  {
   "cell_type": "markdown",
   "metadata": {},
   "source": [
    "### Create network"
   ]
  },
  {
   "cell_type": "code",
   "execution_count": 16,
   "metadata": {},
   "outputs": [],
   "source": [
    "class Net(nn.Module):\n",
    "    def __init__(self):\n",
    "        super(Net, self).__init__()\n",
    "        \n",
    "        self.hidden1 = nn.Sequential(\n",
    "            nn.Linear(input_size, 128),\n",
    "            nn.Dropout(0.5),\n",
    "            nn.ReLU(True),\n",
    "        )\n",
    "        \n",
    "        self.hidden2 = nn.Sequential(\n",
    "            nn.Linear(128, 64),\n",
    "            nn.Dropout(0.5),\n",
    "            nn.ReLU(True),\n",
    "        )\n",
    "        \n",
    "        self.hidden3 = nn.Sequential(\n",
    "            nn.Linear(64, 32),\n",
    "            nn.Dropout(0.5),\n",
    "            nn.ReLU(True),\n",
    "        )\n",
    "        \n",
    "        self.pred = nn.Sequential(\n",
    "            nn.Linear(32, output_size),\n",
    "        )\n",
    "        \n",
    "    def forward(self, x):\n",
    "        x = self.hidden1(x)\n",
    "        x = self.hidden2(x)\n",
    "        x = self.hidden3(x)\n",
    "        out = self.pred(x)\n",
    "        \n",
    "        return out"
   ]
  },
  {
   "cell_type": "code",
   "execution_count": 17,
   "metadata": {},
   "outputs": [],
   "source": [
    "import os\n",
    "net_path = './Ten_years_Weight/BPNN_net.pkl'\n",
    "net_para_path = './Ten_years_Weight/BPNN_net_parameters.pkl'\n",
    "# if exists the model file\n",
    "if os.path.exists(net_para_path):\n",
    "    net = Net()\n",
    "    net.load_state_dict(torch.load(net_para_path))\n",
    "else:\n",
    "    net = Net()"
   ]
  },
  {
   "cell_type": "code",
   "execution_count": 18,
   "metadata": {},
   "outputs": [],
   "source": [
    "optimizer = torch.optim.Adam(net.parameters(), lr=learning_rate, weight_decay=1e-8)\n",
    "criterion = nn.MSELoss()"
   ]
  },
  {
   "cell_type": "code",
   "execution_count": 19,
   "metadata": {},
   "outputs": [],
   "source": [
    "def cross_entropy_erorr(y, t):\n",
    "    delta = 1e-7\n",
    "    return -torch.sum(t * torch.log(y + delta))"
   ]
  },
  {
   "cell_type": "code",
   "execution_count": 20,
   "metadata": {
    "scrolled": true
   },
   "outputs": [
    {
     "name": "stderr",
     "output_type": "stream",
     "text": [
      "/home/nfsysubigdata/anaconda3/envs/WZ/lib/python3.6/site-packages/torch/serialization.py:251: UserWarning: Couldn't retrieve source code for container of type Net. It won't be checked for correctness upon loading.\n",
      "  \"type \" + obj.__name__ + \". It won't be checked \"\n"
     ]
    },
    {
     "name": "stdout",
     "output_type": "stream",
     "text": [
      "('Training... Epoch: 50', 'Loss: 126.379196')\n",
      "('Training... Epoch: 100', 'Loss: 179.99677')\n",
      "\u001b[031m('Testing... Epoch: 100', 'Loss: 691.70776')\u001b[0m\n",
      "('Training... Epoch: 150', 'Loss: 137.79784')\n",
      "('Training... Epoch: 200', 'Loss: 79.24057')\n",
      "\u001b[031m('Testing... Epoch: 200', 'Loss: 668.52563')\u001b[0m\n",
      "('Training... Epoch: 250', 'Loss: 28.192148')\n",
      "('Training... Epoch: 300', 'Loss: 105.41649')\n",
      "\u001b[031m('Testing... Epoch: 300', 'Loss: 686.8173')\u001b[0m\n",
      "('Training... Epoch: 350', 'Loss: 37.481895')\n",
      "('Training... Epoch: 400', 'Loss: 208.6931')\n",
      "\u001b[031m('Testing... Epoch: 400', 'Loss: 677.4205')\u001b[0m\n",
      "('Training... Epoch: 450', 'Loss: 331.50534')\n",
      "('Training... Epoch: 500', 'Loss: 13.230575')\n",
      "\u001b[031m('Testing... Epoch: 500', 'Loss: 669.9377')\u001b[0m\n",
      "('Training... Epoch: 550', 'Loss: 6.933459')\n",
      "('Training... Epoch: 600', 'Loss: 24.389135')\n",
      "\u001b[031m('Testing... Epoch: 600', 'Loss: 670.9439')\u001b[0m\n",
      "('Training... Epoch: 650', 'Loss: 6.1136036')\n",
      "('Training... Epoch: 700', 'Loss: 43.567974')\n",
      "\u001b[031m('Testing... Epoch: 700', 'Loss: 684.06')\u001b[0m\n",
      "('Training... Epoch: 750', 'Loss: 43.877144')\n",
      "('Training... Epoch: 800', 'Loss: 67.273415')\n",
      "\u001b[031m('Testing... Epoch: 800', 'Loss: 683.2153')\u001b[0m\n",
      "('Training... Epoch: 850', 'Loss: 14.312993')\n",
      "('Training... Epoch: 900', 'Loss: 70.99288')\n",
      "\u001b[031m('Testing... Epoch: 900', 'Loss: 679.5498')\u001b[0m\n",
      "('Training... Epoch: 950', 'Loss: 43.72464')\n",
      "('Training... Epoch: 1000', 'Loss: 1.806817')\n",
      "\u001b[031m('Testing... Epoch: 1000', 'Loss: 678.4572')\u001b[0m\n",
      "('Training... Epoch: 1050', 'Loss: 20.140411')\n",
      "('Training... Epoch: 1100', 'Loss: 4.9819794')\n",
      "\u001b[031m('Testing... Epoch: 1100', 'Loss: 676.9953')\u001b[0m\n",
      "('Training... Epoch: 1150', 'Loss: 4.337459')\n",
      "('Training... Epoch: 1200', 'Loss: 115.337265')\n",
      "\u001b[031m('Testing... Epoch: 1200', 'Loss: 689.901')\u001b[0m\n",
      "('Training... Epoch: 1250', 'Loss: 10.644591')\n",
      "('Training... Epoch: 1300', 'Loss: 21.971842')\n",
      "\u001b[031m('Testing... Epoch: 1300', 'Loss: 673.3437')\u001b[0m\n",
      "('Training... Epoch: 1350', 'Loss: 159.41917')\n",
      "('Training... Epoch: 1400', 'Loss: 38.698822')\n",
      "\u001b[031m('Testing... Epoch: 1400', 'Loss: 683.15845')\u001b[0m\n",
      "('Training... Epoch: 1450', 'Loss: 129.1846')\n",
      "('Training... Epoch: 1500', 'Loss: 23.40241')\n",
      "\u001b[031m('Testing... Epoch: 1500', 'Loss: 672.7386')\u001b[0m\n",
      "('Training... Epoch: 1550', 'Loss: 51.055435')\n",
      "('Training... Epoch: 1600', 'Loss: 9.426574')\n",
      "\u001b[031m('Testing... Epoch: 1600', 'Loss: 682.10504')\u001b[0m\n",
      "('Training... Epoch: 1650', 'Loss: 138.61765')\n",
      "('Training... Epoch: 1700', 'Loss: 80.43793')\n",
      "\u001b[031m('Testing... Epoch: 1700', 'Loss: 677.6272')\u001b[0m\n",
      "('Training... Epoch: 1750', 'Loss: 289.65497')\n",
      "('Training... Epoch: 1800', 'Loss: 113.79016')\n",
      "\u001b[031m('Testing... Epoch: 1800', 'Loss: 684.37317')\u001b[0m\n",
      "('Training... Epoch: 1850', 'Loss: 12.954807')\n",
      "('Training... Epoch: 1900', 'Loss: 16.46029')\n",
      "\u001b[031m('Testing... Epoch: 1900', 'Loss: 680.6388')\u001b[0m\n",
      "('Training... Epoch: 1950', 'Loss: 4.1815853')\n",
      "('Training... Epoch: 2000', 'Loss: 624.58923')\n",
      "\u001b[031m('Testing... Epoch: 2000', 'Loss: 692.20825')\u001b[0m\n",
      "('Training... Epoch: 2050', 'Loss: 120.45143')\n",
      "('Training... Epoch: 2100', 'Loss: 10.9088545')\n",
      "\u001b[031m('Testing... Epoch: 2100', 'Loss: 690.6814')\u001b[0m\n",
      "('Training... Epoch: 2150', 'Loss: 6.083541')\n",
      "('Training... Epoch: 2200', 'Loss: 2.8464794')\n",
      "\u001b[031m('Testing... Epoch: 2200', 'Loss: 688.9863')\u001b[0m\n",
      "('Training... Epoch: 2250', 'Loss: 9.898611')\n",
      "('Training... Epoch: 2300', 'Loss: 11.4698515')\n",
      "\u001b[031m('Testing... Epoch: 2300', 'Loss: 688.3516')\u001b[0m\n",
      "('Training... Epoch: 2350', 'Loss: 19.283798')\n",
      "('Training... Epoch: 2400', 'Loss: 49.919315')\n",
      "\u001b[031m('Testing... Epoch: 2400', 'Loss: 687.62115')\u001b[0m\n",
      "('Training... Epoch: 2450', 'Loss: 14.635699')\n",
      "('Training... Epoch: 2500', 'Loss: 17.108763')\n",
      "\u001b[031m('Testing... Epoch: 2500', 'Loss: 687.08057')\u001b[0m\n",
      "('Training... Epoch: 2550', 'Loss: 106.541306')\n",
      "('Training... Epoch: 2600', 'Loss: 29.05957')\n",
      "\u001b[031m('Testing... Epoch: 2600', 'Loss: 686.3048')\u001b[0m\n",
      "('Training... Epoch: 2650', 'Loss: 142.09525')\n",
      "('Training... Epoch: 2700', 'Loss: 12.199821')\n",
      "\u001b[031m('Testing... Epoch: 2700', 'Loss: 686.48834')\u001b[0m\n",
      "('Training... Epoch: 2750', 'Loss: 3.8044546')\n",
      "('Training... Epoch: 2800', 'Loss: 7.1179414')\n",
      "\u001b[031m('Testing... Epoch: 2800', 'Loss: 687.05493')\u001b[0m\n",
      "('Training... Epoch: 2850', 'Loss: 10.988577')\n",
      "('Training... Epoch: 2900', 'Loss: 35.335453')\n",
      "\u001b[031m('Testing... Epoch: 2900', 'Loss: 687.16895')\u001b[0m\n",
      "('Training... Epoch: 2950', 'Loss: 5.179552')\n",
      "('Training... Epoch: 3000', 'Loss: 23.66747')\n",
      "\u001b[031m('Testing... Epoch: 3000', 'Loss: 686.6418')\u001b[0m\n",
      "('Training... Epoch: 3050', 'Loss: 271.0283')\n",
      "('Training... Epoch: 3100', 'Loss: 15.22841')\n",
      "\u001b[031m('Testing... Epoch: 3100', 'Loss: 686.1506')\u001b[0m\n",
      "('Training... Epoch: 3150', 'Loss: 15.847011')\n",
      "('Training... Epoch: 3200', 'Loss: 26.458155')\n",
      "\u001b[031m('Testing... Epoch: 3200', 'Loss: 685.9702')\u001b[0m\n",
      "('Training... Epoch: 3250', 'Loss: 9.8481865')\n",
      "('Training... Epoch: 3300', 'Loss: 2.9761949')\n",
      "\u001b[031m('Testing... Epoch: 3300', 'Loss: 686.04645')\u001b[0m\n",
      "('Training... Epoch: 3350', 'Loss: 64.58486')\n",
      "('Training... Epoch: 3400', 'Loss: 37.925793')\n",
      "\u001b[031m('Testing... Epoch: 3400', 'Loss: 685.3881')\u001b[0m\n",
      "('Training... Epoch: 3450', 'Loss: 11.340597')\n",
      "('Training... Epoch: 3500', 'Loss: 13.135346')\n",
      "\u001b[031m('Testing... Epoch: 3500', 'Loss: 685.54596')\u001b[0m\n",
      "('Training... Epoch: 3550', 'Loss: 2.068269')\n",
      "('Training... Epoch: 3600', 'Loss: 40.493732')\n",
      "\u001b[031m('Testing... Epoch: 3600', 'Loss: 685.3107')\u001b[0m\n",
      "('Training... Epoch: 3650', 'Loss: 131.78629')\n",
      "('Training... Epoch: 3700', 'Loss: 107.84476')\n",
      "\u001b[031m('Testing... Epoch: 3700', 'Loss: 684.9017')\u001b[0m\n",
      "('Training... Epoch: 3750', 'Loss: 25.266516')\n",
      "('Training... Epoch: 3800', 'Loss: 9.252614')\n",
      "\u001b[031m('Testing... Epoch: 3800', 'Loss: 685.0986')\u001b[0m\n",
      "('Training... Epoch: 3850', 'Loss: 3.2794545')\n",
      "('Training... Epoch: 3900', 'Loss: 3.819949')\n",
      "\u001b[031m('Testing... Epoch: 3900', 'Loss: 684.9607')\u001b[0m\n",
      "('Training... Epoch: 3950', 'Loss: 18.78577')\n",
      "('Training... Epoch: 4000', 'Loss: 21.832163')\n",
      "\u001b[031m('Testing... Epoch: 4000', 'Loss: 684.57227')\u001b[0m\n",
      "('Training... Epoch: 4050', 'Loss: 117.52082')\n",
      "('Training... Epoch: 4100', 'Loss: 5.673115')\n",
      "\u001b[031m('Testing... Epoch: 4100', 'Loss: 684.5698')\u001b[0m\n",
      "('Training... Epoch: 4150', 'Loss: 4.242439')\n",
      "('Training... Epoch: 4200', 'Loss: 17.685667')\n",
      "\u001b[031m('Testing... Epoch: 4200', 'Loss: 684.566')\u001b[0m\n",
      "('Training... Epoch: 4250', 'Loss: 8.198471')\n",
      "('Training... Epoch: 4300', 'Loss: 14.573541')\n",
      "\u001b[031m('Testing... Epoch: 4300', 'Loss: 684.56396')\u001b[0m\n",
      "('Training... Epoch: 4350', 'Loss: 21.42448')\n",
      "('Training... Epoch: 4400', 'Loss: 12.559624')\n",
      "\u001b[031m('Testing... Epoch: 4400', 'Loss: 684.5648')\u001b[0m\n",
      "('Training... Epoch: 4450', 'Loss: 30.363424')\n",
      "('Training... Epoch: 4500', 'Loss: 12.863401')\n",
      "\u001b[031m('Testing... Epoch: 4500', 'Loss: 684.5628')\u001b[0m\n",
      "('Training... Epoch: 4550', 'Loss: 62.410446')\n",
      "('Training... Epoch: 4600', 'Loss: 57.11783')\n",
      "\u001b[031m('Testing... Epoch: 4600', 'Loss: 684.5576')\u001b[0m\n",
      "('Training... Epoch: 4650', 'Loss: 143.47403')\n",
      "('Training... Epoch: 4700', 'Loss: 35.301884')\n",
      "\u001b[031m('Testing... Epoch: 4700', 'Loss: 684.556')\u001b[0m\n",
      "('Training... Epoch: 4750', 'Loss: 2.0465991')\n",
      "('Training... Epoch: 4800', 'Loss: 29.296047')\n",
      "\u001b[031m('Testing... Epoch: 4800', 'Loss: 684.5619')\u001b[0m\n",
      "('Training... Epoch: 4850', 'Loss: 4.04565')\n",
      "('Training... Epoch: 4900', 'Loss: 4.2580214')\n",
      "\u001b[031m('Testing... Epoch: 4900', 'Loss: 684.5558')\u001b[0m\n",
      "('Training... Epoch: 4950', 'Loss: 22.762537')\n",
      "('Training... Epoch: 5000', 'Loss: 68.40656')\n",
      "\u001b[031m('Testing... Epoch: 5000', 'Loss: 684.5539')\u001b[0m\n",
      "('Training... Epoch: 5050', 'Loss: 53.634613')\n",
      "('Training... Epoch: 5100', 'Loss: 36.031963')\n",
      "\u001b[031m('Testing... Epoch: 5100', 'Loss: 684.55664')\u001b[0m\n",
      "('Training... Epoch: 5150', 'Loss: 130.73372')\n",
      "('Training... Epoch: 5200', 'Loss: 47.2537')\n",
      "\u001b[031m('Testing... Epoch: 5200', 'Loss: 684.5519')\u001b[0m\n",
      "('Training... Epoch: 5250', 'Loss: 103.01718')\n",
      "('Training... Epoch: 5300', 'Loss: 4.6017065')\n",
      "\u001b[031m('Testing... Epoch: 5300', 'Loss: 684.55115')\u001b[0m\n",
      "('Training... Epoch: 5350', 'Loss: 359.95877')\n",
      "('Training... Epoch: 5400', 'Loss: 9.909741')\n",
      "\u001b[031m('Testing... Epoch: 5400', 'Loss: 684.5505')\u001b[0m\n",
      "('Training... Epoch: 5450', 'Loss: 19.853165')\n",
      "('Training... Epoch: 5500', 'Loss: 9.424426')\n",
      "\u001b[031m('Testing... Epoch: 5500', 'Loss: 684.5462')\u001b[0m\n",
      "('Training... Epoch: 5550', 'Loss: 16.008549')\n"
     ]
    },
    {
     "name": "stdout",
     "output_type": "stream",
     "text": [
      "('Training... Epoch: 5600', 'Loss: 55.773224')\n",
      "\u001b[031m('Testing... Epoch: 5600', 'Loss: 684.544')\u001b[0m\n",
      "('Training... Epoch: 5650', 'Loss: 2.6045132')\n",
      "('Training... Epoch: 5700', 'Loss: 24.913727')\n",
      "\u001b[031m('Testing... Epoch: 5700', 'Loss: 684.5412')\u001b[0m\n",
      "('Training... Epoch: 5750', 'Loss: 44.8134')\n",
      "('Training... Epoch: 5800', 'Loss: 50.569717')\n",
      "\u001b[031m('Testing... Epoch: 5800', 'Loss: 684.5406')\u001b[0m\n",
      "('Training... Epoch: 5850', 'Loss: 17.445887')\n",
      "('Training... Epoch: 5900', 'Loss: 28.190699')\n",
      "\u001b[031m('Testing... Epoch: 5900', 'Loss: 684.54333')\u001b[0m\n",
      "('Training... Epoch: 5950', 'Loss: 23.44724')\n",
      "('Training... Epoch: 6000', 'Loss: 29.349092')\n",
      "\u001b[031m('Testing... Epoch: 6000', 'Loss: 684.5462')\u001b[0m\n",
      "CPU times: user 34min 48s, sys: 2min 13s, total: 37min 2s\n",
      "Wall time: 3min 39s\n"
     ]
    }
   ],
   "source": [
    "%%time\n",
    "\n",
    "EPOCH = 6000\n",
    "TRAINLOSS = []\n",
    "TESTLOSS = []\n",
    "    \n",
    "for epoch in range(EPOCH):\n",
    "    \n",
    "    if (epoch+1) % 2000 == 0:\n",
    "        optimizer.param_groups[0][\"lr\"] = 1e-5\n",
    "    if (epoch+1) % 4000 == 0:\n",
    "        optimizer.param_groups[0][\"lr\"] = 1e-7\n",
    "        \n",
    "    for b_train in Batch_train_set:\n",
    "        train_x = Variable(b_train[:, :-1])\n",
    "        train_y = Variable(b_train[:, -1:])\n",
    "\n",
    "        net.train()\n",
    "        train_out = net(train_x)\n",
    "        train_loss = criterion(train_out, train_y)\n",
    "\n",
    "        optimizer.zero_grad()\n",
    "        train_loss.backward()\n",
    "        optimizer.step()\n",
    "    \n",
    "    TRAINLOSS.append(train_loss.data.numpy())\n",
    "    if (epoch+1) % 50 == 0:\n",
    "        torch.save(net, net_path)\n",
    "        torch.save(net.state_dict(), net_para_path)\n",
    "        #acc = torch.sum(torch.argmax(train_out, dim=1) == torch.argmax(train_y, dim=1)).data.numpy() / len(train_out)\n",
    "        printcontent = 'Training... Epoch: ' + str((epoch+1)), 'Loss: ' + str(train_loss.data.numpy())\n",
    "        print(printcontent)\n",
    "        \n",
    "    if (epoch+1) % 100 == 0:\n",
    "        net.eval()\n",
    "        test_x = Variable(torch.FloatTensor(X_test_standard))\n",
    "        test_y = Variable(torch.FloatTensor(y_test))\n",
    "        \n",
    "        test_out = net(test_x)\n",
    "        test_loss = criterion(test_out, test_y)\n",
    "        TESTLOSS.append(test_loss.data.numpy())\n",
    "        \n",
    "#        test_acc = torch.sum(torch.argmax(test_out, dim=1) == torch.argmax(test_y, dim=1)).data.numpy() / len(test_out)\n",
    "        printcontent = 'Testing... Epoch: ' + str((epoch+1)), 'Loss: ' + str(test_loss.data.numpy()) \n",
    "        print('\\033[031m{}\\033[0m'.format(printcontent))"
   ]
  },
  {
   "cell_type": "code",
   "execution_count": 21,
   "metadata": {},
   "outputs": [],
   "source": [
    "prediction = test_out.data.numpy()\n",
    "pred_save_path = './Ten_years_Weight/BPNN_prediction.csv' \n",
    "true_save_path = './Ten_years_Weight/BPNN_true.csv'\n",
    "np.savetxt(pred_save_path, prediction, delimiter=\",\")\n",
    "np.savetxt(true_save_path, y_test, delimiter=\",\")"
   ]
  },
  {
   "cell_type": "code",
   "execution_count": 22,
   "metadata": {},
   "outputs": [
    {
     "data": {
      "image/png": "[encoded data removed]",
      "text/plain": [
       "<Figure size 432x288 with 1 Axes>"
      ]
     },
     "metadata": {},
     "output_type": "display_data"
    }
   ],
   "source": [
    "plt.plot(range(len(TRAINLOSS)), TRAINLOSS, 'r--')\n",
    "plt.show()"
   ]
  },
  {
   "cell_type": "code",
   "execution_count": 23,
   "metadata": {},
   "outputs": [
    {
     "data": {
      "image/png": "[encoded data removed]",
      "text/plain": [
       "<Figure size 432x288 with 1 Axes>"
      ]
     },
     "metadata": {},
     "output_type": "display_data"
    }
   ],
   "source": [
    "plt.plot(range(len(TESTLOSS)), TESTLOSS, 'r--')\n",
    "plt.show()"
   ]
  },
  {
   "cell_type": "code",
   "execution_count": 24,
   "metadata": {},
   "outputs": [],
   "source": [
    "from sklearn.metrics import mean_absolute_error\n",
    "from sklearn.metrics import mean_squared_error\n",
    "from sklearn.metrics import r2_score\n",
    "\n",
    "def caculate(true, prediction):\n",
    "    print(\"MSE: \", mean_squared_error(true, prediction))\n",
    "    print(\"RMSE: \", np.sqrt(mean_squared_error(true, prediction)))\n",
    "    print(\"MAE: \", mean_absolute_error(true, prediction))\n",
    "    print(\"R2: \", r2_score(true, prediction))"
   ]
  },
  {
   "cell_type": "code",
   "execution_count": 25,
   "metadata": {},
   "outputs": [
    {
     "name": "stdout",
     "output_type": "stream",
     "text": [
      "MSE:  684.5462061649278\n",
      "RMSE:  26.163833934745263\n",
      "MAE:  7.195232214726193\n",
      "R2:  -0.024785777287703592\n"
     ]
    }
   ],
   "source": [
    "caculate(y_test, prediction)"
   ]
  },
  {
   "cell_type": "code",
   "execution_count": 26,
   "metadata": {},
   "outputs": [
    {
     "data": {
      "image/png": "[encoded data removed]",
      "text/plain": [
       "<Figure size 432x288 with 1 Axes>"
      ]
     },
     "metadata": {},
     "output_type": "display_data"
    }
   ],
   "source": [
    "plt.plot(range(len(y_test)), y_test, \"r--\", label=\"True\")\n",
    "plt.plot(range(len(prediction)), prediction, \"b--\", label=\"Prediction\")\n",
    "plt.legend()\n",
    "plt.show()"
   ]
  },
  {
   "cell_type": "code",
   "execution_count": null,
   "metadata": {},
   "outputs": [],
   "source": []
  },
  {
   "cell_type": "code",
   "execution_count": null,
   "metadata": {},
   "outputs": [],
   "source": []
  }
 ],
 "metadata": {
  "kernelspec": {
   "display_name": "Python 3",
   "language": "python",
   "name": "python3"
  },
  "language_info": {
   "codemirror_mode": {
    "name": "ipython",
    "version": 3
   },
   "file_extension": ".py",
   "mimetype": "text/x-python",
   "name": "python",
   "nbconvert_exporter": "python",
   "pygments_lexer": "ipython3",
   "version": "3.6.2"
  }
 },
 "nbformat": 4,
 "nbformat_minor": 2
}
