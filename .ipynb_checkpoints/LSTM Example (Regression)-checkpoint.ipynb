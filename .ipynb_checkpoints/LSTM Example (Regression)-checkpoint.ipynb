{
 "cells": [
  {
   "cell_type": "markdown",
   "metadata": {},
   "source": [
    "## 长短时神经网络——Regression example"
   ]
  },
  {
   "cell_type": "markdown",
   "metadata": {},
   "source": [
    "这里刚好有个小 tip，我们做 两个 model\n",
    "\n",
    "即：是否对 y 进行标准化并不是一个**对错问题，且一般不对 y 进行标准化操作！**\n",
    "\n",
    "值得注意的问题是：\n",
    "1. 不对 y 进行标准化，收敛较慢，loss 可能会大一些，但精度有保证。\n",
    "2. 对 y 进行标准化后，最后要对 y 反标准化，虽然收敛速度会加快，但容易过拟合，且在反标准化的过程中，会使精度丢失！"
   ]
  },
  {
   "cell_type": "markdown",
   "metadata": {},
   "source": [
    "### model 1: 不对 y 进行标准化"
   ]
  },
  {
   "cell_type": "code",
   "execution_count": 1,
   "metadata": {},
   "outputs": [],
   "source": [
    "import numpy as np\n",
    "import pandas as pd"
   ]
  },
  {
   "cell_type": "code",
   "execution_count": 2,
   "metadata": {},
   "outputs": [],
   "source": [
    "# 导入数据集\n",
    "stock_file = './dataset/dataset.csv'\n",
    "stock = pd.read_csv(stock_file)"
   ]
  },
  {
   "cell_type": "code",
   "execution_count": 3,
   "metadata": {},
   "outputs": [
    {
     "data": {
      "text/html": [
       "<div>\n",
       "<style scoped>\n",
       "    .dataframe tbody tr th:only-of-type {\n",
       "        vertical-align: middle;\n",
       "    }\n",
       "\n",
       "    .dataframe tbody tr th {\n",
       "        vertical-align: top;\n",
       "    }\n",
       "\n",
       "    .dataframe thead th {\n",
       "        text-align: right;\n",
       "    }\n",
       "</style>\n",
       "<table border=\"1\" class=\"dataframe\">\n",
       "  <thead>\n",
       "    <tr style=\"text-align: right;\">\n",
       "      <th></th>\n",
       "      <th>Month</th>\n",
       "      <th>values</th>\n",
       "    </tr>\n",
       "  </thead>\n",
       "  <tbody>\n",
       "    <tr>\n",
       "      <th>0</th>\n",
       "      <td>Jan-49</td>\n",
       "      <td>112</td>\n",
       "    </tr>\n",
       "    <tr>\n",
       "      <th>1</th>\n",
       "      <td>Feb-49</td>\n",
       "      <td>118</td>\n",
       "    </tr>\n",
       "    <tr>\n",
       "      <th>2</th>\n",
       "      <td>Mar-49</td>\n",
       "      <td>132</td>\n",
       "    </tr>\n",
       "    <tr>\n",
       "      <th>3</th>\n",
       "      <td>Apr-49</td>\n",
       "      <td>129</td>\n",
       "    </tr>\n",
       "    <tr>\n",
       "      <th>4</th>\n",
       "      <td>May-49</td>\n",
       "      <td>121</td>\n",
       "    </tr>\n",
       "  </tbody>\n",
       "</table>\n",
       "</div>"
      ],
      "text/plain": [
       "    Month  values\n",
       "0  Jan-49     112\n",
       "1  Feb-49     118\n",
       "2  Mar-49     132\n",
       "3  Apr-49     129\n",
       "4  May-49     121"
      ]
     },
     "execution_count": 3,
     "metadata": {},
     "output_type": "execute_result"
    }
   ],
   "source": [
    "stock.head(5)"
   ]
  },
  {
   "cell_type": "code",
   "execution_count": 4,
   "metadata": {},
   "outputs": [],
   "source": [
    "label = stock['values']"
   ]
  },
  {
   "cell_type": "code",
   "execution_count": 5,
   "metadata": {},
   "outputs": [
    {
     "data": {
      "image/png": "[encoded data removed]",
      "text/plain": [
       "<Figure size 432x288 with 1 Axes>"
      ]
     },
     "metadata": {
      "needs_background": "light"
     },
     "output_type": "display_data"
    }
   ],
   "source": [
    "import matplotlib.pyplot as plt\n",
    "%matplotlib inline\n",
    "\n",
    "plt.plot(range(len(label)), label, 'r--')\n",
    "plt.show()"
   ]
  },
  {
   "cell_type": "code",
   "execution_count": 6,
   "metadata": {},
   "outputs": [
    {
     "name": "stdout",
     "output_type": "stream",
     "text": [
      "object\n"
     ]
    },
    {
     "data": {
      "text/plain": [
       "(144, 1)"
      ]
     },
     "execution_count": 6,
     "metadata": {},
     "output_type": "execute_result"
    }
   ],
   "source": [
    "dataset = stock.values[:, -1:]\n",
    "print(dataset.dtype)\n",
    "dataset.shape"
   ]
  },
  {
   "cell_type": "code",
   "execution_count": 7,
   "metadata": {},
   "outputs": [
    {
     "name": "stdout",
     "output_type": "stream",
     "text": [
      "float32\n"
     ]
    }
   ],
   "source": [
    "# Because the type of dataset is object, we need to change the type to 'float32'\n",
    "dataset = dataset.astype(np.float32)\n",
    "print(dataset.dtype)"
   ]
  },
  {
   "cell_type": "markdown",
   "metadata": {},
   "source": [
    "### 调用 tools 里面的 create_dataset 函数，构造适应的数据集，look_back 默认为 7，即 (x-7) 天预测第 x 天"
   ]
  },
  {
   "cell_type": "markdown",
   "metadata": {},
   "source": [
    "构造数据集的时候，一般而言，会将 y 也作为 X 的一部分，故 need_label 默认为 True， 当然也可以设置为 False，不用 y 作为 input"
   ]
  },
  {
   "cell_type": "code",
   "execution_count": 8,
   "metadata": {},
   "outputs": [],
   "source": [
    "from frames.tools import create_dataset\n",
    "\n",
    "X, y = create_dataset(dataset, look_back=2, need_label=True)"
   ]
  },
  {
   "cell_type": "code",
   "execution_count": 9,
   "metadata": {},
   "outputs": [
    {
     "name": "stdout",
     "output_type": "stream",
     "text": [
      "(142, 2, 1)\n",
      "(142, 1)\n"
     ]
    }
   ],
   "source": [
    "print(X.shape)\n",
    "print(y.shape)"
   ]
  },
  {
   "cell_type": "markdown",
   "metadata": {},
   "source": [
    "### 切割数据集"
   ]
  },
  {
   "cell_type": "code",
   "execution_count": 10,
   "metadata": {},
   "outputs": [],
   "source": [
    "from frames.tools import train_test_split\n",
    "\n",
    "X_train, X_test, y_train, y_test = train_test_split(X, y, test_size=0.2, random_state=19)"
   ]
  },
  {
   "cell_type": "code",
   "execution_count": 11,
   "metadata": {},
   "outputs": [
    {
     "name": "stdout",
     "output_type": "stream",
     "text": [
      "(113, 2, 1) (29, 2, 1) (113, 1) (29, 1)\n",
      "float32 float32\n"
     ]
    }
   ],
   "source": [
    "print(X_train.shape, X_test.shape, y_train.shape, y_test.shape)\n",
    "print(X_train.dtype, y_train.dtype)"
   ]
  },
  {
   "cell_type": "markdown",
   "metadata": {},
   "source": [
    "### 调用 DeeplearningRegression 里面的 LSTM 框架"
   ]
  },
  {
   "cell_type": "code",
   "execution_count": 31,
   "metadata": {},
   "outputs": [],
   "source": [
    "from frames.DeeplearningRegression import LSTM\n",
    "\n",
    "'''\n",
    "参数说明：\n",
    "hidden_layers: 隐藏层神经元个数，传入 int\n",
    "num_layers: lstm 层数，传入 int\n",
    "learning rete: 学习率，这里可以是一个 float，也可以是一个 len=3 的 list，当 lr 是 list 的时候，采用梯度衰减策略\n",
    "activate function: 激活函数，默认 relu，改激活函数输入小写字符串即可，如：'tanh','sigmoid'\n",
    "dropout: 默认为 0，即不采用，这个参数是为了防止训练过拟合\n",
    "epoch: 训练批次，默认 2000\n",
    "batch_size: 默认 128\n",
    "\n",
    "save_path: 默认'LSTM_Results'\n",
    "is_standard: str\n",
    "Dimensionality_reduction_method: 降维方法\n",
    "'''\n",
    "save_path = 'Example_results/Regression/LSTM_Results'\n",
    "lstm = LSTM(learning_rate=[1e-3, 1e-5, 1e-7], num_layers=3, hidden_size=32, \n",
    "            epoch=10000, batch_size=256, save_path=save_path, \n",
    "            is_standard=False, Dimensionality_reduction_method='None') # 采用梯度衰减策略"
   ]
  },
  {
   "cell_type": "code",
   "execution_count": 32,
   "metadata": {
    "scrolled": true
   },
   "outputs": [
    {
     "name": "stdout",
     "output_type": "stream",
     "text": [
      "Training... epoch: 100, loss: 93446.1640625\n",
      "\u001b[1;35m Testing... epoch: 100, loss: 91643.3203125 \u001b[0m!\n",
      "Training... epoch: 200, loss: 92773.0078125\n",
      "\u001b[1;35m Testing... epoch: 200, loss: 90965.0625 \u001b[0m!\n",
      "Training... epoch: 300, loss: 92209.5859375\n",
      "\u001b[1;35m Testing... epoch: 300, loss: 90396.859375 \u001b[0m!\n",
      "Training... epoch: 400, loss: 91680.4375\n",
      "\u001b[1;35m Testing... epoch: 400, loss: 89862.921875 \u001b[0m!\n",
      "Training... epoch: 500, loss: 91168.0078125\n",
      "\u001b[1;35m Testing... epoch: 500, loss: 89345.7265625 \u001b[0m!\n",
      "Training... epoch: 600, loss: 90666.125\n",
      "\u001b[1;35m Testing... epoch: 600, loss: 88839.1484375 \u001b[0m!\n",
      "Training... epoch: 700, loss: 90171.8125\n",
      "\u001b[1;35m Testing... epoch: 700, loss: 88340.15625 \u001b[0m!\n",
      "Training... epoch: 800, loss: 89683.375\n",
      "\u001b[1;35m Testing... epoch: 800, loss: 87847.0859375 \u001b[0m!\n",
      "Training... epoch: 900, loss: 89199.7890625\n",
      "\u001b[1;35m Testing... epoch: 900, loss: 87358.8828125 \u001b[0m!\n",
      "Training... epoch: 1000, loss: 88720.359375\n",
      "\u001b[1;35m Testing... epoch: 1000, loss: 86874.84375 \u001b[0m!\n",
      "Training... epoch: 1100, loss: 88244.59375\n",
      "\u001b[1;35m Testing... epoch: 1100, loss: 86394.5078125 \u001b[0m!\n",
      "Training... epoch: 1200, loss: 87772.171875\n",
      "\u001b[1;35m Testing... epoch: 1200, loss: 85917.5078125 \u001b[0m!\n",
      "Training... epoch: 1300, loss: 87302.765625\n",
      "\u001b[1;35m Testing... epoch: 1300, loss: 85443.5546875 \u001b[0m!\n",
      "Training... epoch: 1400, loss: 86836.1953125\n",
      "\u001b[1;35m Testing... epoch: 1400, loss: 84972.421875 \u001b[0m!\n",
      "Training... epoch: 1500, loss: 86372.28125\n",
      "\u001b[1;35m Testing... epoch: 1500, loss: 84503.9765625 \u001b[0m!\n",
      "Training... epoch: 1600, loss: 85910.8828125\n",
      "\u001b[1;35m Testing... epoch: 1600, loss: 84038.046875 \u001b[0m!\n",
      "Training... epoch: 1700, loss: 85451.8671875\n",
      "\u001b[1;35m Testing... epoch: 1700, loss: 83574.5234375 \u001b[0m!\n",
      "Training... epoch: 1800, loss: 84995.1640625\n",
      "\u001b[1;35m Testing... epoch: 1800, loss: 83113.3125 \u001b[0m!\n",
      "Training... epoch: 1900, loss: 84540.6796875\n",
      "\u001b[1;35m Testing... epoch: 1900, loss: 82654.3125 \u001b[0m!\n",
      "Training... epoch: 2000, loss: 84088.3359375\n",
      "\u001b[1;35m Testing... epoch: 2000, loss: 82197.4765625 \u001b[0m!\n",
      "Training... epoch: 2100, loss: 83638.078125\n",
      "\u001b[1;35m Testing... epoch: 2100, loss: 81742.71875 \u001b[0m!\n",
      "Training... epoch: 2200, loss: 83189.8359375\n",
      "\u001b[1;35m Testing... epoch: 2200, loss: 81289.9921875 \u001b[0m!\n",
      "Training... epoch: 2300, loss: 82743.5859375\n",
      "\u001b[1;35m Testing... epoch: 2300, loss: 80839.25 \u001b[0m!\n",
      "Training... epoch: 2400, loss: 82299.2578125\n",
      "\u001b[1;35m Testing... epoch: 2400, loss: 80390.4453125 \u001b[0m!\n",
      "Training... epoch: 2500, loss: 81856.828125\n",
      "\u001b[1;35m Testing... epoch: 2500, loss: 79943.53125 \u001b[0m!\n",
      "Training... epoch: 2600, loss: 81416.2421875\n",
      "\u001b[1;35m Testing... epoch: 2600, loss: 79498.4765625 \u001b[0m!\n",
      "Training... epoch: 2700, loss: 80977.5\n",
      "\u001b[1;35m Testing... epoch: 2700, loss: 79055.2578125 \u001b[0m!\n",
      "Training... epoch: 2800, loss: 80540.5390625\n",
      "\u001b[1;35m Testing... epoch: 2800, loss: 78613.8359375 \u001b[0m!\n",
      "Training... epoch: 2900, loss: 80105.34375\n",
      "\u001b[1;35m Testing... epoch: 2900, loss: 78174.1875 \u001b[0m!\n",
      "Training... epoch: 3000, loss: 79671.90625\n",
      "\u001b[1;35m Testing... epoch: 3000, loss: 77736.28125 \u001b[0m!\n",
      "Training... epoch: 3100, loss: 79240.1796875\n",
      "\u001b[1;35m Testing... epoch: 3100, loss: 77300.109375 \u001b[0m!\n",
      "Training... epoch: 3200, loss: 78810.171875\n",
      "\u001b[1;35m Testing... epoch: 3200, loss: 76865.640625 \u001b[0m!\n",
      "Training... epoch: 3300, loss: 78381.8359375\n",
      "\u001b[1;35m Testing... epoch: 3300, loss: 76432.859375 \u001b[0m!\n",
      "Training... epoch: 3400, loss: 77955.171875\n",
      "\u001b[1;35m Testing... epoch: 3400, loss: 76001.734375 \u001b[0m!\n",
      "Training... epoch: 3500, loss: 77530.15625\n",
      "\u001b[1;35m Testing... epoch: 3500, loss: 75572.2734375 \u001b[0m!\n",
      "Training... epoch: 3600, loss: 77106.78125\n",
      "\u001b[1;35m Testing... epoch: 3600, loss: 75144.453125 \u001b[0m!\n",
      "Training... epoch: 3700, loss: 76685.0234375\n",
      "\u001b[1;35m Testing... epoch: 3700, loss: 74718.25 \u001b[0m!\n",
      "Training... epoch: 3800, loss: 76264.875\n",
      "\u001b[1;35m Testing... epoch: 3800, loss: 74293.6640625 \u001b[0m!\n",
      "Training... epoch: 3900, loss: 75846.3359375\n",
      "\u001b[1;35m Testing... epoch: 3900, loss: 73870.671875 \u001b[0m!\n",
      "Training... epoch: 4000, loss: 75429.3671875\n",
      "\u001b[1;35m Testing... epoch: 4000, loss: 73449.2734375 \u001b[0m!\n",
      "Training... epoch: 4100, loss: 75014.0\n",
      "\u001b[1;35m Testing... epoch: 4100, loss: 73029.46875 \u001b[0m!\n",
      "Training... epoch: 4200, loss: 74600.1875\n",
      "\u001b[1;35m Testing... epoch: 4200, loss: 72611.234375 \u001b[0m!\n",
      "Training... epoch: 4300, loss: 74187.9296875\n",
      "\u001b[1;35m Testing... epoch: 4300, loss: 72194.53125 \u001b[0m!\n",
      "Training... epoch: 4400, loss: 73777.265625\n",
      "\u001b[1;35m Testing... epoch: 4400, loss: 71779.4296875 \u001b[0m!\n",
      "Training... epoch: 4500, loss: 73368.09375\n",
      "\u001b[1;35m Testing... epoch: 4500, loss: 71365.828125 \u001b[0m!\n",
      "Training... epoch: 4600, loss: 72960.5078125\n",
      "\u001b[1;35m Testing... epoch: 4600, loss: 70953.8125 \u001b[0m!\n",
      "Training... epoch: 4700, loss: 72554.421875\n",
      "\u001b[1;35m Testing... epoch: 4700, loss: 70543.3046875 \u001b[0m!\n",
      "Training... epoch: 4800, loss: 72149.8828125\n",
      "\u001b[1;35m Testing... epoch: 4800, loss: 70134.34375 \u001b[0m!\n",
      "Training... epoch: 4900, loss: 71746.859375\n",
      "\u001b[1;35m Testing... epoch: 4900, loss: 69726.8828125 \u001b[0m!\n",
      "Training... epoch: 5000, loss: 71345.3671875\n",
      "\u001b[1;35m Testing... epoch: 5000, loss: 69320.96875 \u001b[0m!\n",
      "Training... epoch: 5100, loss: 70945.3671875\n",
      "\u001b[1;35m Testing... epoch: 5100, loss: 68916.546875 \u001b[0m!\n",
      "Training... epoch: 5200, loss: 70546.8984375\n",
      "\u001b[1;35m Testing... epoch: 5200, loss: 68513.6484375 \u001b[0m!\n",
      "Training... epoch: 5300, loss: 70149.90625\n",
      "\u001b[1;35m Testing... epoch: 5300, loss: 68112.2265625 \u001b[0m!\n",
      "Training... epoch: 5400, loss: 69754.453125\n",
      "\u001b[1;35m Testing... epoch: 5400, loss: 67712.3671875 \u001b[0m!\n",
      "Training... epoch: 5500, loss: 69360.46875\n",
      "\u001b[1;35m Testing... epoch: 5500, loss: 67313.953125 \u001b[0m!\n",
      "Training... epoch: 5600, loss: 68968.0078125\n",
      "\u001b[1;35m Testing... epoch: 5600, loss: 66917.0625 \u001b[0m!\n",
      "Training... epoch: 5700, loss: 68577.015625\n",
      "\u001b[1;35m Testing... epoch: 5700, loss: 66521.6640625 \u001b[0m!\n",
      "Training... epoch: 5800, loss: 68187.4921875\n",
      "\u001b[1;35m Testing... epoch: 5800, loss: 66127.7265625 \u001b[0m!\n",
      "Training... epoch: 5900, loss: 67799.5234375\n",
      "\u001b[1;35m Testing... epoch: 5900, loss: 65735.328125 \u001b[0m!\n",
      "Training... epoch: 6000, loss: 67412.9765625\n",
      "\u001b[1;35m Testing... epoch: 6000, loss: 65344.37109375 \u001b[0m!\n",
      "Training... epoch: 6100, loss: 67027.9375\n",
      "\u001b[1;35m Testing... epoch: 6100, loss: 64954.9140625 \u001b[0m!\n",
      "Training... epoch: 6200, loss: 66644.40625\n",
      "\u001b[1;35m Testing... epoch: 6200, loss: 64566.97265625 \u001b[0m!\n",
      "Training... epoch: 6300, loss: 66262.296875\n",
      "\u001b[1;35m Testing... epoch: 6300, loss: 64180.44140625 \u001b[0m!\n",
      "Training... epoch: 6400, loss: 65881.7109375\n",
      "\u001b[1;35m Testing... epoch: 6400, loss: 63795.43359375 \u001b[0m!\n",
      "Training... epoch: 6500, loss: 65502.60546875\n",
      "\u001b[1;35m Testing... epoch: 6500, loss: 63411.91796875 \u001b[0m!\n",
      "Training... epoch: 6600, loss: 65124.91796875\n",
      "\u001b[1;35m Testing... epoch: 6600, loss: 63029.81640625 \u001b[0m!\n",
      "Training... epoch: 6700, loss: 64876.4765625\n",
      "\u001b[1;35m Testing... epoch: 6700, loss: 62782.26953125 \u001b[0m!\n",
      "Training... epoch: 6800, loss: 64876.4765625\n",
      "\u001b[1;35m Testing... epoch: 6800, loss: 62782.26953125 \u001b[0m!\n",
      "Training... epoch: 6900, loss: 64876.4765625\n",
      "\u001b[1;35m Testing... epoch: 6900, loss: 62782.26953125 \u001b[0m!\n",
      "Training... epoch: 7000, loss: 64876.4765625\n",
      "\u001b[1;35m Testing... epoch: 7000, loss: 62782.26953125 \u001b[0m!\n",
      "Training... epoch: 7100, loss: 64876.4765625\n",
      "\u001b[1;35m Testing... epoch: 7100, loss: 62782.26953125 \u001b[0m!\n",
      "Training... epoch: 7200, loss: 64876.4765625\n",
      "\u001b[1;35m Testing... epoch: 7200, loss: 62782.26953125 \u001b[0m!\n",
      "Training... epoch: 7300, loss: 64876.4765625\n",
      "\u001b[1;35m Testing... epoch: 7300, loss: 62782.26953125 \u001b[0m!\n",
      "Training... epoch: 7400, loss: 64876.4765625\n",
      "\u001b[1;35m Testing... epoch: 7400, loss: 62782.26953125 \u001b[0m!\n",
      "Training... epoch: 7500, loss: 64876.4765625\n",
      "\u001b[1;35m Testing... epoch: 7500, loss: 62782.26953125 \u001b[0m!\n",
      "Training... epoch: 7600, loss: 64876.4765625\n",
      "\u001b[1;35m Testing... epoch: 7600, loss: 62782.26953125 \u001b[0m!\n",
      "Training... epoch: 7700, loss: 64876.4765625\n",
      "\u001b[1;35m Testing... epoch: 7700, loss: 62782.26953125 \u001b[0m!\n",
      "Training... epoch: 7800, loss: 64876.4765625\n",
      "\u001b[1;35m Testing... epoch: 7800, loss: 62782.26953125 \u001b[0m!\n",
      "Training... epoch: 7900, loss: 64876.4765625\n",
      "\u001b[1;35m Testing... epoch: 7900, loss: 62782.26953125 \u001b[0m!\n",
      "Training... epoch: 8000, loss: 64876.4765625\n",
      "\u001b[1;35m Testing... epoch: 8000, loss: 62782.26953125 \u001b[0m!\n",
      "Training... epoch: 8100, loss: 64876.4765625\n",
      "\u001b[1;35m Testing... epoch: 8100, loss: 62782.26953125 \u001b[0m!\n"
     ]
    },
    {
     "name": "stdout",
     "output_type": "stream",
     "text": [
      "Training... epoch: 8200, loss: 64876.4765625\n",
      "\u001b[1;35m Testing... epoch: 8200, loss: 62782.26953125 \u001b[0m!\n",
      "Training... epoch: 8300, loss: 64876.4765625\n",
      "\u001b[1;35m Testing... epoch: 8300, loss: 62782.26953125 \u001b[0m!\n",
      "Training... epoch: 8400, loss: 64876.4765625\n",
      "\u001b[1;35m Testing... epoch: 8400, loss: 62782.26953125 \u001b[0m!\n",
      "Training... epoch: 8500, loss: 64876.4765625\n",
      "\u001b[1;35m Testing... epoch: 8500, loss: 62782.26953125 \u001b[0m!\n",
      "Training... epoch: 8600, loss: 64876.4765625\n",
      "\u001b[1;35m Testing... epoch: 8600, loss: 62782.26953125 \u001b[0m!\n",
      "Training... epoch: 8700, loss: 64876.4765625\n",
      "\u001b[1;35m Testing... epoch: 8700, loss: 62782.26953125 \u001b[0m!\n",
      "Training... epoch: 8800, loss: 64876.4765625\n",
      "\u001b[1;35m Testing... epoch: 8800, loss: 62782.26953125 \u001b[0m!\n",
      "Training... epoch: 8900, loss: 64876.4765625\n",
      "\u001b[1;35m Testing... epoch: 8900, loss: 62782.26953125 \u001b[0m!\n",
      "Training... epoch: 9000, loss: 64876.4765625\n",
      "\u001b[1;35m Testing... epoch: 9000, loss: 62782.26953125 \u001b[0m!\n",
      "Training... epoch: 9100, loss: 64876.4765625\n",
      "\u001b[1;35m Testing... epoch: 9100, loss: 62782.26953125 \u001b[0m!\n",
      "Training... epoch: 9200, loss: 64876.4765625\n",
      "\u001b[1;35m Testing... epoch: 9200, loss: 62782.26953125 \u001b[0m!\n",
      "Training... epoch: 9300, loss: 64876.4765625\n",
      "\u001b[1;35m Testing... epoch: 9300, loss: 62782.26953125 \u001b[0m!\n",
      "Training... epoch: 9400, loss: 64876.4765625\n",
      "\u001b[1;35m Testing... epoch: 9400, loss: 62782.26953125 \u001b[0m!\n",
      "Training... epoch: 9500, loss: 64876.4765625\n",
      "\u001b[1;35m Testing... epoch: 9500, loss: 62782.26953125 \u001b[0m!\n",
      "Training... epoch: 9600, loss: 64876.4765625\n",
      "\u001b[1;35m Testing... epoch: 9600, loss: 62782.26953125 \u001b[0m!\n",
      "Training... epoch: 9700, loss: 64876.4765625\n",
      "\u001b[1;35m Testing... epoch: 9700, loss: 62782.26953125 \u001b[0m!\n",
      "Training... epoch: 9800, loss: 64876.4765625\n",
      "\u001b[1;35m Testing... epoch: 9800, loss: 62782.26953125 \u001b[0m!\n",
      "Training... epoch: 9900, loss: 64876.4765625\n",
      "\u001b[1;35m Testing... epoch: 9900, loss: 62782.26953125 \u001b[0m!\n",
      "Training... epoch: 10000, loss: 64876.4765625\n",
      "\u001b[1;35m Testing... epoch: 10000, loss: 62782.26953125 \u001b[0m!\n",
      "Training completed!!! Time consuming: 53.80706715583801\n"
     ]
    }
   ],
   "source": [
    "lstm.fit(X_train, y_train, X_test, y_test)"
   ]
  },
  {
   "cell_type": "markdown",
   "metadata": {},
   "source": [
    "### 调用 score 得到结果"
   ]
  },
  {
   "cell_type": "code",
   "execution_count": 33,
   "metadata": {},
   "outputs": [
    {
     "name": "stdout",
     "output_type": "stream",
     "text": [
      "mse: 62782.2734375, rmse: 250.56390380859375, mae: 226.47625732421875, mape: 75.83633065223694, r2: -4.463721687323865, r2_adjusted: -4.666081749817341, rmsle: 1.5505858659744263\n"
     ]
    }
   ],
   "source": [
    "lstm.score()"
   ]
  },
  {
   "cell_type": "markdown",
   "metadata": {},
   "source": [
    "### 调用 save 保存结果"
   ]
  },
  {
   "cell_type": "code",
   "execution_count": 34,
   "metadata": {},
   "outputs": [
    {
     "name": "stdout",
     "output_type": "stream",
     "text": [
      "Save results success!\n",
      "Save the value of prediction successfully!!\n",
      "Save the picture successfully!\n",
      "Save the picture of training loss successfully!\n",
      "Save the picture of testing loss  successfully!\n"
     ]
    }
   ],
   "source": [
    "lstm.save()"
   ]
  },
  {
   "cell_type": "markdown",
   "metadata": {},
   "source": [
    "# 对 y 进行标准化操作"
   ]
  },
  {
   "cell_type": "markdown",
   "metadata": {},
   "source": [
    "在机器学习里，认为 训练集（training set）的分布符合总体分布"
   ]
  },
  {
   "cell_type": "code",
   "execution_count": 16,
   "metadata": {},
   "outputs": [
    {
     "name": "stdout",
     "output_type": "stream",
     "text": [
      "the shape of dataset_standard is:  (144, 1)\n"
     ]
    }
   ],
   "source": [
    "# 对数据进行 标准化，将最后 百分之20，作为 测试集 \n",
    "# 但是这里标准化后还是要合并，后续要给数据格式进行处理\n",
    "train_size = int(len(dataset) * 0.8)\n",
    "data_train = dataset[:train_size]\n",
    "data_test = dataset[train_size:]\n",
    "\n",
    "from sklearn.preprocessing import StandardScaler\n",
    "\n",
    "standard = StandardScaler()\n",
    "standard.fit(data_train)\n",
    "\n",
    "data_train_standard = standard.transform(data_train)\n",
    "data_test_standard = standard.transform(data_test)\n",
    "\n",
    "# 合并\n",
    "dataset_standard = np.concatenate((data_train_standard, data_test_standard), axis=0)\n",
    "print('the shape of dataset_standard is: ', dataset_standard.shape)"
   ]
  },
  {
   "cell_type": "code",
   "execution_count": 17,
   "metadata": {},
   "outputs": [],
   "source": [
    "from frames.tools import create_dataset\n",
    "\n",
    "X, y = create_dataset(dataset_standard, look_back=2)"
   ]
  },
  {
   "cell_type": "code",
   "execution_count": 18,
   "metadata": {},
   "outputs": [],
   "source": [
    "from frames.tools import train_test_split\n",
    "\n",
    "X_train_standard, X_test_standard, y_train_standard, y_test_standard = train_test_split(X, y, test_size=0.2, random_state=19)"
   ]
  },
  {
   "cell_type": "code",
   "execution_count": 19,
   "metadata": {},
   "outputs": [],
   "source": [
    "from frames.DeeplearningRegression import LSTM\n",
    "\n",
    "'''\n",
    "参数说明：\n",
    "hidden_layers: 隐藏层神经元个数，传入 int\n",
    "num_layers: lstm 层数，传入 int\n",
    "learning rete: 学习率，这里可以是一个 float，也可以是一个 len=3 的 list，当 lr 是 list 的时候，采用梯度衰减策略\n",
    "activate function: 激活函数，默认 relu，改激活函数输入小写字符串即可，如：'tanh','sigmoid'\n",
    "dropout: 默认为 0，即不采用，这个参数是为了防止训练过拟合\n",
    "epoch: 训练批次，默认 2000\n",
    "batch_size: 默认 128\n",
    "\n",
    "save_path: 默认'LSTM_Results'\n",
    "is_standard: str\n",
    "Dimensionality_reduction_method: 降维方法\n",
    "'''\n",
    "save_path = 'Example_results/Regression/LSTM2_Results'\n",
    "lstm2 = LSTM(learning_rate=[1e-2, 1e-4, 1e-6], num_layers=2, hidden_size=32, \n",
    "            epoch=5000, batch_size=256, save_path=save_path, \n",
    "            is_standard=False, Dimensionality_reduction_method='None') # 采用梯度衰减策略"
   ]
  },
  {
   "cell_type": "code",
   "execution_count": 20,
   "metadata": {
    "scrolled": true
   },
   "outputs": [
    {
     "name": "stdout",
     "output_type": "stream",
     "text": [
      "Training... epoch: 100, loss: 0.10577932745218277\n",
      "\u001b[1;35m Testing... epoch: 100, loss: 0.07604729384183884 \u001b[0m!\n",
      "Training... epoch: 200, loss: 0.08665495365858078\n",
      "\u001b[1;35m Testing... epoch: 200, loss: 0.09296329319477081 \u001b[0m!\n",
      "Training... epoch: 300, loss: 0.08119672536849976\n",
      "\u001b[1;35m Testing... epoch: 300, loss: 0.10946975648403168 \u001b[0m!\n",
      "Training... epoch: 400, loss: 0.07507479935884476\n",
      "\u001b[1;35m Testing... epoch: 400, loss: 0.13447047770023346 \u001b[0m!\n",
      "Training... epoch: 500, loss: 0.06662732362747192\n",
      "\u001b[1;35m Testing... epoch: 500, loss: 0.14208918809890747 \u001b[0m!\n",
      "Training... epoch: 600, loss: 0.05736459046602249\n",
      "\u001b[1;35m Testing... epoch: 600, loss: 0.15302173793315887 \u001b[0m!\n",
      "Training... epoch: 700, loss: 0.04917958751320839\n",
      "\u001b[1;35m Testing... epoch: 700, loss: 0.16469477117061615 \u001b[0m!\n",
      "Training... epoch: 800, loss: 0.043832797557115555\n",
      "\u001b[1;35m Testing... epoch: 800, loss: 0.1581733524799347 \u001b[0m!\n",
      "Training... epoch: 900, loss: 0.037559691816568375\n",
      "\u001b[1;35m Testing... epoch: 900, loss: 0.140935480594635 \u001b[0m!\n",
      "Training... epoch: 1000, loss: 0.02879101224243641\n",
      "\u001b[1;35m Testing... epoch: 1000, loss: 0.13931557536125183 \u001b[0m!\n",
      "Training... epoch: 1100, loss: 0.01739608682692051\n",
      "\u001b[1;35m Testing... epoch: 1100, loss: 0.13736073672771454 \u001b[0m!\n",
      "Training... epoch: 1200, loss: 0.013561438769102097\n",
      "\u001b[1;35m Testing... epoch: 1200, loss: 0.1353788524866104 \u001b[0m!\n",
      "Training... epoch: 1300, loss: 0.01294990349560976\n",
      "\u001b[1;35m Testing... epoch: 1300, loss: 0.1409953385591507 \u001b[0m!\n",
      "Training... epoch: 1400, loss: 0.008990781381726265\n",
      "\u001b[1;35m Testing... epoch: 1400, loss: 0.13890837132930756 \u001b[0m!\n",
      "Training... epoch: 1500, loss: 0.019207363948225975\n",
      "\u001b[1;35m Testing... epoch: 1500, loss: 0.1724701076745987 \u001b[0m!\n",
      "Training... epoch: 1600, loss: 0.008135021664202213\n",
      "\u001b[1;35m Testing... epoch: 1600, loss: 0.17621676623821259 \u001b[0m!\n",
      "Training... epoch: 1700, loss: 0.009064915589988232\n",
      "\u001b[1;35m Testing... epoch: 1700, loss: 0.17863814532756805 \u001b[0m!\n",
      "Training... epoch: 1800, loss: 0.006575178820639849\n",
      "\u001b[1;35m Testing... epoch: 1800, loss: 0.1744546890258789 \u001b[0m!\n",
      "Training... epoch: 1900, loss: 0.006933786906301975\n",
      "\u001b[1;35m Testing... epoch: 1900, loss: 0.1722928285598755 \u001b[0m!\n",
      "Training... epoch: 2000, loss: 0.005587549414485693\n",
      "\u001b[1;35m Testing... epoch: 2000, loss: 0.17737945914268494 \u001b[0m!\n",
      "Training... epoch: 2100, loss: 0.004280081484466791\n",
      "\u001b[1;35m Testing... epoch: 2100, loss: 0.1728702038526535 \u001b[0m!\n",
      "Training... epoch: 2200, loss: 0.003568167332559824\n",
      "\u001b[1;35m Testing... epoch: 2200, loss: 0.18032494187355042 \u001b[0m!\n",
      "Training... epoch: 2300, loss: 0.0018477848498150706\n",
      "\u001b[1;35m Testing... epoch: 2300, loss: 0.18414971232414246 \u001b[0m!\n",
      "Training... epoch: 2400, loss: 0.0008893937920220196\n",
      "\u001b[1;35m Testing... epoch: 2400, loss: 0.19478629529476166 \u001b[0m!\n",
      "Training... epoch: 2500, loss: 0.017489369958639145\n",
      "\u001b[1;35m Testing... epoch: 2500, loss: 0.2327466607093811 \u001b[0m!\n",
      "Training... epoch: 2600, loss: 0.0030322002712637186\n",
      "\u001b[1;35m Testing... epoch: 2600, loss: 0.19410115480422974 \u001b[0m!\n",
      "Training... epoch: 2700, loss: 0.0016992560122162104\n",
      "\u001b[1;35m Testing... epoch: 2700, loss: 0.1738939732313156 \u001b[0m!\n",
      "Training... epoch: 2800, loss: 0.0008252100087702274\n",
      "\u001b[1;35m Testing... epoch: 2800, loss: 0.18010614812374115 \u001b[0m!\n",
      "Training... epoch: 2900, loss: 0.0006115292198956013\n",
      "\u001b[1;35m Testing... epoch: 2900, loss: 0.1785295307636261 \u001b[0m!\n",
      "Training... epoch: 3000, loss: 0.0004654141375795007\n",
      "\u001b[1;35m Testing... epoch: 3000, loss: 0.17874833941459656 \u001b[0m!\n",
      "Training... epoch: 3100, loss: 0.00042355392361059785\n",
      "\u001b[1;35m Testing... epoch: 3100, loss: 0.178456649184227 \u001b[0m!\n",
      "Training... epoch: 3200, loss: 0.0003712594916578382\n",
      "\u001b[1;35m Testing... epoch: 3200, loss: 0.1788627654314041 \u001b[0m!\n",
      "Training... epoch: 3300, loss: 0.00029643112793564796\n",
      "\u001b[1;35m Testing... epoch: 3300, loss: 0.18021166324615479 \u001b[0m!\n",
      "Training... epoch: 3400, loss: 0.02580665796995163\n",
      "\u001b[1;35m Testing... epoch: 3400, loss: 0.2381051629781723 \u001b[0m!\n",
      "Training... epoch: 3500, loss: 0.024188289418816566\n",
      "\u001b[1;35m Testing... epoch: 3500, loss: 0.23744148015975952 \u001b[0m!\n",
      "Training... epoch: 3600, loss: 0.023054838180541992\n",
      "\u001b[1;35m Testing... epoch: 3600, loss: 0.23718811571598053 \u001b[0m!\n",
      "Training... epoch: 3700, loss: 0.022178223356604576\n",
      "\u001b[1;35m Testing... epoch: 3700, loss: 0.2371930181980133 \u001b[0m!\n",
      "Training... epoch: 3800, loss: 0.0214657261967659\n",
      "\u001b[1;35m Testing... epoch: 3800, loss: 0.2373666763305664 \u001b[0m!\n",
      "Training... epoch: 3900, loss: 0.020872987806797028\n",
      "\u001b[1;35m Testing... epoch: 3900, loss: 0.23766568303108215 \u001b[0m!\n",
      "Training... epoch: 4000, loss: 0.020363621413707733\n",
      "\u001b[1;35m Testing... epoch: 4000, loss: 0.2380426675081253 \u001b[0m!\n",
      "Training... epoch: 4100, loss: 0.01991317793726921\n",
      "\u001b[1;35m Testing... epoch: 4100, loss: 0.23730450868606567 \u001b[0m!\n",
      "Training... epoch: 4200, loss: 0.019511796534061432\n",
      "\u001b[1;35m Testing... epoch: 4200, loss: 0.23651692271232605 \u001b[0m!\n",
      "Training... epoch: 4300, loss: 0.019068347290158272\n",
      "\u001b[1;35m Testing... epoch: 4300, loss: 0.23554684221744537 \u001b[0m!\n",
      "Training... epoch: 4400, loss: 0.018662646412849426\n",
      "\u001b[1;35m Testing... epoch: 4400, loss: 0.2346428483724594 \u001b[0m!\n",
      "Training... epoch: 4500, loss: 0.0183015838265419\n",
      "\u001b[1;35m Testing... epoch: 4500, loss: 0.2338673621416092 \u001b[0m!\n",
      "Training... epoch: 4600, loss: 0.01797783374786377\n",
      "\u001b[1;35m Testing... epoch: 4600, loss: 0.2331952005624771 \u001b[0m!\n",
      "Training... epoch: 4700, loss: 0.017686013132333755\n",
      "\u001b[1;35m Testing... epoch: 4700, loss: 0.23261064291000366 \u001b[0m!\n",
      "Training... epoch: 4800, loss: 0.017420433461666107\n",
      "\u001b[1;35m Testing... epoch: 4800, loss: 0.23210471868515015 \u001b[0m!\n",
      "Training... epoch: 4900, loss: 0.017177140340209007\n",
      "\u001b[1;35m Testing... epoch: 4900, loss: 0.23166677355766296 \u001b[0m!\n",
      "Training... epoch: 5000, loss: 0.016955964267253876\n",
      "\u001b[1;35m Testing... epoch: 5000, loss: 0.23122116923332214 \u001b[0m!\n",
      "Training completed!!! Time consuming: 18.20305109024048\n"
     ]
    }
   ],
   "source": [
    "lstm2.fit(X_train_standard, y_train_standard, X_test_standard, y_test_standard)"
   ]
  },
  {
   "cell_type": "markdown",
   "metadata": {},
   "source": [
    "### 反标准化"
   ]
  },
  {
   "cell_type": "code",
   "execution_count": 21,
   "metadata": {},
   "outputs": [
    {
     "name": "stdout",
     "output_type": "stream",
     "text": [
      "mse: 4011.78369140625, rmse: 63.33864212036133, mae: 50.717586517333984, mape: 25.963902473449707, r2: 0.6508684379737433, rmsle: 0.2968173325061798\n",
      "if you wanna get the value of r2_adjusted, you can define the number of features, which is the third parameter.\n"
     ]
    },
    {
     "data": {
      "text/plain": [
       "(4011.7837,\n",
       " 63.338642,\n",
       " 50.717587,\n",
       " 25.963902473449707,\n",
       " 0.6508684379737433,\n",
       " 0.29681733)"
      ]
     },
     "execution_count": 21,
     "metadata": {},
     "output_type": "execute_result"
    }
   ],
   "source": [
    "prediction_standard = lstm2.predict(X_test_standard)\n",
    "\n",
    "prediction = standard.inverse_transform(prediction_standard)\n",
    "y_true = standard.inverse_transform(y_test_standard)\n",
    "\n",
    "from frames.tools import reg_calculate\n",
    "\n",
    "reg_calculate(y_true, prediction)"
   ]
  },
  {
   "cell_type": "code",
   "execution_count": 22,
   "metadata": {},
   "outputs": [
    {
     "data": {
      "image/png": "[encoded data removed]",
      "text/plain": [
       "<Figure size 432x288 with 1 Axes>"
      ]
     },
     "metadata": {
      "needs_background": "light"
     },
     "output_type": "display_data"
    }
   ],
   "source": [
    "plt.plot(range(len(prediction)), prediction, 'r--', label='prediction')\n",
    "plt.plot(range(len(y_true)), y_true, 'b--', label='true')\n",
    "plt.legend()\n",
    "plt.show()"
   ]
  },
  {
   "cell_type": "code",
   "execution_count": null,
   "metadata": {},
   "outputs": [],
   "source": []
  }
 ],
 "metadata": {
  "kernelspec": {
   "display_name": "Python 3",
   "language": "python",
   "name": "python3"
  },
  "language_info": {
   "codemirror_mode": {
    "name": "ipython",
    "version": 3
   },
   "file_extension": ".py",
   "mimetype": "text/x-python",
   "name": "python",
   "nbconvert_exporter": "python",
   "pygments_lexer": "ipython3",
   "version": "3.6.2"
  }
 },
 "nbformat": 4,
 "nbformat_minor": 2
}
