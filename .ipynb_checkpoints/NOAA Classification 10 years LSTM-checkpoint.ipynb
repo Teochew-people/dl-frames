{
 "cells": [
  {
   "cell_type": "markdown",
   "metadata": {},
   "source": [
    "### StandardScaler"
   ]
  },
  {
   "cell_type": "code",
   "execution_count": 1,
   "metadata": {},
   "outputs": [],
   "source": [
    "import numpy as np\n",
    "import matplotlib.pyplot as plt\n",
    "import pandas as pd\n",
    "\n",
    "import torch\n",
    "import torch.nn as nn\n",
    "from torch.autograd import Variable"
   ]
  },
  {
   "cell_type": "code",
   "execution_count": 2,
   "metadata": {},
   "outputs": [],
   "source": [
    "datasets = np.loadtxt(\"./datasets/U1_ten_save_years/ten_years_datasets.csv\", dtype=np.float, delimiter=\",\")"
   ]
  },
  {
   "cell_type": "code",
   "execution_count": 3,
   "metadata": {},
   "outputs": [
    {
     "data": {
      "text/plain": [
       "(3549, 337)"
      ]
     },
     "execution_count": 3,
     "metadata": {},
     "output_type": "execute_result"
    }
   ],
   "source": [
    "datasets.shape"
   ]
  },
  {
   "cell_type": "code",
   "execution_count": 4,
   "metadata": {},
   "outputs": [],
   "source": [
    "X = datasets[:, :-1]\n",
    "y = datasets[:, -1:]"
   ]
  },
  {
   "cell_type": "code",
   "execution_count": 5,
   "metadata": {},
   "outputs": [],
   "source": [
    "from sklearn.model_selection import train_test_split\n",
    "\n",
    "X_train, X_test, y_train, y_test = train_test_split(X, y, test_size=0.2, random_state=19)"
   ]
  },
  {
   "cell_type": "markdown",
   "metadata": {},
   "source": [
    "### PCA"
   ]
  },
  {
   "cell_type": "code",
   "execution_count": 6,
   "metadata": {},
   "outputs": [
    {
     "data": {
      "text/plain": [
       "(2839, 336)"
      ]
     },
     "execution_count": 6,
     "metadata": {},
     "output_type": "execute_result"
    }
   ],
   "source": [
    "X_train.shape"
   ]
  },
  {
   "cell_type": "code",
   "execution_count": 7,
   "metadata": {},
   "outputs": [],
   "source": [
    "from sklearn.decomposition import PCA\n",
    "\n",
    "pca = PCA(n_components=100)\n",
    "pca.fit(X_train)\n",
    "X_train_reduction = pca.transform(X_train)\n",
    "X_test_reduction = pca.transform(X_test)"
   ]
  },
  {
   "cell_type": "code",
   "execution_count": 8,
   "metadata": {},
   "outputs": [
    {
     "data": {
      "text/plain": [
       "(2839, 100)"
      ]
     },
     "execution_count": 8,
     "metadata": {},
     "output_type": "execute_result"
    }
   ],
   "source": [
    "X_train_reduction.shape"
   ]
  },
  {
   "cell_type": "code",
   "execution_count": 9,
   "metadata": {},
   "outputs": [
    {
     "data": {
      "text/plain": [
       "0.9864646027169256"
      ]
     },
     "execution_count": 9,
     "metadata": {},
     "output_type": "execute_result"
    }
   ],
   "source": [
    "sum = 0.0\n",
    "for i in pca.explained_variance_ratio_:\n",
    "    sum+=i\n",
    "sum"
   ]
  },
  {
   "cell_type": "markdown",
   "metadata": {},
   "source": [
    "### Standardization"
   ]
  },
  {
   "cell_type": "code",
   "execution_count": 10,
   "metadata": {},
   "outputs": [],
   "source": [
    "from sklearn.preprocessing import StandardScaler\n",
    "\n",
    "ss = StandardScaler()\n",
    "ss.fit(X_train_reduction)\n",
    "X_train_standard = ss.transform(X_train_reduction)\n",
    "X_test_standard = ss.transform(X_test_reduction)"
   ]
  },
  {
   "cell_type": "markdown",
   "metadata": {},
   "source": [
    "### Batch_size"
   ]
  },
  {
   "cell_type": "code",
   "execution_count": 11,
   "metadata": {},
   "outputs": [],
   "source": [
    "from torch.utils.data import DataLoader\n",
    "\n",
    "train_datasets = torch.FloatTensor(np.c_[X_train_standard, y_train])\n",
    "Batch_train_set = DataLoader(train_datasets, batch_size=256, shuffle=True)"
   ]
  },
  {
   "cell_type": "markdown",
   "metadata": {},
   "source": [
    "### BPNN"
   ]
  },
  {
   "cell_type": "code",
   "execution_count": 12,
   "metadata": {},
   "outputs": [],
   "source": [
    "input_size = X_train_reduction.shape[1]\n",
    "output_size = y_train.shape[1]\n",
    "learning_rate = 1e-3"
   ]
  },
  {
   "cell_type": "markdown",
   "metadata": {},
   "source": [
    "### Create network"
   ]
  },
  {
   "cell_type": "code",
   "execution_count": 13,
   "metadata": {},
   "outputs": [],
   "source": [
    "class LSTM(nn.Module):\n",
    "    def __init__(self):\n",
    "        super(LSTM, self).__init__()\n",
    "        self.rnn = nn.LSTM(100, 32, 2, batch_first=True) # rnn\n",
    "        self.predict = nn.Sequential(\n",
    "            nn.Dropout(0.5),\n",
    "            nn.Linear(32, 1),\n",
    "            #nn.Softmax()\n",
    "        )\n",
    "        \n",
    "    def forward(self, x):\n",
    "        x, (h,o) = self.rnn(x, None)\n",
    "        # 将最后一个时间片扔进 Linear\n",
    "        out = self.predict(x[:,-1,:])\n",
    "        return out"
   ]
  },
  {
   "cell_type": "code",
   "execution_count": 15,
   "metadata": {},
   "outputs": [],
   "source": [
    "import os\n",
    "net_path = './Ten_years_Weight/LSTM_net.pkl'\n",
    "net_para_path = './Ten_years_Weight/LSTM_net_parameters.pkl'\n",
    "# if exists the model file\n",
    "if os.path.exists(net_para_path):\n",
    "    net = LSTM()\n",
    "    net.load_state_dict(torch.load(net_para_path))\n",
    "else:\n",
    "    net = LSTM()"
   ]
  },
  {
   "cell_type": "code",
   "execution_count": 16,
   "metadata": {},
   "outputs": [],
   "source": [
    "optimizer = torch.optim.Adam(net.parameters(), lr=learning_rate, weight_decay=1e-8)\n",
    "criterion = nn.MSELoss()"
   ]
  },
  {
   "cell_type": "code",
   "execution_count": 17,
   "metadata": {},
   "outputs": [],
   "source": [
    "def cross_entropy_erorr(y, t):\n",
    "    delta = 1e-7\n",
    "    return -torch.sum(t * torch.log(y + delta))"
   ]
  },
  {
   "cell_type": "code",
   "execution_count": 18,
   "metadata": {
    "scrolled": true
   },
   "outputs": [
    {
     "name": "stderr",
     "output_type": "stream",
     "text": [
      "/home/nfsysubigdata/anaconda3/envs/WZ/lib/python3.6/site-packages/torch/serialization.py:251: UserWarning: Couldn't retrieve source code for container of type LSTM. It won't be checked for correctness upon loading.\n",
      "  \"type \" + obj.__name__ + \". It won't be checked \"\n"
     ]
    },
    {
     "name": "stdout",
     "output_type": "stream",
     "text": [
      "('Training... Epoch: 50', 'Loss: 886.60175')\n",
      "('Training... Epoch: 100', 'Loss: 2307.1455')\n",
      "\u001b[031m('Testing... Epoch: 100', 'Loss: 666.823')\u001b[0m\n",
      "('Training... Epoch: 150', 'Loss: 3.0903046')\n",
      "('Training... Epoch: 200', 'Loss: 52.85273')\n",
      "\u001b[031m('Testing... Epoch: 200', 'Loss: 677.7195')\u001b[0m\n",
      "('Training... Epoch: 250', 'Loss: 20.154598')\n",
      "('Training... Epoch: 300', 'Loss: 21.223125')\n",
      "\u001b[031m('Testing... Epoch: 300', 'Loss: 683.96124')\u001b[0m\n",
      "('Training... Epoch: 350', 'Loss: 2013.7969')\n",
      "('Training... Epoch: 400', 'Loss: 2.134435')\n",
      "\u001b[031m('Testing... Epoch: 400', 'Loss: 694.5078')\u001b[0m\n",
      "('Training... Epoch: 450', 'Loss: 2.295079')\n",
      "('Training... Epoch: 500', 'Loss: 97.15054')\n",
      "\u001b[031m('Testing... Epoch: 500', 'Loss: 693.62775')\u001b[0m\n",
      "('Training... Epoch: 550', 'Loss: 5.249701')\n",
      "('Training... Epoch: 600', 'Loss: 5.5150495')\n",
      "\u001b[031m('Testing... Epoch: 600', 'Loss: 694.22186')\u001b[0m\n",
      "('Training... Epoch: 650', 'Loss: 1.8687472')\n",
      "('Training... Epoch: 700', 'Loss: 887.4197')\n",
      "\u001b[031m('Testing... Epoch: 700', 'Loss: 694.18304')\u001b[0m\n",
      "('Training... Epoch: 750', 'Loss: 4.7654085')\n",
      "('Training... Epoch: 800', 'Loss: 0.5710857')\n",
      "\u001b[031m('Testing... Epoch: 800', 'Loss: 694.237')\u001b[0m\n",
      "('Training... Epoch: 850', 'Loss: 1.768336')\n",
      "('Training... Epoch: 900', 'Loss: 126.117004')\n",
      "\u001b[031m('Testing... Epoch: 900', 'Loss: 694.4277')\u001b[0m\n",
      "('Training... Epoch: 950', 'Loss: 3.5282762')\n",
      "('Training... Epoch: 1000', 'Loss: 0.60840386')\n",
      "\u001b[031m('Testing... Epoch: 1000', 'Loss: 694.9713')\u001b[0m\n",
      "('Training... Epoch: 1050', 'Loss: 1138.5309')\n",
      "('Training... Epoch: 1100', 'Loss: 40.69762')\n",
      "\u001b[031m('Testing... Epoch: 1100', 'Loss: 694.9622')\u001b[0m\n",
      "('Training... Epoch: 1150', 'Loss: 19.387342')\n",
      "('Training... Epoch: 1200', 'Loss: 0.7406969')\n",
      "\u001b[031m('Testing... Epoch: 1200', 'Loss: 694.95905')\u001b[0m\n",
      "('Training... Epoch: 1250', 'Loss: 10.479025')\n",
      "('Training... Epoch: 1300', 'Loss: 4.7482934')\n",
      "\u001b[031m('Testing... Epoch: 1300', 'Loss: 694.94434')\u001b[0m\n",
      "('Training... Epoch: 1350', 'Loss: 777.71136')\n",
      "('Training... Epoch: 1400', 'Loss: 15.1642275')\n",
      "\u001b[031m('Testing... Epoch: 1400', 'Loss: 694.9346')\u001b[0m\n",
      "('Training... Epoch: 1450', 'Loss: 53.929283')\n",
      "('Training... Epoch: 1500', 'Loss: 3.48722')\n",
      "\u001b[031m('Testing... Epoch: 1500', 'Loss: 694.91815')\u001b[0m\n",
      "CPU times: user 13min 28s, sys: 56.4 s, total: 14min 24s\n",
      "Wall time: 1min 35s\n"
     ]
    }
   ],
   "source": [
    "%%time\n",
    "\n",
    "EPOCH = 1500\n",
    "TRAINLOSS = []\n",
    "TESTLOSS = []\n",
    "    \n",
    "for epoch in range(EPOCH):\n",
    "    \n",
    "    if (epoch+1) % 500 == 0:\n",
    "        optimizer.param_groups[0][\"lr\"] = 1e-5\n",
    "    if (epoch+1) % 1000 == 0:\n",
    "        optimizer.param_groups[0][\"lr\"] = 1e-7\n",
    "        \n",
    "    for b_train in Batch_train_set:\n",
    "        train_x = Variable(b_train[:,:-1].unsqueeze(1))\n",
    "        train_y = Variable(b_train[:,-1:])\n",
    "\n",
    "        net.train()\n",
    "        train_out = net(train_x)\n",
    "        train_loss = criterion(train_out, train_y)\n",
    "\n",
    "        optimizer.zero_grad()\n",
    "        train_loss.backward()\n",
    "        optimizer.step()\n",
    "    \n",
    "    TRAINLOSS.append(train_loss.data.numpy())\n",
    "    if (epoch+1) % 50 == 0:\n",
    "        torch.save(net, net_path)\n",
    "        torch.save(net.state_dict(), net_para_path)\n",
    "        #acc = torch.sum(torch.argmax(train_out, dim=1) == torch.argmax(train_y, dim=1)).data.numpy() / len(train_out)\n",
    "        printcontent = 'Training... Epoch: ' + str((epoch+1)), 'Loss: ' + str(train_loss.data.numpy()) \n",
    "        print(printcontent)\n",
    "        \n",
    "    if (epoch+1) % 100 == 0:\n",
    "        net.eval()\n",
    "        test_x = Variable(torch.FloatTensor(X_test_standard).unsqueeze(1))\n",
    "        test_y = Variable(torch.FloatTensor(y_test))\n",
    "        \n",
    "        test_out = net(test_x)\n",
    "        test_loss = criterion(test_out, test_y)\n",
    "        TESTLOSS.append(test_loss.data.numpy())\n",
    "        \n",
    "        #test_acc = torch.sum(torch.argmax(test_out, dim=1) == torch.argmax(test_y, dim=1)).data.numpy() / len(test_out)\n",
    "        printcontent = 'Testing... Epoch: ' + str((epoch+1)), 'Loss: ' + str(test_loss.data.numpy()) \n",
    "        print('\\033[031m{}\\033[0m'.format(printcontent))"
   ]
  },
  {
   "cell_type": "code",
   "execution_count": 19,
   "metadata": {},
   "outputs": [
    {
     "data": {
      "image/png": "[encoded data removed]",
      "text/plain": [
       "<Figure size 432x288 with 1 Axes>"
      ]
     },
     "metadata": {},
     "output_type": "display_data"
    }
   ],
   "source": [
    "plt.plot(range(len(TRAINLOSS)), TRAINLOSS, 'r--')\n",
    "plt.show()"
   ]
  },
  {
   "cell_type": "code",
   "execution_count": 20,
   "metadata": {},
   "outputs": [
    {
     "data": {
      "image/png": "[encoded data removed]",
      "text/plain": [
       "<Figure size 432x288 with 1 Axes>"
      ]
     },
     "metadata": {},
     "output_type": "display_data"
    }
   ],
   "source": [
    "plt.plot(range(len(TESTLOSS)), TESTLOSS, 'r--')\n",
    "plt.show()"
   ]
  },
  {
   "cell_type": "code",
   "execution_count": 21,
   "metadata": {},
   "outputs": [],
   "source": [
    "prediction = test_out.data.numpy()"
   ]
  },
  {
   "cell_type": "code",
   "execution_count": 22,
   "metadata": {},
   "outputs": [
    {
     "data": {
      "text/plain": [
       "(710, 1)"
      ]
     },
     "execution_count": 22,
     "metadata": {},
     "output_type": "execute_result"
    }
   ],
   "source": [
    "prediction.shape"
   ]
  },
  {
   "cell_type": "code",
   "execution_count": null,
   "metadata": {},
   "outputs": [],
   "source": []
  },
  {
   "cell_type": "code",
   "execution_count": 23,
   "metadata": {},
   "outputs": [],
   "source": [
    "pred_save_path = './Ten_years_Weight/LSTM_prediction.csv' \n",
    "true_save_path = './Ten_years_Weight/LSTM_true.csv'\n",
    "np.savetxt(pred_save_path, prediction, delimiter=\",\")\n",
    "np.savetxt(true_save_path, y_test, delimiter=\",\")"
   ]
  },
  {
   "cell_type": "code",
   "execution_count": 24,
   "metadata": {},
   "outputs": [],
   "source": [
    "from sklearn.metrics import mean_absolute_error\n",
    "from sklearn.metrics import mean_squared_error\n",
    "from sklearn.metrics import r2_score\n",
    "\n",
    "def caculate(true, prediction):\n",
    "    print(\"MSE: \", mean_squared_error(true, prediction))\n",
    "    print(\"RMSE: \", np.sqrt(mean_squared_error(true, prediction)))\n",
    "    print(\"MAE: \", mean_absolute_error(true, prediction))\n",
    "    print(\"R2: \", r2_score(true, prediction))"
   ]
  },
  {
   "cell_type": "code",
   "execution_count": 25,
   "metadata": {},
   "outputs": [
    {
     "name": "stdout",
     "output_type": "stream",
     "text": [
      "MSE:  694.9181712474773\n",
      "RMSE:  26.36130063649131\n",
      "MAE:  8.869286529950692\n",
      "R2:  -0.04031291366417866\n"
     ]
    }
   ],
   "source": [
    "caculate(y_test, prediction)"
   ]
  },
  {
   "cell_type": "code",
   "execution_count": 28,
   "metadata": {},
   "outputs": [
    {
     "data": {
      "image/png": "[encoded data removed]",
      "text/plain": [
       "<Figure size 432x288 with 1 Axes>"
      ]
     },
     "metadata": {},
     "output_type": "display_data"
    }
   ],
   "source": [
    "plt.plot(range(len(y_test[-100:])), y_test[-100:], \"r--\", label=\"True\")\n",
    "plt.plot(range(len(prediction[-100:])), prediction[-100:],\"b--\", label=\"Prediction\")\n",
    "plt.legend()\n",
    "plt.show()"
   ]
  },
  {
   "cell_type": "code",
   "execution_count": null,
   "metadata": {},
   "outputs": [],
   "source": []
  }
 ],
 "metadata": {
  "kernelspec": {
   "display_name": "Python 3",
   "language": "python",
   "name": "python3"
  },
  "language_info": {
   "codemirror_mode": {
    "name": "ipython",
    "version": 3
   },
   "file_extension": ".py",
   "mimetype": "text/x-python",
   "name": "python",
   "nbconvert_exporter": "python",
   "pygments_lexer": "ipython3",
   "version": "3.6.2"
  }
 },
 "nbformat": 4,
 "nbformat_minor": 2
}
