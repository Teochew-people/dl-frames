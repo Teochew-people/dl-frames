{
 "cells": [
  {
   "cell_type": "markdown",
   "metadata": {},
   "source": [
    "## 人工神经网络——Classification example"
   ]
  },
  {
   "cell_type": "code",
   "execution_count": 1,
   "metadata": {},
   "outputs": [],
   "source": [
    "from sklearn import datasets\n",
    "\n",
    "'''\n",
    "The regression example of the Boston dataset.\n",
    "'''\n",
    "\n",
    "digits = datasets.load_digits()\n",
    "\n",
    "X, y = digits.data, digits.target\n",
    "\n",
    "from sklearn.model_selection import train_test_split\n",
    "\n",
    "X_train, X_test, y_train, y_test = train_test_split(X, y, test_size=0.2, random_state=19)"
   ]
  },
  {
   "cell_type": "code",
   "execution_count": 2,
   "metadata": {},
   "outputs": [
    {
     "name": "stdout",
     "output_type": "stream",
     "text": [
      "(1437, 64)\n",
      "(1437,)\n"
     ]
    }
   ],
   "source": [
    "print(X_train.shape)\n",
    "print(y_train.shape)"
   ]
  },
  {
   "cell_type": "markdown",
   "metadata": {},
   "source": [
    "### 调用 DeeplearningRegression 里面的 ANN 框架"
   ]
  },
  {
   "cell_type": "code",
   "execution_count": 3,
   "metadata": {},
   "outputs": [],
   "source": [
    "from frames.DeeplearningClassification import ANN\n",
    "\n",
    "'''\n",
    "参数说明：\n",
    "hidden_layers: 每层神经元个数，传入 list\n",
    "learning rete: 学习率，这里可以是一个 float，也可以是一个 len=3 的 list，当 lr 是 list 的时候，采用梯度衰减策略\n",
    "activate function: 激活函数，默认 relu，改激活函数输入小写字符串即可，如：'tanh','sigmoid'\n",
    "dropout: 默认为 0，即不采用，这个参数是为了防止训练过拟合\n",
    "epoch: 训练批次，默认 2000\n",
    "batch_size: 默认 128\n",
    "'''\n",
    "ann = ANN(hidden_layers=[128, 64], learning_rate=[1e-3, 1e-5, 1e-7], epoch=1000, batch_size=256) # 采用梯度衰减策略"
   ]
  },
  {
   "cell_type": "code",
   "execution_count": 4,
   "metadata": {
    "scrolled": true
   },
   "outputs": [
    {
     "name": "stdout",
     "output_type": "stream",
     "text": [
      "Training... epoch: 100, loss: 0.1387593001127243, acc: 1.0\n",
      "Training... epoch: 200, loss: 0.02715243026614189, acc: 1.0\n",
      "Training... epoch: 300, loss: 0.012919330038130283, acc: 1.0\n",
      "Training... epoch: 400, loss: 0.00406399043276906, acc: 1.0\n",
      "Training... epoch: 500, loss: 0.00527482945472002, acc: 1.0\n",
      "Training... epoch: 600, loss: 0.002619046252220869, acc: 1.0\n",
      "Training... epoch: 700, loss: 0.002106332452967763, acc: 1.0\n",
      "Training... epoch: 800, loss: 0.0010046084644272923, acc: 1.0\n",
      "Training... epoch: 900, loss: 0.0004950830480083823, acc: 1.0\n",
      "Training... epoch: 1000, loss: 0.0003343867720104754, acc: 1.0\n",
      "Training completed!\n"
     ]
    }
   ],
   "source": [
    "ann.fit(X_train, y_train)"
   ]
  },
  {
   "cell_type": "markdown",
   "metadata": {},
   "source": [
    "### 调用 score 得到结果，调用 predict 得到值"
   ]
  },
  {
   "cell_type": "code",
   "execution_count": 5,
   "metadata": {},
   "outputs": [
    {
     "name": "stdout",
     "output_type": "stream",
     "text": [
      "acc: 0.9805555555555555, precision: 0.9809432234432235, recall: 0.9797543378031184, f1: 0.9799572830660953\n"
     ]
    }
   ],
   "source": [
    "ann.score(X_test, y_test)"
   ]
  },
  {
   "cell_type": "markdown",
   "metadata": {},
   "source": [
    "### 调用 result_plot 保存结果图"
   ]
  },
  {
   "cell_type": "code",
   "execution_count": 6,
   "metadata": {},
   "outputs": [
    {
     "data": {
      "image/png": "[encoded data removed]",
      "text/plain": [
       "<Figure size 432x288 with 2 Axes>"
      ]
     },
     "metadata": {
      "needs_background": "light"
     },
     "output_type": "display_data"
    },
    {
     "name": "stdout",
     "output_type": "stream",
     "text": [
      "Save the picture successfully!\n"
     ]
    }
   ],
   "source": [
    "import os\n",
    "\n",
    "save_path = './Example_save_resultes/Classification/save_pngs/'\n",
    "if not os.path.exists(save_path):\n",
    "    os.makedirs(save_path)\n",
    "    \n",
    "save_png = os.path.join(save_path, 'ann_picture.png')\n",
    "ann.confusion_matrix_result(X_test, y_test, save_file=save_png, is_show=True)"
   ]
  },
  {
   "cell_type": "markdown",
   "metadata": {},
   "source": [
    "### 保存模型结果, 这里有两个参数，统计 dataset 是否使用了 标准化 和 pca 的预处理"
   ]
  },
  {
   "cell_type": "code",
   "execution_count": 7,
   "metadata": {},
   "outputs": [
    {
     "name": "stdout",
     "output_type": "stream",
     "text": [
      "Save results success!\n"
     ]
    }
   ],
   "source": [
    "results_path = './Example_save_resultes/Classification/'\n",
    "if not os.path.exists(results_path):\n",
    "    os.makedirs(results_path)\n",
    "results_file = os.path.join(results_path, 'ann_result.csv')\n",
    "ann.save_result(results_file, is_standard=False, is_PCA=False)"
   ]
  },
  {
   "cell_type": "markdown",
   "metadata": {},
   "source": [
    "### 调用 loss_plot 查看训练过程， loss 的变化"
   ]
  },
  {
   "cell_type": "code",
   "execution_count": 8,
   "metadata": {},
   "outputs": [
    {
     "data": {
      "image/png": "[encoded data removed]",
      "text/plain": [
       "<Figure size 432x288 with 1 Axes>"
      ]
     },
     "metadata": {},
     "output_type": "display_data"
    }
   ],
   "source": [
    "ann.loss_plot()"
   ]
  },
  {
   "cell_type": "code",
   "execution_count": null,
   "metadata": {},
   "outputs": [],
   "source": []
  }
 ],
 "metadata": {
  "kernelspec": {
   "display_name": "Python 3",
   "language": "python",
   "name": "python3"
  },
  "language_info": {
   "codemirror_mode": {
    "name": "ipython",
    "version": 3
   },
   "file_extension": ".py",
   "mimetype": "text/x-python",
   "name": "python",
   "nbconvert_exporter": "python",
   "pygments_lexer": "ipython3",
   "version": "3.6.2"
  }
 },
 "nbformat": 4,
 "nbformat_minor": 2
}
